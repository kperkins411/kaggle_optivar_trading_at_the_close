{
 "cells": [
  {
   "cell_type": "code",
   "execution_count": 13,
   "id": "fba6fbe4-9cf5-4cbf-9633-c5fac6f7da69",
   "metadata": {},
   "outputs": [],
   "source": [
    "import gc  \n",
    "import os  \n",
    "import time  \n",
    "import warnings \n",
    "from itertools import combinations  \n",
    "from warnings import simplefilter \n",
    "import joblib  \n",
    "import playground.optivarfuncs as of\n",
    "import lightgbm as lgb  \n",
    "import numpy as np  \n",
    "import pandas as pd  \n",
    "from sklearn.metrics import mean_absolute_error \n",
    "from sklearn.model_selection import KFold, TimeSeriesSplit  \n",
    "warnings.filterwarnings(\"ignore\")\n",
    "simplefilter(action=\"ignore\", category=pd.errors.PerformanceWarning)\n",
    "is_offline = False \n",
    "is_train = True  \n",
    "is_infer = True \n",
    "max_lookback = np.nan \n",
    "split_day = 435  \n",
    "import polars as pl"
   ]
  },
  {
   "cell_type": "markdown",
   "id": "5f8438bf-2692-4ef1-b736-7c49532a2ab3",
   "metadata": {},
   "source": [
    "# Functions"
   ]
  },
  {
   "cell_type": "markdown",
   "id": "b40267af-acb7-4c17-a905-b33659850ecd",
   "metadata": {},
   "source": [
    "## Settings and helper Functions\n",
    "There are 480 dates, 5 days a week or 96 weeks"
   ]
  },
  {
   "cell_type": "code",
   "execution_count": 14,
   "id": "b4218260-02b6-4520-b479-0f94415818d2",
   "metadata": {},
   "outputs": [],
   "source": [
    "class CONFIG:    \n",
    "    #take last 3 months worth? or roughly 12*5=60.  So we want from (480-60) to 480\n",
    "    # start_date=420\n",
    "\n",
    "    #take last 1 months worth? or roughly 4*5=20.  So we want from (480-20) to 480\n",
    "    start_date=460\n",
    "    doHyperParamOptimization=False  #if true, #need train test and validation sets\n",
    "    doTrainModel= True #if true, #need train and test sets\n",
    "    runOnKaggle=True #if true, then concat all datasets before calculating features for Kaggle data\n",
    "\n",
    "    use_subset_of_data=False"
   ]
  },
  {
   "cell_type": "code",
   "execution_count": 15,
   "id": "c25409c9-8673-48db-8395-6ea8278ba94a",
   "metadata": {},
   "outputs": [
    {
     "data": {
      "text/plain": [
       "8"
      ]
     },
     "execution_count": 15,
     "metadata": {},
     "output_type": "execute_result"
    }
   ],
   "source": [
    "from gc import collect;\n",
    "collect()"
   ]
  },
  {
   "cell_type": "code",
   "execution_count": 16,
   "id": "50d9d1a4-527b-4ca5-9a77-fd6f82980759",
   "metadata": {},
   "outputs": [
    {
     "data": {
      "text/plain": [
       "'RAM usage = 2.504 GB'"
      ]
     },
     "execution_count": 16,
     "metadata": {},
     "output_type": "execute_result"
    }
   ],
   "source": [
    "# Tracking kernel memory usage:-  \n",
    "from os import path, walk, getpid;\n",
    "from psutil import Process;\n",
    "def GetMemUsage():\n",
    "    \"\"\"\n",
    "    This function defines the memory usage across the kernel. \n",
    "    Source-\n",
    "    https://stackoverflow.com/questions/61366458/how-to-find-memory-usage-of-kaggle-notebook\n",
    "    \"\"\";\n",
    "    \n",
    "    pid = getpid();\n",
    "    py = Process(pid);\n",
    "    memory_use = py.memory_info()[0] / 2. ** 30;\n",
    "    return f\"RAM usage = {memory_use :.4} GB\";\n",
    "\n",
    "def cleanup(df):\n",
    "    try:\n",
    "        del df\n",
    "        df=None\n",
    "    except:\n",
    "        pass\n",
    "    collect()\n",
    "    return GetMemUsage()\n",
    "\n",
    "GetMemUsage()"
   ]
  },
  {
   "cell_type": "code",
   "execution_count": 17,
   "id": "1fa01967-0859-4477-b5f2-5e378a680b20",
   "metadata": {
    "papermill": {
     "duration": null,
     "end_time": null,
     "exception": null,
     "start_time": null,
     "status": "pending"
    },
    "tags": []
   },
   "outputs": [],
   "source": [
    "#logging\n",
    "import logging\n",
    "# set up logging to file - see previous section for more details\n",
    "logging.basicConfig(level=logging.INFO,\n",
    "                    filename='logg.log',\n",
    "                    filemode='w')\n",
    "# define a Handler which writes INFO messages or higher to the sys.stderr\n",
    "console = logging.StreamHandler()\n",
    "# add the handler to the root logger\n",
    "logging.getLogger().addHandler(console)\n",
    "logger=logging.getLogger()\n",
    "\n",
    "#use following to enable and disable\n",
    "# logger.disabled = True\n",
    "\n",
    "def reduce_mem_usage(df, verbose=True):\n",
    "    start_mem = df.memory_usage().sum() / 1024**2\n",
    "    for col in df.columns:\n",
    "        col_type = df[col].dtype\n",
    "        if col_type != object:\n",
    "            c_min = df[col].min()\n",
    "            c_max = df[col].max()\n",
    "            \n",
    "            if str(col_type)[:3] == \"int\":\n",
    "                if c_min > np.iinfo(np.int8).min and c_max < np.iinfo(np.int8).max:\n",
    "                    df[col] = df[col].astype(np.int8)\n",
    "                elif c_min > np.iinfo(np.int16).min and c_max < np.iinfo(np.int16).max:\n",
    "                    df[col] = df[col].astype(np.int16)\n",
    "                elif c_min > np.iinfo(np.int32).min and c_max < np.iinfo(np.int32).max:\n",
    "                    df[col] = df[col].astype(np.int32)\n",
    "                elif c_min > np.iinfo(np.int64).min and c_max < np.iinfo(np.int64).max:\n",
    "                    df[col] = df[col].astype(np.int64)\n",
    "            else:\n",
    "               \n",
    "                if c_min > np.finfo(np.float16).min and c_max < np.finfo(np.float16).max:\n",
    "                    df[col] = df[col].astype(np.float32)\n",
    "                elif c_min > np.finfo(np.float32).min and c_max < np.finfo(np.float32).max:\n",
    "                    df[col] = df[col].astype(np.float32)\n",
    "                else:\n",
    "                    df[col] = df[col].astype(np.float32)\n",
    "    if verbose:\n",
    "        logger.info(f\"Memory usage of dataframe is {start_mem:.2f} MB\")\n",
    "        end_mem = df.memory_usage().sum() / 1024**2\n",
    "        logger.info(f\"Memory usage after optimization is: {end_mem:.2f} MB\")\n",
    "        decrease = 100 * (start_mem - end_mem) / start_mem\n",
    "        logger.info(f\"Decreased by {decrease:.2f}%\")\n",
    "    return df\n"
   ]
  },
  {
   "cell_type": "markdown",
   "id": "9f862245-b182-4273-af6a-66076e708d46",
   "metadata": {
    "papermill": {
     "duration": 0.007269,
     "end_time": "2023-12-11T06:19:10.995858",
     "exception": false,
     "start_time": "2023-12-11T06:19:10.988589",
     "status": "completed"
    },
    "tags": []
   },
   "source": [
    "## Parallel Triplet Imbalance Calculation function"
   ]
  },
  {
   "cell_type": "code",
   "execution_count": 18,
   "id": "b2f409dd-2326-46d5-af2d-48d32e0e71ec",
   "metadata": {
    "papermill": {
     "duration": 0.595412,
     "end_time": "2023-12-11T06:19:11.598699",
     "exception": false,
     "start_time": "2023-12-11T06:19:11.003287",
     "status": "completed"
    },
    "tags": []
   },
   "outputs": [],
   "source": [
    "from numba import njit, prange\n",
    "\n",
    "@njit(parallel=True)\n",
    "def compute_triplet_imbalance(df_values, comb_indices):\n",
    "    num_rows = df_values.shape[0]\n",
    "    num_combinations = len(comb_indices)\n",
    "    imbalance_features = np.empty((num_rows, num_combinations))\n",
    "    for i in prange(num_combinations):\n",
    "        a, b, c = comb_indices[i]\n",
    "        for j in range(num_rows):\n",
    "            max_val = max(df_values[j, a], df_values[j, b], df_values[j, c])\n",
    "            min_val = min(df_values[j, a], df_values[j, b], df_values[j, c])\n",
    "            mid_val = df_values[j, a] + df_values[j, b] + df_values[j, c] - min_val - max_val\n",
    "            \n",
    "            if mid_val == min_val:\n",
    "                imbalance_features[j, i] = np.nan\n",
    "            else:\n",
    "                imbalance_features[j, i] = (max_val - mid_val) / (mid_val - min_val)\n",
    "\n",
    "    return imbalance_features\n",
    "\n",
    "def calculate_triplet_imbalance_numba(price, df):\n",
    "    df_values = df[price].values\n",
    "    comb_indices = [(price.index(a), price.index(b), price.index(c)) for a, b, c in combinations(price, 3)]\n",
    "    features_array = compute_triplet_imbalance(df_values, comb_indices)\n",
    "    columns = [f\"{a}_{b}_{c}_imb2\" for a, b, c in combinations(price, 3)]\n",
    "    features = pd.DataFrame(features_array, columns=columns)\n",
    "    return features\n"
   ]
  },
  {
   "cell_type": "markdown",
   "id": "4290b60b-5ab5-458c-9ed9-fe3803a14443",
   "metadata": {
    "papermill": {
     "duration": 0.007346,
     "end_time": "2023-12-11T06:19:11.613752",
     "exception": false,
     "start_time": "2023-12-11T06:19:11.606406",
     "status": "completed"
    },
    "tags": []
   },
   "source": [
    "## Feature Generation Functions "
   ]
  },
  {
   "cell_type": "code",
   "execution_count": 19,
   "id": "08f21a3d-a940-47cd-be05-dcb107467d4f",
   "metadata": {},
   "outputs": [],
   "source": [
    "from tqdm import tqdm\n",
    "# from tqdm.auto import tqdm  # for notebooks\n",
    "\n",
    "# Create new `pandas` methods which use `tqdm` progress\n",
    "# (can use tqdm_gui, optional kwargs, etc.)\n",
    "tqdm.pandas()"
   ]
  },
  {
   "cell_type": "code",
   "execution_count": 20,
   "id": "cff5b11d",
   "metadata": {
    "papermill": {
     "duration": 0.035825,
     "end_time": "2023-12-11T06:19:11.656942",
     "exception": false,
     "start_time": "2023-12-11T06:19:11.621117",
     "status": "completed"
    },
    "tags": []
   },
   "outputs": [],
   "source": [
    "def imbalance_features(df):\n",
    "    # Define lists of price and size-related column names\n",
    "    prices = [\"reference_price\", \"far_price\", \"near_price\", \"ask_price\", \"bid_price\", \"wap\"]\n",
    "    sizes = [\"matched_size\", \"bid_size\", \"ask_size\", \"imbalance_size\"]\n",
    "    \n",
    "    df[\"volume\"] = df.eval(\"ask_size + bid_size\")\n",
    "    df[\"mid_price\"] = df.eval(\"(ask_price + bid_price) / 2\")\n",
    "    df[\"liquidity_imbalance\"] = df.eval(\"(bid_size-ask_size)/(bid_size+ask_size)\")\n",
    "    df[\"matched_imbalance\"] = df.eval(\"(imbalance_size-matched_size)/(matched_size+imbalance_size)\")\n",
    "    df[\"size_imbalance\"] = df.eval(\"bid_size / ask_size\")\n",
    "\n",
    "    for c in combinations(prices, 2):\n",
    "        df[f\"{c[0]}_{c[1]}_imb\"] = df.eval(f\"({c[0]} - {c[1]})/({c[0]} + {c[1]})\")\n",
    "\n",
    "    for c in [['ask_price', 'bid_price', 'wap', 'reference_price'], sizes]:\n",
    "        triplet_feature = calculate_triplet_imbalance_numba(c, df)\n",
    "        df[triplet_feature.columns] = triplet_feature.values\n",
    "    \n",
    "    df[\"stock_weights\"] = df[\"stock_id\"].map(weights)\n",
    "    df[\"weighted_wap\"] = df[\"stock_weights\"] * df[\"wap\"]\n",
    "    df['wap_momentum'] = df.groupby('stock_id')['weighted_wap'].pct_change(periods=6)\n",
    "   \n",
    "    df[\"imbalance_momentum\"] = df.groupby(['stock_id'])['imbalance_size'].diff(periods=1) / df['matched_size']\n",
    "    df[\"price_spread\"] = df[\"ask_price\"] - df[\"bid_price\"]\n",
    "    df[\"spread_intensity\"] = df.groupby(['stock_id'])['price_spread'].diff()\n",
    "    df['price_pressure'] = df['imbalance_size'] * (df['ask_price'] - df['bid_price'])\n",
    "    df['market_urgency'] = df['price_spread'] * df['liquidity_imbalance']\n",
    "    df['depth_pressure'] = (df['ask_size'] - df['bid_size']) * (df['far_price'] - df['near_price'])\n",
    "    \n",
    "    df['spread_depth_ratio'] = (df['ask_price'] - df['bid_price']) / (df['bid_size'] + df['ask_size'])\n",
    "    df['mid_price_movement'] = df['mid_price'].diff(periods=5).apply(lambda x: 1 if x > 0 else (-1 if x < 0 else 0))\n",
    "    \n",
    "    df['micro_price'] = ((df['bid_price'] * df['ask_size']) + (df['ask_price'] * df['bid_size'])) / (df['bid_size'] + df['ask_size'])\n",
    "    df['relative_spread'] = (df['ask_price'] - df['bid_price']) / df['wap']\n",
    "    \n",
    "    # Calculate various statistical aggregation features\n",
    "    for func in [\"mean\", \"std\", \"skew\", \"kurt\"]:\n",
    "        df[f\"all_prices_{func}\"] = df[prices].agg(func, axis=1)\n",
    "        df[f\"all_sizes_{func}\"] = df[sizes].agg(func, axis=1)\n",
    "        \n",
    "\n",
    "    for col in ['matched_size', 'imbalance_size', 'reference_price', 'imbalance_buy_sell_flag']:\n",
    "        for window in [1,3,5,10]:\n",
    "            df[f\"{col}_shift_{window}\"] = df.groupby('stock_id')[col].shift(window)\n",
    "            df[f\"{col}_ret_{window}\"] = df.groupby('stock_id')[col].pct_change(window)\n",
    "    \n",
    "    # Calculate diff features for specific columns\n",
    "    for col in ['ask_price', 'bid_price', 'ask_size', 'bid_size', 'weighted_wap','price_spread']:\n",
    "        for window in [1,3,5,10]:\n",
    "            df[f\"{col}_diff_{window}\"] = df.groupby(\"stock_id\")[col].diff(window)\n",
    "    \n",
    "    #V4 feature\n",
    "    for window in [3,5,10]:\n",
    "        df[f'price_change_diff_{window}'] = df[f'bid_price_diff_{window}'] - df[f'ask_price_diff_{window}']\n",
    "        df[f'size_change_diff_{window}'] = df[f'bid_size_diff_{window}'] - df[f'ask_size_diff_{window}']\n",
    "\n",
    "    #V5 - rolling diff\n",
    "    # Convert from pandas to Polars\n",
    "    pl_df = pl.from_pandas(df)\n",
    "\n",
    "    #Define the windows and columns for which you want to calculate the rolling statistics\n",
    "    windows = [3, 5, 10]\n",
    "    columns = ['ask_price', 'bid_price', 'ask_size', 'bid_size']\n",
    "\n",
    "    # prepare the operations for each column and window\n",
    "    group = [\"stock_id\"]\n",
    "    expressions = []\n",
    "\n",
    "    # Loop over each window and column to create the rolling mean and std expressions\n",
    "    for window in windows:\n",
    "        for col in columns:\n",
    "            rolling_mean_expr = (\n",
    "                pl.col(f\"{col}_diff_{window}\")\n",
    "                .rolling_mean(window)\n",
    "                .over(group)\n",
    "                .alias(f'rolling_diff_{col}_{window}')\n",
    "            )\n",
    "\n",
    "            rolling_std_expr = (\n",
    "                pl.col(f\"{col}_diff_{window}\")\n",
    "                .rolling_std(window)\n",
    "                .over(group)\n",
    "                .alias(f'rolling_std_diff_{col}_{window}')\n",
    "            )\n",
    "\n",
    "            expressions.append(rolling_mean_expr)\n",
    "            expressions.append(rolling_std_expr)\n",
    "\n",
    "    # Run the operations using Polars' lazy API\n",
    "    lazy_df = pl_df.lazy().with_columns(expressions)\n",
    "\n",
    "    # Execute the lazy expressions and overwrite the pl_df variable\n",
    "    pl_df = lazy_df.collect()\n",
    "\n",
    "    # Convert back to pandas if necessary\n",
    "    df = pl_df.to_pandas()\n",
    "    gc.collect()\n",
    "    \n",
    "    df['mid_price*volume'] = df['mid_price_movement'] * df['volume']\n",
    "    df['harmonic_imbalance'] = df.eval('2 / ((1 / bid_size) + (1 / ask_size))')\n",
    "    \n",
    "    for col in df.columns:\n",
    "        df[col] = df[col].replace([np.inf, -np.inf], 0)\n",
    "\n",
    "    return df\n",
    "\n",
    "def other_features(df):\n",
    "    df[\"dow\"] = df[\"date_id\"] % 5  # Day of the week\n",
    "    df[\"seconds\"] = df[\"seconds_in_bucket\"] % 60  \n",
    "    df[\"minute\"] = df[\"seconds_in_bucket\"] // 60  \n",
    "    df['time_to_market_close'] = 540 - df['seconds_in_bucket']\n",
    "    \n",
    "    for key, value in global_stock_id_feats.items():\n",
    "        df[f\"global_{key}\"] = df[\"stock_id\"].map(value.to_dict())\n",
    "\n",
    "    return df\n",
    "\n",
    "def generate_all_features(df):\n",
    "    #infer near and far prices\n",
    "    bs=of.bfs(['near_price','far_price'],df,None)\n",
    "    df = df.progress_apply(bs.backfill, axis=1)\n",
    "    \n",
    "    # Select relevant columns for feature generation\n",
    "    cols = [c for c in df.columns if c not in [\"row_id\", \"time_id\", \"target\"]]\n",
    "    df = df[cols]\n",
    "    \n",
    "    # Generate imbalance features\n",
    "    df = imbalance_features(df)\n",
    "    gc.collect() \n",
    "    df = other_features(df)\n",
    "    gc.collect()  \n",
    "    feature_name = [i for i in df.columns if i not in [\"row_id\", \"target\", \"time_id\", \"date_id\"]]\n",
    "    \n",
    "    return df[feature_name]\n"
   ]
  },
  {
   "cell_type": "markdown",
   "id": "04326afa-4bdf-4887-b11f-28f4d354dbb5",
   "metadata": {
    "papermill": {
     "duration": null,
     "end_time": null,
     "exception": null,
     "start_time": null,
     "status": "pending"
    },
    "tags": []
   },
   "source": [
    "# Data Loading and Preprocessing "
   ]
  },
  {
   "cell_type": "code",
   "execution_count": 21,
   "id": "3041840a-8cb4-43c0-868a-72eede03b998",
   "metadata": {},
   "outputs": [],
   "source": [
    "# df = pd.read_csv(\"/kaggle/input/optiver-trading-at-the-close/train.csv\")\n",
    "df = pd.read_csv(\"./data/train.csv\")\n",
    "\n",
    "df = df.dropna(subset=[\"target\"])  #drop all rows with NaN in target\n",
    "df.reset_index(drop=True, inplace=True)\n",
    "df_shape = df.shape\n",
    "GetMemUsage()"
   ]
  },
  {
   "cell_type": "code",
   "execution_count": 22,
   "id": "233d85f7-a67e-40f5-90c0-82201e8ca4b8",
   "metadata": {},
   "outputs": [
    {
     "name": "stdout",
     "output_type": "stream",
     "text": [
      "df shape=(5237892, 17)\n"
     ]
    }
   ],
   "source": [
    "if(CONFIG.use_subset_of_data):\n",
    "    #just take the last 4 weeks\n",
    "    df=df[df.date_id>CONFIG.start_date]\n",
    "print(f'df shape={df.shape}')"
   ]
  },
  {
   "cell_type": "markdown",
   "id": "93c32397-ca20-48b6-80fc-477a41f24fc4",
   "metadata": {
    "papermill": {
     "duration": 0.007465,
     "end_time": "2023-12-11T06:19:11.700730",
     "exception": false,
     "start_time": "2023-12-11T06:19:11.693265",
     "status": "completed"
    },
    "tags": []
   },
   "source": [
    "# Data Splitting"
   ]
  },
  {
   "cell_type": "code",
   "execution_count": 23,
   "id": "42cc7947-910d-40dc-b63c-4cbe7ac285f9",
   "metadata": {},
   "outputs": [
    {
     "name": "stdout",
     "output_type": "stream",
     "text": [
      "For days[  0   1   2   3   4   5   6   7   8   9  10  11  12  13  14  15  16  17\n",
      "  18  19  20  21  22  23  24  25  26  27  28  29  30  31  32  33  34  35\n",
      "  36  37  38  39  40  41  42  43  44  45  46  47  48  49  50  51  52  53\n",
      "  54  55  56  57  58  59  60  61  62  63  64  65  66  67  68  69  70  71\n",
      "  72  73  74  75  76  77  78  79  80  81  82  83  84  85  86  87  88  89\n",
      "  90  91  92  93  94  95  96  97  98  99 100 101 102 103 104 105 106 107\n",
      " 108 109 110 111 112 113 114 115 116 117 118 119 120 121 122 123 124 125\n",
      " 126 127 128 129 130 131 132 133 134 135 136 137 138 139 140 141 142 143\n",
      " 144 145 146 147 148 149 150 151 152 153 154 155 156 157 158 159 160 161\n",
      " 162 163 164 165 166 167 168 169 170 171 172 173 174 175 176 177 178 179\n",
      " 180 181 182 183 184 185 186 187 188 189 190 191 192 193 194 195 196 197\n",
      " 198 199 200 201 202 203 204 205 206 207 208 209 210 211 212 213 214 215\n",
      " 216 217 218 219 220 221 222 223 224 225 226 227 228 229 230 231 232 233\n",
      " 234 235 236 237 238 239 240 241 242 243 244 245 246 247 248 249 250 251\n",
      " 252 253 254 255 256 257 258 259 260 261 262 263 264 265 266 267 268 269\n",
      " 270 271 272 273 274 275 276 277 278 279 280 281 282 283 284 285 286 287\n",
      " 288 289 290 291 292 293 294 295 296 297 298 299 300 301 302 303 304 305\n",
      " 306 307 308 309 310 311 312 313 314 315 316 317 318 319 320 321 322 323\n",
      " 324 325 326 327 328 329 330 331 332 333 334 335 336 337 338 339 340 341\n",
      " 342 343 344 345 346 347 348 349 350 351 352 353 354 355 356 357 358 359\n",
      " 360 361 362 363 364 365 366 367 368 369 370 371 372 373 374 375 376 377\n",
      " 378 379 380 381 382 383 384 385 386 387 388 389 390 391 392 393 394 395\n",
      " 396 397 398 399 400 401 402 403 404 405 406 407 408 409 410 411 412 413\n",
      " 414 415 416 417 418 419 420 421 422 423 424 425 426 427 428 429 430 431\n",
      " 432 433 434 435 436 437 438 439 440 441 442 443 444 445 446 447 448 449\n",
      " 450 451 452 453 454 455 456 457 458 459 460 461 462 463 464 465 466 467\n",
      " 468 469 470 471 472 473 474 475 476 477 478 479 480] and val_size=0.2, split day=384\n",
      "For days[384 385 386 387 388 389 390 391 392 393 394 395 396 397 398 399 400 401\n",
      " 402 403 404 405 406 407 408 409 410 411 412 413 414 415 416 417 418 419\n",
      " 420 421 422 423 424 425 426 427 428 429 430 431 432 433 434 435 436 437\n",
      " 438 439 440 441 442 443 444 445 446 447 448 449 450 451 452 453 454 455\n",
      " 456 457 458 459 460 461 462 463 464 465 466 467 468 469 470 471 472 473\n",
      " 474 475 476 477 478 479 480] and val_size=0.5, split day=432\n",
      "len(X_train)=4170948 and len(X_val)=527945, len(X_tst)=538999\n",
      "train size=0.7963027874572443, val size=0.10079341078433843, tst size=0.10290380175841732\n"
     ]
    }
   ],
   "source": [
    "if ( doHyperParamOptimization == True):\n",
    "    #need train validation and test sets\n",
    "    df_train, df_valid, df_tst, y_train, y_valid, y_tst =of.get3_DatasetAndTarget(df, dep_var='target', val_size=0.1, test_size=0.1,verbose = False)\n",
    "else if ( doTrainModel == True):\n",
    "    #just need a train and a valid set\n",
    "    df_train, df_valid, y_train, y_valid =of.get2_DatasetAndTarget(df, dep_var='target', val_size=0.1,verbose = False)    \n",
    "GetMemUsage()"
   ]
  },
  {
   "cell_type": "code",
   "execution_count": 92,
   "id": "d4257ab9-fc7c-42d6-874f-6915191cf25d",
   "metadata": {},
   "outputs": [
    {
     "data": {
      "text/plain": [
       "'RAM usage = 16.15 GB'"
      ]
     },
     "execution_count": 92,
     "metadata": {},
     "output_type": "execute_result"
    }
   ],
   "source": [
    "cleanup(df)"
   ]
  },
  {
   "cell_type": "markdown",
   "id": "7946d97b-e767-4921-b178-6f5f9177ba17",
   "metadata": {},
   "source": [
    "# Calculate features"
   ]
  },
  {
   "cell_type": "code",
   "execution_count": 24,
   "id": "59227a87-7e65-46c3-b185-e16d762572ff",
   "metadata": {
    "papermill": {
     "duration": 0.021163,
     "end_time": "2023-12-11T06:19:11.685439",
     "exception": false,
     "start_time": "2023-12-11T06:19:11.664276",
     "status": "completed"
    },
    "tags": []
   },
   "outputs": [],
   "source": [
    "weights = [\n",
    "    0.004, 0.001, 0.002, 0.006, 0.004, 0.004, 0.002, 0.006, 0.006, 0.002, 0.002, 0.008,\n",
    "    0.006, 0.002, 0.008, 0.006, 0.002, 0.006, 0.004, 0.002, 0.004, 0.001, 0.006, 0.004,\n",
    "    0.002, 0.002, 0.004, 0.002, 0.004, 0.004, 0.001, 0.001, 0.002, 0.002, 0.006, 0.004,\n",
    "    0.004, 0.004, 0.006, 0.002, 0.002, 0.04 , 0.002, 0.002, 0.004, 0.04 , 0.002, 0.001,\n",
    "    0.006, 0.004, 0.004, 0.006, 0.001, 0.004, 0.004, 0.002, 0.006, 0.004, 0.006, 0.004,\n",
    "    0.006, 0.004, 0.002, 0.001, 0.002, 0.004, 0.002, 0.008, 0.004, 0.004, 0.002, 0.004,\n",
    "    0.006, 0.002, 0.004, 0.004, 0.002, 0.004, 0.004, 0.004, 0.001, 0.002, 0.002, 0.008,\n",
    "    0.02 , 0.004, 0.006, 0.002, 0.02 , 0.002, 0.002, 0.006, 0.004, 0.002, 0.001, 0.02,\n",
    "    0.006, 0.001, 0.002, 0.004, 0.001, 0.002, 0.006, 0.006, 0.004, 0.006, 0.001, 0.002,\n",
    "    0.004, 0.006, 0.006, 0.001, 0.04 , 0.006, 0.002, 0.004, 0.002, 0.002, 0.006, 0.002,\n",
    "    0.002, 0.004, 0.006, 0.006, 0.002, 0.002, 0.008, 0.006, 0.004, 0.002, 0.006, 0.002,\n",
    "    0.004, 0.006, 0.002, 0.004, 0.001, 0.004, 0.002, 0.004, 0.008, 0.006, 0.008, 0.002,\n",
    "    0.004, 0.002, 0.001, 0.004, 0.004, 0.004, 0.006, 0.008, 0.004, 0.001, 0.001, 0.002,\n",
    "    0.006, 0.004, 0.001, 0.002, 0.006, 0.004, 0.006, 0.008, 0.002, 0.002, 0.004, 0.002,\n",
    "    0.04 , 0.002, 0.002, 0.004, 0.002, 0.002, 0.006, 0.02 , 0.004, 0.002, 0.006, 0.02,\n",
    "    0.001, 0.002, 0.006, 0.004, 0.006, 0.004, 0.004, 0.004, 0.004, 0.002, 0.004, 0.04,\n",
    "    0.002, 0.008, 0.002, 0.004, 0.001, 0.004, 0.006, 0.004,\n",
    "]\n",
    "weights = {int(k):v for k,v in enumerate(weights)}"
   ]
  },
  {
   "cell_type": "code",
   "execution_count": null,
   "id": "753ffeac-41e4-410c-b594-76cd89878b82",
   "metadata": {},
   "outputs": [],
   "source": [
    "%%time\n",
    "global_stock_id_feats = {\n",
    "        \"median_size\": df_train.groupby(\"stock_id\")[\"bid_size\"].median() + df_train.groupby(\"stock_id\")[\"ask_size\"].median(),\n",
    "        \"std_size\": df_train.groupby(\"stock_id\")[\"bid_size\"].std() + df_train.groupby(\"stock_id\")[\"ask_size\"].std(),\n",
    "        \"ptp_size\": df_train.groupby(\"stock_id\")[\"bid_size\"].max() - df_train.groupby(\"stock_id\")[\"bid_size\"].min(),\n",
    "        \"median_price\": df_train.groupby(\"stock_id\")[\"bid_price\"].median() + df_train.groupby(\"stock_id\")[\"ask_price\"].median(),\n",
    "        \"std_price\": df_train.groupby(\"stock_id\")[\"bid_price\"].std() + df_train.groupby(\"stock_id\")[\"ask_price\"].std(),\n",
    "        \"ptp_price\": df_train.groupby(\"stock_id\")[\"bid_price\"].max() - df_train.groupby(\"stock_id\")[\"ask_price\"].min(),\n",
    "    }\n",
    "df_train_feats = generate_all_features(df_train)\n",
    "print(\"Build Train Feats Finished.\")\n",
    "df_valid_feats = generate_all_features(df_valid)\n",
    "print(\"Build Valid Feats Finished.\")\n",
    "\n",
    "if(doHyperParamOptimization==True):\n",
    "    df_tst_feats = generate_all_features(df_tst)\n",
    "    print(\"Build tst Feats Finished.\")\n",
    "\n",
    "GetMemUsage()"
   ]
  },
  {
   "cell_type": "markdown",
   "id": "e9ad598a-e2a9-4b0d-88d8-73ac42a1ee17",
   "metadata": {},
   "source": [
    "# Reduce memory"
   ]
  },
  {
   "cell_type": "code",
   "execution_count": 26,
   "id": "23f55203-46f6-4863-a2c0-fd9c476990db",
   "metadata": {},
   "outputs": [
    {
     "data": {
      "text/plain": [
       "'RAM usage = 8.269 GB'"
      ]
     },
     "execution_count": 26,
     "metadata": {},
     "output_type": "execute_result"
    }
   ],
   "source": [
    "df_train_feats = reduce_mem_usage(df_train_feats)\n",
    "df_valid_feats = reduce_mem_usage(df_valid_feats)\n",
    "if(doHyperParamOptimization==True):\n",
    "    df_tst_feats = reduce_mem_usage(df_tst_feats)"
   ]
  },
  {
   "cell_type": "markdown",
   "id": "18a6d3ff-2611-45dd-8058-bb6802d73d9a",
   "metadata": {},
   "source": [
    "# Save and Reload df"
   ]
  },
  {
   "cell_type": "code",
   "execution_count": 27,
   "id": "852cd93c-ec1b-4bee-9815-a3272302a275",
   "metadata": {},
   "outputs": [],
   "source": [
    "df_train_feats.to_parquet(\"./tof_train.parquet\")\n",
    "df_valid_feats.to_parquet(\"./tof_valid.parquet\")\n",
    "if(doHyperParamOptimization==True):\n",
    "    df_tst_feats.to_parquet(\"./tof_tst.parquet\")"
   ]
  },
  {
   "cell_type": "code",
   "execution_count": 28,
   "id": "c2d9c7f9-1e26-41b9-9c12-b41e929f6fb4",
   "metadata": {},
   "outputs": [],
   "source": [
    "df_train_feats=pd.read_parquet(\"./tof_train.parquet\")\n",
    "df_valid_feats=pd.read_parquet(\"./tof_valid.parquet\")\n",
    "if(doHyperParamOptimization==True):\n",
    "    df_tst_feats=pd.read_parquet(\"./tof_tst.parquet\")"
   ]
  },
  {
   "cell_type": "markdown",
   "id": "0b2bec50-1184-4226-9616-81a2b2800da2",
   "metadata": {},
   "source": [
    "# Hyperparameter Optimization\n",
    "\n",
    "Evaluation via Cross Validation with TimeSeriesSplit¶"
   ]
  },
  {
   "cell_type": "code",
   "execution_count": 56,
   "id": "1bd6e6ed-5a4b-4d13-a6a6-ff2498f85069",
   "metadata": {},
   "outputs": [],
   "source": [
    "def evaluate_simple(model, X, y):   \n",
    "\n",
    "    y_pred = model.predict(X)\n",
    "    return mean_absolute_error(y_pred, y_tst)\n",
    "import lightgbm as lgb\n",
    "import sklearn.datasets\n",
    "import sklearn.metrics\n",
    "# FYI: Objective functions can take additional arguments\n",
    "# (https://optuna.readthedocs.io/en/stable/faq.html#objective-func-additional-args).\n",
    "# train_x=pd.concat([df_train_feats, df_val_feats])\n",
    "# train_y=pd.concat([y_train, y_valid])\n",
    "def objective(trial):\n",
    "\n",
    "    param = {\n",
    "        \"objective\": \"mae\",\n",
    "        'n_estimators': 6000,\n",
    "        'num_leaves' : trial.suggest_int('num_leaves', 200,300),\n",
    "        \"subsample\": 0.6,\n",
    "        \"colsample_bytree\": 0.8,\n",
    "        'learning_rate': trial.suggest_categorical('learning_rate', [0.01,0.014,0.017,0.02]),\n",
    "        'max_depth': trial.suggest_categorical('max_depth', [10,11,12]),\n",
    "        \"n_jobs\": 4,\n",
    "        \"device\": \"gpu\",\n",
    "        \"verbosity\": -1,\n",
    "        \"objective\": \"mae\",\n",
    "        'random_state': 48,\n",
    "        \n",
    "        'reg_alpha': trial.suggest_loguniform('reg_alpha', .15, .25),\n",
    "        'reg_lambda': trial.suggest_loguniform('reg_lambda', 2.5, 4),\n",
    "        \n",
    "        'max_depth': trial.suggest_categorical('max_depth', [10,11,12])\n",
    "    }\n",
    "    model = lgb.LGBMRegressor(**param)  \n",
    "    \n",
    "    model.fit(df_train_feats,y_train,eval_set=[(df_valid_feats,y_valid)], callbacks=[lgb.early_stopping(stopping_rounds=100, verbose=True),lgb.callback.log_evaluation(period=100)])\n",
    "\n",
    "    y_pred = model.predict(df_tst_feats)\n",
    "    score = mean_absolute_error(y_tst, y_pred)\n",
    "    return score"
   ]
  },
  {
   "cell_type": "code",
   "execution_count": null,
   "id": "a3b15c73-0492-450c-bf80-c3dbdf9d2b40",
   "metadata": {},
   "outputs": [],
   "source": [
    "if doHyperParamOptimization==True:\n",
    "    import optuna\n",
    "    study = optuna.create_study(direction='minimize')\n",
    "    study.optimize(objective, n_trials=50)\n",
    "    print('Number of finished trials:', len(study.trials))\n",
    "    print('Best trial:', study.best_trial.params)"
   ]
  },
  {
   "cell_type": "code",
   "execution_count": 58,
   "id": "becd95ce-01a2-4b88-951f-b38f55dd760f",
   "metadata": {},
   "outputs": [
    {
     "data": {
      "text/plain": [
       "{'num_leaves': 244,\n",
       " 'learning_rate': 0.01,\n",
       " 'max_depth': 11,\n",
       " 'reg_alpha': 0.23746308577367767,\n",
       " 'reg_lambda': 2.702844990315888}"
      ]
     },
     "execution_count": 58,
     "metadata": {},
     "output_type": "execute_result"
    }
   ],
   "source": [
    "study.best_trial.params"
   ]
  },
  {
   "cell_type": "markdown",
   "id": "b997d439-c59d-461b-89a7-4c209e6644c1",
   "metadata": {},
   "source": [
    "## Last optuna run for lightgbm gave these params\n",
    "\n",
    "lgb_params={'num_leaves': 244,\n",
    " 'learning_rate': 0.01,\n",
    " 'max_depth': 11,\n",
    " 'reg_alpha': 0.23746308577367767,\n",
    " 'reg_lambda': 2.702844990315888}"
   ]
  },
  {
   "cell_type": "markdown",
   "id": "9f319adb-7793-416b-8afc-591460104ecf",
   "metadata": {},
   "source": [
    "# Eval"
   ]
  },
  {
   "cell_type": "code",
   "execution_count": 67,
   "id": "de3adbc5-4632-4382-be10-a6f9d388988e",
   "metadata": {},
   "outputs": [],
   "source": [
    "def get_mae(model, X_tst,y_tst):\n",
    "    y_pred = model.predict(X_tst)\n",
    "    return mean_absolute_error(y_pred, y_tst)\n",
    "\n",
    "def evaluate_simple(model, X_train, X_val, X_tst, y_train, y_val, y_tst):   \n",
    "    model.fit(X_train, y_train, eval_set=[(X_val, y_val)], callbacks=[lgb.early_stopping(stopping_rounds=100, verbose=True),lgb.callback.log_evaluation(period=100)])\n",
    "    return get_mae(model, X_tst,y_tst)\n",
    "\n",
    "def average_target(av_target_train, X_train, X_val, X_tst, y_train, y_val, y_tst):   \n",
    "    # model.fit(X_train, y_train, eval_set=[(X_val, y_val)], callbacks=[lgb.early_stopping(50, verbose=False)])\n",
    "    return len(y_tst), mean_absolute_error([av_target_train]*len(y_tst), y_tst)"
   ]
  },
  {
   "cell_type": "code",
   "execution_count": 62,
   "id": "2062fcaf-2cbf-4d85-bada-878515c20ae9",
   "metadata": {},
   "outputs": [],
   "source": [
    "lgb_params={'num_leaves': 244,\n",
    " 'learning_rate': 0.01,\n",
    " 'max_depth': 11,\n",
    " 'reg_alpha': 0.23746308577367767,\n",
    " 'reg_lambda': 2.702844990315888}"
   ]
  },
  {
   "cell_type": "markdown",
   "id": "cca5a05c-9edf-4e17-a87c-93b80180c661",
   "metadata": {},
   "source": [
    "## For a training run"
   ]
  },
  {
   "cell_type": "code",
   "execution_count": 63,
   "id": "1d577cae-40c9-4092-bb8f-445b84cdc430",
   "metadata": {},
   "outputs": [
    {
     "name": "stdout",
     "output_type": "stream",
     "text": [
      "[LightGBM] [Info] Auto-choosing col-wise multi-threading, the overhead of testing was 1.664773 seconds.\n",
      "You can set `force_col_wise=true` to remove the overhead.\n",
      "[LightGBM] [Info] Total Bins 36500\n",
      "[LightGBM] [Info] Number of data points in the train set: 4170948, number of used features: 162\n",
      "[LightGBM] [Info] Start training from score -0.046345\n",
      "Training until validation scores don't improve for 100 rounds\n",
      "[100]\tvalid_0's l2: 81.3298\n",
      "Did not meet early stopping. Best iteration is:\n",
      "[100]\tvalid_0's l2: 81.3298\n",
      "CPU times: user 9min 7s, sys: 612 ms, total: 9min 8s\n",
      "Wall time: 2min 19s\n"
     ]
    },
    {
     "data": {
      "text/plain": [
       "(538999, 5.871110966259306)"
      ]
     },
     "execution_count": 63,
     "metadata": {},
     "output_type": "execute_result"
    }
   ],
   "source": [
    "%%time\n",
    "# Train a LightGBM model for the current fold\n",
    "model = lgb.LGBMRegressor(**lgb_params)\n",
    "evaluate_simple(model, df_train_feats,df_valid_feats,df_tst_feats, y_train, y_valid, y_tst)"
   ]
  },
  {
   "cell_type": "code",
   "execution_count": 68,
   "id": "7f6baee2-d5e5-49d8-b706-a6f23549ff55",
   "metadata": {},
   "outputs": [
    {
     "data": {
      "text/plain": [
       "5.871110966259306"
      ]
     },
     "execution_count": 68,
     "metadata": {},
     "output_type": "execute_result"
    }
   ],
   "source": [
    "get_mae(model, df_tst_feats,y_tst)"
   ]
  },
  {
   "cell_type": "code",
   "execution_count": 69,
   "id": "e95fe171-4027-45c4-af76-1d79e96125e2",
   "metadata": {},
   "outputs": [
    {
     "data": {
      "text/plain": [
       "5.068109531819056"
      ]
     },
     "execution_count": 69,
     "metadata": {},
     "output_type": "execute_result"
    }
   ],
   "source": [
    "#how about with just the non-infered near and far prices?\n",
    "df_tst_feats1=df_tst_feats.reset_index(drop=True)\n",
    "y_tst1=y_tst.reset_index(drop=True)\n",
    "\n",
    "get_mae(model, df_tst_feats1[df_tst_feats1.syn_near_price==0], y_tst1[df_tst_feats1.syn_near_price==0])"
   ]
  },
  {
   "cell_type": "code",
   "execution_count": 71,
   "id": "fbdfb063-e6a2-4ed0-9ba5-0a6fa1d18f4d",
   "metadata": {},
   "outputs": [
    {
     "data": {
      "text/plain": [
       "6.54015592994254"
      ]
     },
     "execution_count": 71,
     "metadata": {},
     "output_type": "execute_result"
    }
   ],
   "source": [
    "get_mae(model, df_tst_feats1[df_tst_feats1.syn_near_price==1], y_tst1[df_tst_feats1.syn_near_price==1])"
   ]
  },
  {
   "cell_type": "markdown",
   "id": "fbf5abc6-f192-4760-8000-6dcbf4f69738",
   "metadata": {},
   "source": [
    "# Fit the model using all the data"
   ]
  },
  {
   "cell_type": "code",
   "execution_count": 79,
   "id": "8cb0edcc-657d-45bc-8b2a-72a9996fd572",
   "metadata": {},
   "outputs": [],
   "source": [
    "X=pd.concat([df_train_feats, df_valid_feats])\n",
    "y=pd.concat([y_train, y_valid])"
   ]
  },
  {
   "cell_type": "code",
   "execution_count": 80,
   "id": "5c25cc44-cf98-4f9c-a81e-e1a8d005197e",
   "metadata": {},
   "outputs": [
    {
     "name": "stdout",
     "output_type": "stream",
     "text": [
      "[LightGBM] [Info] Auto-choosing col-wise multi-threading, the overhead of testing was 1.836678 seconds.\n",
      "You can set `force_col_wise=true` to remove the overhead.\n",
      "[LightGBM] [Info] Total Bins 36501\n",
      "[LightGBM] [Info] Number of data points in the train set: 4698893, number of used features: 162\n",
      "[LightGBM] [Info] Start training from score -0.046357\n",
      "CPU times: user 9min 52s, sys: 956 ms, total: 9min 53s\n",
      "Wall time: 2min 31s\n"
     ]
    },
    {
     "data": {
      "text/html": [
       "<style>#sk-container-id-3 {color: black;}#sk-container-id-3 pre{padding: 0;}#sk-container-id-3 div.sk-toggleable {background-color: white;}#sk-container-id-3 label.sk-toggleable__label {cursor: pointer;display: block;width: 100%;margin-bottom: 0;padding: 0.3em;box-sizing: border-box;text-align: center;}#sk-container-id-3 label.sk-toggleable__label-arrow:before {content: \"▸\";float: left;margin-right: 0.25em;color: #696969;}#sk-container-id-3 label.sk-toggleable__label-arrow:hover:before {color: black;}#sk-container-id-3 div.sk-estimator:hover label.sk-toggleable__label-arrow:before {color: black;}#sk-container-id-3 div.sk-toggleable__content {max-height: 0;max-width: 0;overflow: hidden;text-align: left;background-color: #f0f8ff;}#sk-container-id-3 div.sk-toggleable__content pre {margin: 0.2em;color: black;border-radius: 0.25em;background-color: #f0f8ff;}#sk-container-id-3 input.sk-toggleable__control:checked~div.sk-toggleable__content {max-height: 200px;max-width: 100%;overflow: auto;}#sk-container-id-3 input.sk-toggleable__control:checked~label.sk-toggleable__label-arrow:before {content: \"▾\";}#sk-container-id-3 div.sk-estimator input.sk-toggleable__control:checked~label.sk-toggleable__label {background-color: #d4ebff;}#sk-container-id-3 div.sk-label input.sk-toggleable__control:checked~label.sk-toggleable__label {background-color: #d4ebff;}#sk-container-id-3 input.sk-hidden--visually {border: 0;clip: rect(1px 1px 1px 1px);clip: rect(1px, 1px, 1px, 1px);height: 1px;margin: -1px;overflow: hidden;padding: 0;position: absolute;width: 1px;}#sk-container-id-3 div.sk-estimator {font-family: monospace;background-color: #f0f8ff;border: 1px dotted black;border-radius: 0.25em;box-sizing: border-box;margin-bottom: 0.5em;}#sk-container-id-3 div.sk-estimator:hover {background-color: #d4ebff;}#sk-container-id-3 div.sk-parallel-item::after {content: \"\";width: 100%;border-bottom: 1px solid gray;flex-grow: 1;}#sk-container-id-3 div.sk-label:hover label.sk-toggleable__label {background-color: #d4ebff;}#sk-container-id-3 div.sk-serial::before {content: \"\";position: absolute;border-left: 1px solid gray;box-sizing: border-box;top: 0;bottom: 0;left: 50%;z-index: 0;}#sk-container-id-3 div.sk-serial {display: flex;flex-direction: column;align-items: center;background-color: white;padding-right: 0.2em;padding-left: 0.2em;position: relative;}#sk-container-id-3 div.sk-item {position: relative;z-index: 1;}#sk-container-id-3 div.sk-parallel {display: flex;align-items: stretch;justify-content: center;background-color: white;position: relative;}#sk-container-id-3 div.sk-item::before, #sk-container-id-3 div.sk-parallel-item::before {content: \"\";position: absolute;border-left: 1px solid gray;box-sizing: border-box;top: 0;bottom: 0;left: 50%;z-index: -1;}#sk-container-id-3 div.sk-parallel-item {display: flex;flex-direction: column;z-index: 1;position: relative;background-color: white;}#sk-container-id-3 div.sk-parallel-item:first-child::after {align-self: flex-end;width: 50%;}#sk-container-id-3 div.sk-parallel-item:last-child::after {align-self: flex-start;width: 50%;}#sk-container-id-3 div.sk-parallel-item:only-child::after {width: 0;}#sk-container-id-3 div.sk-dashed-wrapped {border: 1px dashed gray;margin: 0 0.4em 0.5em 0.4em;box-sizing: border-box;padding-bottom: 0.4em;background-color: white;}#sk-container-id-3 div.sk-label label {font-family: monospace;font-weight: bold;display: inline-block;line-height: 1.2em;}#sk-container-id-3 div.sk-label-container {text-align: center;}#sk-container-id-3 div.sk-container {/* jupyter's `normalize.less` sets `[hidden] { display: none; }` but bootstrap.min.css set `[hidden] { display: none !important; }` so we also need the `!important` here to be able to override the default hidden behavior on the sphinx rendered scikit-learn.org. See: https://github.com/scikit-learn/scikit-learn/issues/21755 */display: inline-block !important;position: relative;}#sk-container-id-3 div.sk-text-repr-fallback {display: none;}</style><div id=\"sk-container-id-3\" class=\"sk-top-container\"><div class=\"sk-text-repr-fallback\"><pre>LGBMRegressor(learning_rate=0.01, max_depth=11, num_leaves=244,\n",
       "              reg_alpha=0.23746308577367767, reg_lambda=2.702844990315888)</pre><b>In a Jupyter environment, please rerun this cell to show the HTML representation or trust the notebook. <br />On GitHub, the HTML representation is unable to render, please try loading this page with nbviewer.org.</b></div><div class=\"sk-container\" hidden><div class=\"sk-item\"><div class=\"sk-estimator sk-toggleable\"><input class=\"sk-toggleable__control sk-hidden--visually\" id=\"sk-estimator-id-3\" type=\"checkbox\" checked><label for=\"sk-estimator-id-3\" class=\"sk-toggleable__label sk-toggleable__label-arrow\">LGBMRegressor</label><div class=\"sk-toggleable__content\"><pre>LGBMRegressor(learning_rate=0.01, max_depth=11, num_leaves=244,\n",
       "              reg_alpha=0.23746308577367767, reg_lambda=2.702844990315888)</pre></div></div></div></div></div>"
      ],
      "text/plain": [
       "LGBMRegressor(learning_rate=0.01, max_depth=11, num_leaves=244,\n",
       "              reg_alpha=0.23746308577367767, reg_lambda=2.702844990315888)"
      ]
     },
     "execution_count": 80,
     "metadata": {},
     "output_type": "execute_result"
    }
   ],
   "source": [
    "%%time\n",
    "model1 = lgb.LGBMRegressor(**lgb_params)\n",
    "# model1.fit(X, y, eval_set=[(df_tst_feats, y_tst)], callbacks=[lgb.early_stopping(stopping_rounds=100, verbose=True),lgb.callback.log_evaluation(period=100)])\n",
    "model1.fit(X, y, callbacks=[lgb.callback.log_evaluation(period=100)])"
   ]
  },
  {
   "cell_type": "code",
   "execution_count": 81,
   "id": "9057f203-50ce-495e-81d1-a3d2310fca7f",
   "metadata": {},
   "outputs": [
    {
     "data": {
      "text/plain": [
       "5.869359151138934"
      ]
     },
     "execution_count": 81,
     "metadata": {},
     "output_type": "execute_result"
    }
   ],
   "source": [
    "y_pred = model1.predict(df_tst_feats)\n",
    "mean_absolute_error(y_pred, y_tst)"
   ]
  },
  {
   "cell_type": "code",
   "execution_count": 78,
   "id": "b3e52b41-f49a-4c64-a26b-51c753544c18",
   "metadata": {},
   "outputs": [
    {
     "data": {
      "text/plain": [
       "5.85003779003602"
      ]
     },
     "execution_count": 78,
     "metadata": {},
     "output_type": "execute_result"
    }
   ],
   "source": [
    "y_pred = model1.predict(df_tst_feats)\n",
    "mean_absolute_error(y_pred, y_tst)"
   ]
  },
  {
   "cell_type": "code",
   "execution_count": 84,
   "id": "a53be219-8bfc-494c-a854-665673c46477",
   "metadata": {},
   "outputs": [
    {
     "name": "stdout",
     "output_type": "stream",
     "text": [
      "Columns with poor contribution Index(['imbalance_buy_sell_flag_ret_5', 'seconds', 'syn_near_price',\n",
      "       'imbalance_buy_sell_flag_ret_10', 'imbalance_buy_sell_flag_ret_1',\n",
      "       'price_spread_diff_1', 'minute', 'imbalance_buy_sell_flag_ret_3'],\n",
      "      dtype='object')\n"
     ]
    },
    {
     "data": {
      "application/vnd.plotly.v1+json": {
       "config": {
        "plotlyServerURL": "https://plot.ly"
       },
       "data": [
        {
         "alignmentgroup": "True",
         "hovertemplate": "x=%{x}<br>y=%{y}<extra></extra>",
         "legendgroup": "",
         "marker": {
          "color": "#636efa",
          "pattern": {
           "shape": ""
          }
         },
         "name": "",
         "offsetgroup": "",
         "orientation": "h",
         "showlegend": false,
         "textposition": "auto",
         "type": "bar",
         "x": [
          1200,
          1069,
          1040,
          679,
          621,
          568,
          467,
          417,
          396,
          355,
          352,
          308,
          302,
          302,
          296,
          292,
          291,
          289,
          269,
          266,
          264,
          260,
          260,
          259,
          244,
          244,
          240,
          240,
          240,
          239,
          235,
          234,
          222,
          221,
          217,
          214,
          212,
          209,
          193,
          193,
          187,
          185,
          179,
          176,
          172,
          170,
          168,
          163,
          160,
          160,
          153,
          153,
          149,
          149,
          149,
          148,
          146,
          145,
          144,
          143,
          142,
          141,
          141,
          140,
          140,
          137,
          134,
          134,
          131,
          128,
          126,
          125,
          125,
          123,
          123,
          122,
          121,
          121,
          118,
          117,
          114,
          114,
          113,
          110,
          109,
          108,
          107,
          101,
          98,
          94,
          93,
          88,
          87,
          82,
          79,
          78,
          76,
          72,
          72,
          70,
          70,
          69,
          69,
          69,
          65,
          64,
          62,
          62,
          62,
          60,
          60,
          59,
          59,
          57,
          57,
          53,
          53,
          52,
          50,
          49,
          49,
          49,
          46,
          44,
          44,
          43,
          40,
          37,
          37,
          36,
          35,
          34,
          34,
          33,
          31,
          30,
          30,
          29,
          28,
          28,
          27,
          27,
          26,
          24,
          24,
          23,
          23,
          23,
          17,
          15,
          13,
          12,
          11,
          10,
          6,
          6,
          1,
          1,
          1,
          0,
          0,
          0
         ],
         "xaxis": "x",
         "y": [
          "reference_price_wap_imb",
          "market_urgency",
          "seconds_in_bucket",
          "global_median_size",
          "reference_price_bid_price_imb",
          "imbalance_buy_sell_flag_shift_1",
          "bid_price",
          "ask_price_wap_reference_price_imb2",
          "imbalance_momentum",
          "imbalance_size_ret_1",
          "time_to_market_close",
          "reference_price",
          "global_ptp_price",
          "price_pressure",
          "global_std_price",
          "spread_depth_ratio",
          "near_price_bid_price_imb",
          "reference_price_ask_price_imb",
          "weighted_wap_diff_10",
          "matched_size_ret_1",
          "matched_imbalance",
          "ask_price",
          "weighted_wap_diff_5",
          "imbalance_size_ret_10",
          "imbalance_size_ret_3",
          "ask_price_bid_price_reference_price_imb2",
          "near_price_ask_price_imb",
          "matched_size_bid_size_ask_size_imb2",
          "ask_price_wap_imb",
          "all_prices_mean",
          "imbalance_size_shift_10",
          "bid_price_diff_3",
          "rolling_std_diff_bid_price_5",
          "wap",
          "rolling_std_diff_bid_price_10",
          "rolling_std_diff_ask_price_5",
          "reference_price_near_price_imb",
          "price_spread",
          "near_price",
          "mid_price",
          "reference_price_shift_10",
          "reference_price_shift_5",
          "near_price_wap_imb",
          "mid_price*volume",
          "reference_price_shift_1",
          "bid_size",
          "imbalance_size_shift_5",
          "price_spread_diff_10",
          "rolling_std_diff_ask_size_10",
          "imbalance_size_ret_5",
          "bid_price_wap_reference_price_imb2",
          "all_prices_skew",
          "all_prices_std",
          "wap_momentum",
          "global_median_price",
          "spread_intensity",
          "imbalance_size_shift_3",
          "weighted_wap_diff_3",
          "ask_size",
          "matched_size_shift_10",
          "all_sizes_std",
          "imbalance_size",
          "micro_price",
          "matched_size_ret_10",
          "ask_price_bid_price_imb",
          "bid_price_wap_imb",
          "rolling_std_diff_ask_price_10",
          "rolling_std_diff_bid_size_10",
          "bid_size_ask_size_imbalance_size_imb2",
          "rolling_diff_ask_price_10",
          "far_price_near_price_imb",
          "rolling_std_diff_bid_price_3",
          "weighted_wap",
          "rolling_std_diff_ask_price_3",
          "reference_price_shift_3",
          "bid_price_diff_1",
          "far_price",
          "imbalance_buy_sell_flag",
          "imbalance_size_shift_1",
          "rolling_diff_bid_price_10",
          "matched_size",
          "liquidity_imbalance",
          "bid_price_diff_5",
          "rolling_diff_bid_size_10",
          "ask_price_diff_3",
          "all_sizes_mean",
          "all_prices_kurt",
          "volume",
          "rolling_std_diff_ask_size_5",
          "far_price_bid_price_imb",
          "ask_price_diff_5",
          "reference_price_far_price_imb",
          "rolling_diff_bid_size_5",
          "imbalance_buy_sell_flag_shift_10",
          "price_change_diff_10",
          "harmonic_imbalance",
          "rolling_diff_bid_price_5",
          "size_imbalance",
          "all_sizes_skew",
          "rolling_diff_ask_size_5",
          "global_std_size",
          "rolling_diff_bid_price_3",
          "matched_size_bid_size_imbalance_size_imb2",
          "matched_size_ask_size_imbalance_size_imb2",
          "weighted_wap_diff_1",
          "matched_size_shift_5",
          "rolling_std_diff_bid_size_5",
          "matched_size_shift_1",
          "far_price_ask_price_imb",
          "ask_price_diff_1",
          "reference_price_ret_5",
          "rolling_diff_ask_size_10",
          "far_price_wap_imb",
          "reference_price_ret_1",
          "bid_price_diff_10",
          "dow",
          "matched_size_ret_5",
          "ask_price_bid_price_wap_imb2",
          "matched_size_ret_3",
          "bid_size_diff_10",
          "rolling_diff_ask_price_5",
          "rolling_diff_ask_price_3",
          "matched_size_shift_3",
          "reference_price_ret_10",
          "price_spread_diff_3",
          "size_change_diff_3",
          "reference_price_ret_3",
          "depth_pressure",
          "relative_spread",
          "imbalance_buy_sell_flag_shift_3",
          "ask_price_diff_10",
          "price_spread_diff_5",
          "rolling_std_diff_bid_size_3",
          "global_ptp_size",
          "price_change_diff_3",
          "mid_price_movement",
          "bid_size_diff_5",
          "size_change_diff_10",
          "bid_size_diff_3",
          "ask_size_diff_10",
          "stock_id",
          "ask_size_diff_5",
          "all_sizes_kurt",
          "rolling_std_diff_ask_size_3",
          "stock_weights",
          "rolling_diff_bid_size_3",
          "rolling_diff_ask_size_3",
          "size_change_diff_5",
          "ask_size_diff_3",
          "imbalance_buy_sell_flag_shift_5",
          "bid_size_diff_1",
          "price_change_diff_5",
          "syn_far_price",
          "ask_size_diff_1",
          "imbalance_buy_sell_flag_ret_5",
          "seconds",
          "syn_near_price",
          "imbalance_buy_sell_flag_ret_10",
          "imbalance_buy_sell_flag_ret_1",
          "price_spread_diff_1",
          "minute",
          "imbalance_buy_sell_flag_ret_3"
         ],
         "yaxis": "y"
        }
       ],
       "layout": {
        "autosize": true,
        "barmode": "relative",
        "legend": {
         "tracegroupgap": 0
        },
        "margin": {
         "t": 60
        },
        "template": {
         "data": {
          "bar": [
           {
            "error_x": {
             "color": "#2a3f5f"
            },
            "error_y": {
             "color": "#2a3f5f"
            },
            "marker": {
             "line": {
              "color": "#E5ECF6",
              "width": 0.5
             },
             "pattern": {
              "fillmode": "overlay",
              "size": 10,
              "solidity": 0.2
             }
            },
            "type": "bar"
           }
          ],
          "barpolar": [
           {
            "marker": {
             "line": {
              "color": "#E5ECF6",
              "width": 0.5
             },
             "pattern": {
              "fillmode": "overlay",
              "size": 10,
              "solidity": 0.2
             }
            },
            "type": "barpolar"
           }
          ],
          "carpet": [
           {
            "aaxis": {
             "endlinecolor": "#2a3f5f",
             "gridcolor": "white",
             "linecolor": "white",
             "minorgridcolor": "white",
             "startlinecolor": "#2a3f5f"
            },
            "baxis": {
             "endlinecolor": "#2a3f5f",
             "gridcolor": "white",
             "linecolor": "white",
             "minorgridcolor": "white",
             "startlinecolor": "#2a3f5f"
            },
            "type": "carpet"
           }
          ],
          "choropleth": [
           {
            "colorbar": {
             "outlinewidth": 0,
             "ticks": ""
            },
            "type": "choropleth"
           }
          ],
          "contour": [
           {
            "colorbar": {
             "outlinewidth": 0,
             "ticks": ""
            },
            "colorscale": [
             [
              0,
              "#0d0887"
             ],
             [
              0.1111111111111111,
              "#46039f"
             ],
             [
              0.2222222222222222,
              "#7201a8"
             ],
             [
              0.3333333333333333,
              "#9c179e"
             ],
             [
              0.4444444444444444,
              "#bd3786"
             ],
             [
              0.5555555555555556,
              "#d8576b"
             ],
             [
              0.6666666666666666,
              "#ed7953"
             ],
             [
              0.7777777777777778,
              "#fb9f3a"
             ],
             [
              0.8888888888888888,
              "#fdca26"
             ],
             [
              1,
              "#f0f921"
             ]
            ],
            "type": "contour"
           }
          ],
          "contourcarpet": [
           {
            "colorbar": {
             "outlinewidth": 0,
             "ticks": ""
            },
            "type": "contourcarpet"
           }
          ],
          "heatmap": [
           {
            "colorbar": {
             "outlinewidth": 0,
             "ticks": ""
            },
            "colorscale": [
             [
              0,
              "#0d0887"
             ],
             [
              0.1111111111111111,
              "#46039f"
             ],
             [
              0.2222222222222222,
              "#7201a8"
             ],
             [
              0.3333333333333333,
              "#9c179e"
             ],
             [
              0.4444444444444444,
              "#bd3786"
             ],
             [
              0.5555555555555556,
              "#d8576b"
             ],
             [
              0.6666666666666666,
              "#ed7953"
             ],
             [
              0.7777777777777778,
              "#fb9f3a"
             ],
             [
              0.8888888888888888,
              "#fdca26"
             ],
             [
              1,
              "#f0f921"
             ]
            ],
            "type": "heatmap"
           }
          ],
          "heatmapgl": [
           {
            "colorbar": {
             "outlinewidth": 0,
             "ticks": ""
            },
            "colorscale": [
             [
              0,
              "#0d0887"
             ],
             [
              0.1111111111111111,
              "#46039f"
             ],
             [
              0.2222222222222222,
              "#7201a8"
             ],
             [
              0.3333333333333333,
              "#9c179e"
             ],
             [
              0.4444444444444444,
              "#bd3786"
             ],
             [
              0.5555555555555556,
              "#d8576b"
             ],
             [
              0.6666666666666666,
              "#ed7953"
             ],
             [
              0.7777777777777778,
              "#fb9f3a"
             ],
             [
              0.8888888888888888,
              "#fdca26"
             ],
             [
              1,
              "#f0f921"
             ]
            ],
            "type": "heatmapgl"
           }
          ],
          "histogram": [
           {
            "marker": {
             "pattern": {
              "fillmode": "overlay",
              "size": 10,
              "solidity": 0.2
             }
            },
            "type": "histogram"
           }
          ],
          "histogram2d": [
           {
            "colorbar": {
             "outlinewidth": 0,
             "ticks": ""
            },
            "colorscale": [
             [
              0,
              "#0d0887"
             ],
             [
              0.1111111111111111,
              "#46039f"
             ],
             [
              0.2222222222222222,
              "#7201a8"
             ],
             [
              0.3333333333333333,
              "#9c179e"
             ],
             [
              0.4444444444444444,
              "#bd3786"
             ],
             [
              0.5555555555555556,
              "#d8576b"
             ],
             [
              0.6666666666666666,
              "#ed7953"
             ],
             [
              0.7777777777777778,
              "#fb9f3a"
             ],
             [
              0.8888888888888888,
              "#fdca26"
             ],
             [
              1,
              "#f0f921"
             ]
            ],
            "type": "histogram2d"
           }
          ],
          "histogram2dcontour": [
           {
            "colorbar": {
             "outlinewidth": 0,
             "ticks": ""
            },
            "colorscale": [
             [
              0,
              "#0d0887"
             ],
             [
              0.1111111111111111,
              "#46039f"
             ],
             [
              0.2222222222222222,
              "#7201a8"
             ],
             [
              0.3333333333333333,
              "#9c179e"
             ],
             [
              0.4444444444444444,
              "#bd3786"
             ],
             [
              0.5555555555555556,
              "#d8576b"
             ],
             [
              0.6666666666666666,
              "#ed7953"
             ],
             [
              0.7777777777777778,
              "#fb9f3a"
             ],
             [
              0.8888888888888888,
              "#fdca26"
             ],
             [
              1,
              "#f0f921"
             ]
            ],
            "type": "histogram2dcontour"
           }
          ],
          "mesh3d": [
           {
            "colorbar": {
             "outlinewidth": 0,
             "ticks": ""
            },
            "type": "mesh3d"
           }
          ],
          "parcoords": [
           {
            "line": {
             "colorbar": {
              "outlinewidth": 0,
              "ticks": ""
             }
            },
            "type": "parcoords"
           }
          ],
          "pie": [
           {
            "automargin": true,
            "type": "pie"
           }
          ],
          "scatter": [
           {
            "fillpattern": {
             "fillmode": "overlay",
             "size": 10,
             "solidity": 0.2
            },
            "type": "scatter"
           }
          ],
          "scatter3d": [
           {
            "line": {
             "colorbar": {
              "outlinewidth": 0,
              "ticks": ""
             }
            },
            "marker": {
             "colorbar": {
              "outlinewidth": 0,
              "ticks": ""
             }
            },
            "type": "scatter3d"
           }
          ],
          "scattercarpet": [
           {
            "marker": {
             "colorbar": {
              "outlinewidth": 0,
              "ticks": ""
             }
            },
            "type": "scattercarpet"
           }
          ],
          "scattergeo": [
           {
            "marker": {
             "colorbar": {
              "outlinewidth": 0,
              "ticks": ""
             }
            },
            "type": "scattergeo"
           }
          ],
          "scattergl": [
           {
            "marker": {
             "colorbar": {
              "outlinewidth": 0,
              "ticks": ""
             }
            },
            "type": "scattergl"
           }
          ],
          "scattermapbox": [
           {
            "marker": {
             "colorbar": {
              "outlinewidth": 0,
              "ticks": ""
             }
            },
            "type": "scattermapbox"
           }
          ],
          "scatterpolar": [
           {
            "marker": {
             "colorbar": {
              "outlinewidth": 0,
              "ticks": ""
             }
            },
            "type": "scatterpolar"
           }
          ],
          "scatterpolargl": [
           {
            "marker": {
             "colorbar": {
              "outlinewidth": 0,
              "ticks": ""
             }
            },
            "type": "scatterpolargl"
           }
          ],
          "scatterternary": [
           {
            "marker": {
             "colorbar": {
              "outlinewidth": 0,
              "ticks": ""
             }
            },
            "type": "scatterternary"
           }
          ],
          "surface": [
           {
            "colorbar": {
             "outlinewidth": 0,
             "ticks": ""
            },
            "colorscale": [
             [
              0,
              "#0d0887"
             ],
             [
              0.1111111111111111,
              "#46039f"
             ],
             [
              0.2222222222222222,
              "#7201a8"
             ],
             [
              0.3333333333333333,
              "#9c179e"
             ],
             [
              0.4444444444444444,
              "#bd3786"
             ],
             [
              0.5555555555555556,
              "#d8576b"
             ],
             [
              0.6666666666666666,
              "#ed7953"
             ],
             [
              0.7777777777777778,
              "#fb9f3a"
             ],
             [
              0.8888888888888888,
              "#fdca26"
             ],
             [
              1,
              "#f0f921"
             ]
            ],
            "type": "surface"
           }
          ],
          "table": [
           {
            "cells": {
             "fill": {
              "color": "#EBF0F8"
             },
             "line": {
              "color": "white"
             }
            },
            "header": {
             "fill": {
              "color": "#C8D4E3"
             },
             "line": {
              "color": "white"
             }
            },
            "type": "table"
           }
          ]
         },
         "layout": {
          "annotationdefaults": {
           "arrowcolor": "#2a3f5f",
           "arrowhead": 0,
           "arrowwidth": 1
          },
          "autotypenumbers": "strict",
          "coloraxis": {
           "colorbar": {
            "outlinewidth": 0,
            "ticks": ""
           }
          },
          "colorscale": {
           "diverging": [
            [
             0,
             "#8e0152"
            ],
            [
             0.1,
             "#c51b7d"
            ],
            [
             0.2,
             "#de77ae"
            ],
            [
             0.3,
             "#f1b6da"
            ],
            [
             0.4,
             "#fde0ef"
            ],
            [
             0.5,
             "#f7f7f7"
            ],
            [
             0.6,
             "#e6f5d0"
            ],
            [
             0.7,
             "#b8e186"
            ],
            [
             0.8,
             "#7fbc41"
            ],
            [
             0.9,
             "#4d9221"
            ],
            [
             1,
             "#276419"
            ]
           ],
           "sequential": [
            [
             0,
             "#0d0887"
            ],
            [
             0.1111111111111111,
             "#46039f"
            ],
            [
             0.2222222222222222,
             "#7201a8"
            ],
            [
             0.3333333333333333,
             "#9c179e"
            ],
            [
             0.4444444444444444,
             "#bd3786"
            ],
            [
             0.5555555555555556,
             "#d8576b"
            ],
            [
             0.6666666666666666,
             "#ed7953"
            ],
            [
             0.7777777777777778,
             "#fb9f3a"
            ],
            [
             0.8888888888888888,
             "#fdca26"
            ],
            [
             1,
             "#f0f921"
            ]
           ],
           "sequentialminus": [
            [
             0,
             "#0d0887"
            ],
            [
             0.1111111111111111,
             "#46039f"
            ],
            [
             0.2222222222222222,
             "#7201a8"
            ],
            [
             0.3333333333333333,
             "#9c179e"
            ],
            [
             0.4444444444444444,
             "#bd3786"
            ],
            [
             0.5555555555555556,
             "#d8576b"
            ],
            [
             0.6666666666666666,
             "#ed7953"
            ],
            [
             0.7777777777777778,
             "#fb9f3a"
            ],
            [
             0.8888888888888888,
             "#fdca26"
            ],
            [
             1,
             "#f0f921"
            ]
           ]
          },
          "colorway": [
           "#636efa",
           "#EF553B",
           "#00cc96",
           "#ab63fa",
           "#FFA15A",
           "#19d3f3",
           "#FF6692",
           "#B6E880",
           "#FF97FF",
           "#FECB52"
          ],
          "font": {
           "color": "#2a3f5f"
          },
          "geo": {
           "bgcolor": "white",
           "lakecolor": "white",
           "landcolor": "#E5ECF6",
           "showlakes": true,
           "showland": true,
           "subunitcolor": "white"
          },
          "hoverlabel": {
           "align": "left"
          },
          "hovermode": "closest",
          "mapbox": {
           "style": "light"
          },
          "paper_bgcolor": "white",
          "plot_bgcolor": "#E5ECF6",
          "polar": {
           "angularaxis": {
            "gridcolor": "white",
            "linecolor": "white",
            "ticks": ""
           },
           "bgcolor": "#E5ECF6",
           "radialaxis": {
            "gridcolor": "white",
            "linecolor": "white",
            "ticks": ""
           }
          },
          "scene": {
           "xaxis": {
            "backgroundcolor": "#E5ECF6",
            "gridcolor": "white",
            "gridwidth": 2,
            "linecolor": "white",
            "showbackground": true,
            "ticks": "",
            "zerolinecolor": "white"
           },
           "yaxis": {
            "backgroundcolor": "#E5ECF6",
            "gridcolor": "white",
            "gridwidth": 2,
            "linecolor": "white",
            "showbackground": true,
            "ticks": "",
            "zerolinecolor": "white"
           },
           "zaxis": {
            "backgroundcolor": "#E5ECF6",
            "gridcolor": "white",
            "gridwidth": 2,
            "linecolor": "white",
            "showbackground": true,
            "ticks": "",
            "zerolinecolor": "white"
           }
          },
          "shapedefaults": {
           "line": {
            "color": "#2a3f5f"
           }
          },
          "ternary": {
           "aaxis": {
            "gridcolor": "white",
            "linecolor": "white",
            "ticks": ""
           },
           "baxis": {
            "gridcolor": "white",
            "linecolor": "white",
            "ticks": ""
           },
           "bgcolor": "#E5ECF6",
           "caxis": {
            "gridcolor": "white",
            "linecolor": "white",
            "ticks": ""
           }
          },
          "title": {
           "x": 0.05
          },
          "xaxis": {
           "automargin": true,
           "gridcolor": "white",
           "linecolor": "white",
           "ticks": "",
           "title": {
            "standoff": 15
           },
           "zerolinecolor": "white",
           "zerolinewidth": 2
          },
          "yaxis": {
           "automargin": true,
           "gridcolor": "white",
           "linecolor": "white",
           "ticks": "",
           "title": {
            "standoff": 15
           },
           "zerolinecolor": "white",
           "zerolinewidth": 2
          }
         }
        },
        "xaxis": {
         "anchor": "y",
         "autorange": true,
         "domain": [
          0,
          1
         ],
         "range": [
          0,
          1263.157894736842
         ],
         "title": {
          "text": "x"
         },
         "type": "linear"
        },
        "yaxis": {
         "anchor": "x",
         "autorange": true,
         "domain": [
          0,
          1
         ],
         "range": [
          -0.5,
          161.5
         ],
         "title": {
          "text": "y"
         },
         "type": "category"
        }
       }
      },
      "image/png": "[encoded data removed]",
      "text/html": [
       "<div>                            <div id=\"71f93679-fda2-45ed-aa02-5af21f87d04a\" class=\"plotly-graph-div\" style=\"height:525px; width:100%;\"></div>            <script type=\"text/javascript\">                require([\"plotly\"], function(Plotly) {                    window.PLOTLYENV=window.PLOTLYENV || {};                                    if (document.getElementById(\"71f93679-fda2-45ed-aa02-5af21f87d04a\")) {                    Plotly.newPlot(                        \"71f93679-fda2-45ed-aa02-5af21f87d04a\",                        [{\"alignmentgroup\":\"True\",\"hovertemplate\":\"x=%{x}\\u003cbr\\u003ey=%{y}\\u003cextra\\u003e\\u003c\\u002fextra\\u003e\",\"legendgroup\":\"\",\"marker\":{\"color\":\"#636efa\",\"pattern\":{\"shape\":\"\"}},\"name\":\"\",\"offsetgroup\":\"\",\"orientation\":\"h\",\"showlegend\":false,\"textposition\":\"auto\",\"x\":[1200,1069,1040,679,621,568,467,417,396,355,352,308,302,302,296,292,291,289,269,266,264,260,260,259,244,244,240,240,240,239,235,234,222,221,217,214,212,209,193,193,187,185,179,176,172,170,168,163,160,160,153,153,149,149,149,148,146,145,144,143,142,141,141,140,140,137,134,134,131,128,126,125,125,123,123,122,121,121,118,117,114,114,113,110,109,108,107,101,98,94,93,88,87,82,79,78,76,72,72,70,70,69,69,69,65,64,62,62,62,60,60,59,59,57,57,53,53,52,50,49,49,49,46,44,44,43,40,37,37,36,35,34,34,33,31,30,30,29,28,28,27,27,26,24,24,23,23,23,17,15,13,12,11,10,6,6,1,1,1,0,0,0],\"xaxis\":\"x\",\"y\":[\"reference_price_wap_imb\",\"market_urgency\",\"seconds_in_bucket\",\"global_median_size\",\"reference_price_bid_price_imb\",\"imbalance_buy_sell_flag_shift_1\",\"bid_price\",\"ask_price_wap_reference_price_imb2\",\"imbalance_momentum\",\"imbalance_size_ret_1\",\"time_to_market_close\",\"reference_price\",\"global_ptp_price\",\"price_pressure\",\"global_std_price\",\"spread_depth_ratio\",\"near_price_bid_price_imb\",\"reference_price_ask_price_imb\",\"weighted_wap_diff_10\",\"matched_size_ret_1\",\"matched_imbalance\",\"ask_price\",\"weighted_wap_diff_5\",\"imbalance_size_ret_10\",\"imbalance_size_ret_3\",\"ask_price_bid_price_reference_price_imb2\",\"near_price_ask_price_imb\",\"matched_size_bid_size_ask_size_imb2\",\"ask_price_wap_imb\",\"all_prices_mean\",\"imbalance_size_shift_10\",\"bid_price_diff_3\",\"rolling_std_diff_bid_price_5\",\"wap\",\"rolling_std_diff_bid_price_10\",\"rolling_std_diff_ask_price_5\",\"reference_price_near_price_imb\",\"price_spread\",\"near_price\",\"mid_price\",\"reference_price_shift_10\",\"reference_price_shift_5\",\"near_price_wap_imb\",\"mid_price*volume\",\"reference_price_shift_1\",\"bid_size\",\"imbalance_size_shift_5\",\"price_spread_diff_10\",\"rolling_std_diff_ask_size_10\",\"imbalance_size_ret_5\",\"bid_price_wap_reference_price_imb2\",\"all_prices_skew\",\"all_prices_std\",\"wap_momentum\",\"global_median_price\",\"spread_intensity\",\"imbalance_size_shift_3\",\"weighted_wap_diff_3\",\"ask_size\",\"matched_size_shift_10\",\"all_sizes_std\",\"imbalance_size\",\"micro_price\",\"matched_size_ret_10\",\"ask_price_bid_price_imb\",\"bid_price_wap_imb\",\"rolling_std_diff_ask_price_10\",\"rolling_std_diff_bid_size_10\",\"bid_size_ask_size_imbalance_size_imb2\",\"rolling_diff_ask_price_10\",\"far_price_near_price_imb\",\"rolling_std_diff_bid_price_3\",\"weighted_wap\",\"rolling_std_diff_ask_price_3\",\"reference_price_shift_3\",\"bid_price_diff_1\",\"far_price\",\"imbalance_buy_sell_flag\",\"imbalance_size_shift_1\",\"rolling_diff_bid_price_10\",\"matched_size\",\"liquidity_imbalance\",\"bid_price_diff_5\",\"rolling_diff_bid_size_10\",\"ask_price_diff_3\",\"all_sizes_mean\",\"all_prices_kurt\",\"volume\",\"rolling_std_diff_ask_size_5\",\"far_price_bid_price_imb\",\"ask_price_diff_5\",\"reference_price_far_price_imb\",\"rolling_diff_bid_size_5\",\"imbalance_buy_sell_flag_shift_10\",\"price_change_diff_10\",\"harmonic_imbalance\",\"rolling_diff_bid_price_5\",\"size_imbalance\",\"all_sizes_skew\",\"rolling_diff_ask_size_5\",\"global_std_size\",\"rolling_diff_bid_price_3\",\"matched_size_bid_size_imbalance_size_imb2\",\"matched_size_ask_size_imbalance_size_imb2\",\"weighted_wap_diff_1\",\"matched_size_shift_5\",\"rolling_std_diff_bid_size_5\",\"matched_size_shift_1\",\"far_price_ask_price_imb\",\"ask_price_diff_1\",\"reference_price_ret_5\",\"rolling_diff_ask_size_10\",\"far_price_wap_imb\",\"reference_price_ret_1\",\"bid_price_diff_10\",\"dow\",\"matched_size_ret_5\",\"ask_price_bid_price_wap_imb2\",\"matched_size_ret_3\",\"bid_size_diff_10\",\"rolling_diff_ask_price_5\",\"rolling_diff_ask_price_3\",\"matched_size_shift_3\",\"reference_price_ret_10\",\"price_spread_diff_3\",\"size_change_diff_3\",\"reference_price_ret_3\",\"depth_pressure\",\"relative_spread\",\"imbalance_buy_sell_flag_shift_3\",\"ask_price_diff_10\",\"price_spread_diff_5\",\"rolling_std_diff_bid_size_3\",\"global_ptp_size\",\"price_change_diff_3\",\"mid_price_movement\",\"bid_size_diff_5\",\"size_change_diff_10\",\"bid_size_diff_3\",\"ask_size_diff_10\",\"stock_id\",\"ask_size_diff_5\",\"all_sizes_kurt\",\"rolling_std_diff_ask_size_3\",\"stock_weights\",\"rolling_diff_bid_size_3\",\"rolling_diff_ask_size_3\",\"size_change_diff_5\",\"ask_size_diff_3\",\"imbalance_buy_sell_flag_shift_5\",\"bid_size_diff_1\",\"price_change_diff_5\",\"syn_far_price\",\"ask_size_diff_1\",\"imbalance_buy_sell_flag_ret_5\",\"seconds\",\"syn_near_price\",\"imbalance_buy_sell_flag_ret_10\",\"imbalance_buy_sell_flag_ret_1\",\"price_spread_diff_1\",\"minute\",\"imbalance_buy_sell_flag_ret_3\"],\"yaxis\":\"y\",\"type\":\"bar\"}],                        {\"template\":{\"data\":{\"histogram2dcontour\":[{\"type\":\"histogram2dcontour\",\"colorbar\":{\"outlinewidth\":0,\"ticks\":\"\"},\"colorscale\":[[0.0,\"#0d0887\"],[0.1111111111111111,\"#46039f\"],[0.2222222222222222,\"#7201a8\"],[0.3333333333333333,\"#9c179e\"],[0.4444444444444444,\"#bd3786\"],[0.5555555555555556,\"#d8576b\"],[0.6666666666666666,\"#ed7953\"],[0.7777777777777778,\"#fb9f3a\"],[0.8888888888888888,\"#fdca26\"],[1.0,\"#f0f921\"]]}],\"choropleth\":[{\"type\":\"choropleth\",\"colorbar\":{\"outlinewidth\":0,\"ticks\":\"\"}}],\"histogram2d\":[{\"type\":\"histogram2d\",\"colorbar\":{\"outlinewidth\":0,\"ticks\":\"\"},\"colorscale\":[[0.0,\"#0d0887\"],[0.1111111111111111,\"#46039f\"],[0.2222222222222222,\"#7201a8\"],[0.3333333333333333,\"#9c179e\"],[0.4444444444444444,\"#bd3786\"],[0.5555555555555556,\"#d8576b\"],[0.6666666666666666,\"#ed7953\"],[0.7777777777777778,\"#fb9f3a\"],[0.8888888888888888,\"#fdca26\"],[1.0,\"#f0f921\"]]}],\"heatmap\":[{\"type\":\"heatmap\",\"colorbar\":{\"outlinewidth\":0,\"ticks\":\"\"},\"colorscale\":[[0.0,\"#0d0887\"],[0.1111111111111111,\"#46039f\"],[0.2222222222222222,\"#7201a8\"],[0.3333333333333333,\"#9c179e\"],[0.4444444444444444,\"#bd3786\"],[0.5555555555555556,\"#d8576b\"],[0.6666666666666666,\"#ed7953\"],[0.7777777777777778,\"#fb9f3a\"],[0.8888888888888888,\"#fdca26\"],[1.0,\"#f0f921\"]]}],\"heatmapgl\":[{\"type\":\"heatmapgl\",\"colorbar\":{\"outlinewidth\":0,\"ticks\":\"\"},\"colorscale\":[[0.0,\"#0d0887\"],[0.1111111111111111,\"#46039f\"],[0.2222222222222222,\"#7201a8\"],[0.3333333333333333,\"#9c179e\"],[0.4444444444444444,\"#bd3786\"],[0.5555555555555556,\"#d8576b\"],[0.6666666666666666,\"#ed7953\"],[0.7777777777777778,\"#fb9f3a\"],[0.8888888888888888,\"#fdca26\"],[1.0,\"#f0f921\"]]}],\"contourcarpet\":[{\"type\":\"contourcarpet\",\"colorbar\":{\"outlinewidth\":0,\"ticks\":\"\"}}],\"contour\":[{\"type\":\"contour\",\"colorbar\":{\"outlinewidth\":0,\"ticks\":\"\"},\"colorscale\":[[0.0,\"#0d0887\"],[0.1111111111111111,\"#46039f\"],[0.2222222222222222,\"#7201a8\"],[0.3333333333333333,\"#9c179e\"],[0.4444444444444444,\"#bd3786\"],[0.5555555555555556,\"#d8576b\"],[0.6666666666666666,\"#ed7953\"],[0.7777777777777778,\"#fb9f3a\"],[0.8888888888888888,\"#fdca26\"],[1.0,\"#f0f921\"]]}],\"surface\":[{\"type\":\"surface\",\"colorbar\":{\"outlinewidth\":0,\"ticks\":\"\"},\"colorscale\":[[0.0,\"#0d0887\"],[0.1111111111111111,\"#46039f\"],[0.2222222222222222,\"#7201a8\"],[0.3333333333333333,\"#9c179e\"],[0.4444444444444444,\"#bd3786\"],[0.5555555555555556,\"#d8576b\"],[0.6666666666666666,\"#ed7953\"],[0.7777777777777778,\"#fb9f3a\"],[0.8888888888888888,\"#fdca26\"],[1.0,\"#f0f921\"]]}],\"mesh3d\":[{\"type\":\"mesh3d\",\"colorbar\":{\"outlinewidth\":0,\"ticks\":\"\"}}],\"scatter\":[{\"fillpattern\":{\"fillmode\":\"overlay\",\"size\":10,\"solidity\":0.2},\"type\":\"scatter\"}],\"parcoords\":[{\"type\":\"parcoords\",\"line\":{\"colorbar\":{\"outlinewidth\":0,\"ticks\":\"\"}}}],\"scatterpolargl\":[{\"type\":\"scatterpolargl\",\"marker\":{\"colorbar\":{\"outlinewidth\":0,\"ticks\":\"\"}}}],\"bar\":[{\"error_x\":{\"color\":\"#2a3f5f\"},\"error_y\":{\"color\":\"#2a3f5f\"},\"marker\":{\"line\":{\"color\":\"#E5ECF6\",\"width\":0.5},\"pattern\":{\"fillmode\":\"overlay\",\"size\":10,\"solidity\":0.2}},\"type\":\"bar\"}],\"scattergeo\":[{\"type\":\"scattergeo\",\"marker\":{\"colorbar\":{\"outlinewidth\":0,\"ticks\":\"\"}}}],\"scatterpolar\":[{\"type\":\"scatterpolar\",\"marker\":{\"colorbar\":{\"outlinewidth\":0,\"ticks\":\"\"}}}],\"histogram\":[{\"marker\":{\"pattern\":{\"fillmode\":\"overlay\",\"size\":10,\"solidity\":0.2}},\"type\":\"histogram\"}],\"scattergl\":[{\"type\":\"scattergl\",\"marker\":{\"colorbar\":{\"outlinewidth\":0,\"ticks\":\"\"}}}],\"scatter3d\":[{\"type\":\"scatter3d\",\"line\":{\"colorbar\":{\"outlinewidth\":0,\"ticks\":\"\"}},\"marker\":{\"colorbar\":{\"outlinewidth\":0,\"ticks\":\"\"}}}],\"scattermapbox\":[{\"type\":\"scattermapbox\",\"marker\":{\"colorbar\":{\"outlinewidth\":0,\"ticks\":\"\"}}}],\"scatterternary\":[{\"type\":\"scatterternary\",\"marker\":{\"colorbar\":{\"outlinewidth\":0,\"ticks\":\"\"}}}],\"scattercarpet\":[{\"type\":\"scattercarpet\",\"marker\":{\"colorbar\":{\"outlinewidth\":0,\"ticks\":\"\"}}}],\"carpet\":[{\"aaxis\":{\"endlinecolor\":\"#2a3f5f\",\"gridcolor\":\"white\",\"linecolor\":\"white\",\"minorgridcolor\":\"white\",\"startlinecolor\":\"#2a3f5f\"},\"baxis\":{\"endlinecolor\":\"#2a3f5f\",\"gridcolor\":\"white\",\"linecolor\":\"white\",\"minorgridcolor\":\"white\",\"startlinecolor\":\"#2a3f5f\"},\"type\":\"carpet\"}],\"table\":[{\"cells\":{\"fill\":{\"color\":\"#EBF0F8\"},\"line\":{\"color\":\"white\"}},\"header\":{\"fill\":{\"color\":\"#C8D4E3\"},\"line\":{\"color\":\"white\"}},\"type\":\"table\"}],\"barpolar\":[{\"marker\":{\"line\":{\"color\":\"#E5ECF6\",\"width\":0.5},\"pattern\":{\"fillmode\":\"overlay\",\"size\":10,\"solidity\":0.2}},\"type\":\"barpolar\"}],\"pie\":[{\"automargin\":true,\"type\":\"pie\"}]},\"layout\":{\"autotypenumbers\":\"strict\",\"colorway\":[\"#636efa\",\"#EF553B\",\"#00cc96\",\"#ab63fa\",\"#FFA15A\",\"#19d3f3\",\"#FF6692\",\"#B6E880\",\"#FF97FF\",\"#FECB52\"],\"font\":{\"color\":\"#2a3f5f\"},\"hovermode\":\"closest\",\"hoverlabel\":{\"align\":\"left\"},\"paper_bgcolor\":\"white\",\"plot_bgcolor\":\"#E5ECF6\",\"polar\":{\"bgcolor\":\"#E5ECF6\",\"angularaxis\":{\"gridcolor\":\"white\",\"linecolor\":\"white\",\"ticks\":\"\"},\"radialaxis\":{\"gridcolor\":\"white\",\"linecolor\":\"white\",\"ticks\":\"\"}},\"ternary\":{\"bgcolor\":\"#E5ECF6\",\"aaxis\":{\"gridcolor\":\"white\",\"linecolor\":\"white\",\"ticks\":\"\"},\"baxis\":{\"gridcolor\":\"white\",\"linecolor\":\"white\",\"ticks\":\"\"},\"caxis\":{\"gridcolor\":\"white\",\"linecolor\":\"white\",\"ticks\":\"\"}},\"coloraxis\":{\"colorbar\":{\"outlinewidth\":0,\"ticks\":\"\"}},\"colorscale\":{\"sequential\":[[0.0,\"#0d0887\"],[0.1111111111111111,\"#46039f\"],[0.2222222222222222,\"#7201a8\"],[0.3333333333333333,\"#9c179e\"],[0.4444444444444444,\"#bd3786\"],[0.5555555555555556,\"#d8576b\"],[0.6666666666666666,\"#ed7953\"],[0.7777777777777778,\"#fb9f3a\"],[0.8888888888888888,\"#fdca26\"],[1.0,\"#f0f921\"]],\"sequentialminus\":[[0.0,\"#0d0887\"],[0.1111111111111111,\"#46039f\"],[0.2222222222222222,\"#7201a8\"],[0.3333333333333333,\"#9c179e\"],[0.4444444444444444,\"#bd3786\"],[0.5555555555555556,\"#d8576b\"],[0.6666666666666666,\"#ed7953\"],[0.7777777777777778,\"#fb9f3a\"],[0.8888888888888888,\"#fdca26\"],[1.0,\"#f0f921\"]],\"diverging\":[[0,\"#8e0152\"],[0.1,\"#c51b7d\"],[0.2,\"#de77ae\"],[0.3,\"#f1b6da\"],[0.4,\"#fde0ef\"],[0.5,\"#f7f7f7\"],[0.6,\"#e6f5d0\"],[0.7,\"#b8e186\"],[0.8,\"#7fbc41\"],[0.9,\"#4d9221\"],[1,\"#276419\"]]},\"xaxis\":{\"gridcolor\":\"white\",\"linecolor\":\"white\",\"ticks\":\"\",\"title\":{\"standoff\":15},\"zerolinecolor\":\"white\",\"automargin\":true,\"zerolinewidth\":2},\"yaxis\":{\"gridcolor\":\"white\",\"linecolor\":\"white\",\"ticks\":\"\",\"title\":{\"standoff\":15},\"zerolinecolor\":\"white\",\"automargin\":true,\"zerolinewidth\":2},\"scene\":{\"xaxis\":{\"backgroundcolor\":\"#E5ECF6\",\"gridcolor\":\"white\",\"linecolor\":\"white\",\"showbackground\":true,\"ticks\":\"\",\"zerolinecolor\":\"white\",\"gridwidth\":2},\"yaxis\":{\"backgroundcolor\":\"#E5ECF6\",\"gridcolor\":\"white\",\"linecolor\":\"white\",\"showbackground\":true,\"ticks\":\"\",\"zerolinecolor\":\"white\",\"gridwidth\":2},\"zaxis\":{\"backgroundcolor\":\"#E5ECF6\",\"gridcolor\":\"white\",\"linecolor\":\"white\",\"showbackground\":true,\"ticks\":\"\",\"zerolinecolor\":\"white\",\"gridwidth\":2}},\"shapedefaults\":{\"line\":{\"color\":\"#2a3f5f\"}},\"annotationdefaults\":{\"arrowcolor\":\"#2a3f5f\",\"arrowhead\":0,\"arrowwidth\":1},\"geo\":{\"bgcolor\":\"white\",\"landcolor\":\"#E5ECF6\",\"subunitcolor\":\"white\",\"showland\":true,\"showlakes\":true,\"lakecolor\":\"white\"},\"title\":{\"x\":0.05},\"mapbox\":{\"style\":\"light\"}}},\"xaxis\":{\"anchor\":\"y\",\"domain\":[0.0,1.0],\"title\":{\"text\":\"x\"}},\"yaxis\":{\"anchor\":\"x\",\"domain\":[0.0,1.0],\"title\":{\"text\":\"y\"}},\"legend\":{\"tracegroupgap\":0},\"margin\":{\"t\":60},\"barmode\":\"relative\"},                        {\"responsive\": true}                    ).then(function(){\n",
       "                            \n",
       "var gd = document.getElementById('71f93679-fda2-45ed-aa02-5af21f87d04a');\n",
       "var x = new MutationObserver(function (mutations, observer) {{\n",
       "        var display = window.getComputedStyle(gd).display;\n",
       "        if (!display || display === 'none') {{\n",
       "            console.log([gd, 'removed!']);\n",
       "            Plotly.purge(gd);\n",
       "            observer.disconnect();\n",
       "        }}\n",
       "}});\n",
       "\n",
       "// Listen for the removal of the full notebook cells\n",
       "var notebookContainer = gd.closest('#notebook-container');\n",
       "if (notebookContainer) {{\n",
       "    x.observe(notebookContainer, {childList: true});\n",
       "}}\n",
       "\n",
       "// Listen for the clearing of the current output cell\n",
       "var outputEl = gd.closest('.output');\n",
       "if (outputEl) {{\n",
       "    x.observe(outputEl, {childList: true});\n",
       "}}\n",
       "\n",
       "                        })                };                });            </script>        </div>"
      ]
     },
     "metadata": {},
     "output_type": "display_data"
    }
   ],
   "source": [
    "import plotly.express as px\n",
    "feat_imp = pd.Series(model1.feature_importances_, index=X.columns).sort_values(ascending=False)\n",
    "print('Columns with poor contribution', feat_imp[feat_imp<10].index)\n",
    "fig = px.bar(x=feat_imp, y=feat_imp.index, orientation='h')\n",
    "fig.show()"
   ]
  },
  {
   "cell_type": "code",
   "execution_count": 88,
   "id": "8bc490e2-5f03-42f9-927e-3c79958d0d5b",
   "metadata": {},
   "outputs": [
    {
     "data": {
      "text/plain": [
       "reference_price_wap_imb           1200\n",
       "market_urgency                    1069\n",
       "seconds_in_bucket                 1040\n",
       "global_median_size                 679\n",
       "reference_price_bid_price_imb      621\n",
       "                                  ... \n",
       "imbalance_buy_sell_flag_ret_10       1\n",
       "imbalance_buy_sell_flag_ret_1        1\n",
       "price_spread_diff_1                  0\n",
       "minute                               0\n",
       "imbalance_buy_sell_flag_ret_3        0\n",
       "Length: 162, dtype: int32"
      ]
     },
     "execution_count": 88,
     "metadata": {},
     "output_type": "execute_result"
    }
   ],
   "source": [
    "feat_imp"
   ]
  },
  {
   "cell_type": "markdown",
   "id": "0bf2fdf3-1c16-4408-b43b-827662fbb2e0",
   "metadata": {},
   "source": [
    "# Playground-Testing different portions of dataset -"
   ]
  },
  {
   "cell_type": "code",
   "execution_count": null,
   "id": "4cbbf8dc-3a05-4644-94cd-4d0b7075fc4f",
   "metadata": {},
   "outputs": [],
   "source": []
  },
  {
   "cell_type": "code",
   "execution_count": 20,
   "id": "a4a5a15e-08c2-4e19-a1d2-259b80d651e7",
   "metadata": {},
   "outputs": [],
   "source": [
    "lgb_params = {\n",
    "        \"objective\": \"mae\",\n",
    "        \"n_estimators\": 6000,\n",
    "        \"num_leaves\": 256,\n",
    "        \"subsample\": 0.6,\n",
    "        \"colsample_bytree\": 0.8,\n",
    "#         \"learning_rate\": 0.00871,\n",
    "        \"learning_rate\": 0.01,\n",
    "        'max_depth': 11,\n",
    "        \"n_jobs\": 4,\n",
    "        \"device\": \"gpu\",\n",
    "        \"verbosity\": -1,\n",
    "        \"importance_type\": \"gain\",\n",
    "#         \"reg_alpha\": 0.1,\n",
    "        \"reg_alpha\": 0.2,\n",
    "        \"reg_lambda\": 3.25\n",
    "    }\n"
   ]
  },
  {
   "cell_type": "code",
   "execution_count": 21,
   "id": "2d0e9fa0-6182-4b88-b531-c850bab6a8d4",
   "metadata": {},
   "outputs": [
    {
     "name": "stdout",
     "output_type": "stream",
     "text": [
      "Training until validation scores don't improve for 100 rounds\n",
      "[100]\tvalid_0's l1: 6.34673\n",
      "[200]\tvalid_0's l1: 6.32678\n",
      "[300]\tvalid_0's l1: 6.31741\n",
      "[400]\tvalid_0's l1: 6.3097\n",
      "[500]\tvalid_0's l1: 6.30577\n",
      "[600]\tvalid_0's l1: 6.30235\n",
      "[700]\tvalid_0's l1: 6.30018\n",
      "[800]\tvalid_0's l1: 6.29888\n",
      "[900]\tvalid_0's l1: 6.29798\n",
      "[1000]\tvalid_0's l1: 6.29751\n",
      "[1100]\tvalid_0's l1: 6.29708\n",
      "[1200]\tvalid_0's l1: 6.29679\n",
      "[1300]\tvalid_0's l1: 6.29636\n",
      "[1400]\tvalid_0's l1: 6.2961\n",
      "[1500]\tvalid_0's l1: 6.29593\n",
      "[1600]\tvalid_0's l1: 6.29572\n",
      "[1700]\tvalid_0's l1: 6.29572\n",
      "Early stopping, best iteration is:\n",
      "[1633]\tvalid_0's l1: 6.29569\n",
      "CPU times: user 29min 53s, sys: 4.78 s, total: 29min 58s\n",
      "Wall time: 7min 46s\n"
     ]
    },
    {
     "data": {
      "text/plain": [
       "(1066944, 5.928846513212814)"
      ]
     },
     "execution_count": 21,
     "metadata": {},
     "output_type": "execute_result"
    }
   ],
   "source": [
    "%%time\n",
    "# Train a LightGBM model for the current fold\n",
    "model = lgb.LGBMRegressor(**lgb_params)\n",
    "evaluate_simple(model, df_train_feats,df_valid_feats,df_tst_feats, y_train, y_valid, y_tst)"
   ]
  },
  {
   "cell_type": "code",
   "execution_count": 33,
   "id": "00a329dd-777b-4318-86b5-9092f29a46ee",
   "metadata": {},
   "outputs": [
    {
     "data": {
      "text/plain": [
       "5.930027978086307"
      ]
     },
     "execution_count": 33,
     "metadata": {},
     "output_type": "execute_result"
    }
   ],
   "source": [
    "y_pred = model.predict(df_tst_feats)\n",
    "mean_absolute_error(y_pred, y_tst)"
   ]
  },
  {
   "cell_type": "code",
   "execution_count": 55,
   "id": "ec392b09-2cb9-43fb-a6c3-e56d35e33224",
   "metadata": {},
   "outputs": [
    {
     "data": {
      "text/plain": [
       "5.153793577574254"
      ]
     },
     "execution_count": 55,
     "metadata": {},
     "output_type": "execute_result"
    }
   ],
   "source": [
    "#what about if we just test the ones not infered?\n",
    "y_tst1=y_tst.reset_index(drop=True)\n",
    "df_tst_feats1=df_tst_feats.reset_index(drop=True)\n",
    "y_pred = model.predict(df_tst_feats1[df_tst_feats1.syn_near_price==0])\n",
    "mean_absolute_error(y_pred, y_tst1[df_tst_feats1.syn_near_price==0])"
   ]
  }
 ],
 "metadata": {
  "kernelspec": {
   "display_name": "Python 3 (ipykernel)",
   "language": "python",
   "name": "python3"
  },
  "language_info": {
   "codemirror_mode": {
    "name": "ipython",
    "version": 3
   },
   "file_extension": ".py",
   "mimetype": "text/x-python",
   "name": "python",
   "nbconvert_exporter": "python",
   "pygments_lexer": "ipython3",
   "version": "3.9.18"
  }
 },
 "nbformat": 4,
 "nbformat_minor": 5
}
