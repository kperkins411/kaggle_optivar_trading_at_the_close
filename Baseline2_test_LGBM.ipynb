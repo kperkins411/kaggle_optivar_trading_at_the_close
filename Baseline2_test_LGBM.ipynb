{
 "cells": [
  {
   "cell_type": "code",
   "execution_count": 1,
   "id": "27f1dc04-aa00-4a87-aaee-7c9d0dc0e4f1",
   "metadata": {},
   "outputs": [],
   "source": [
    "import gc  \n",
    "import os  \n",
    "import time  \n",
    "import warnings \n",
    "from itertools import combinations  \n",
    "from warnings import simplefilter \n",
    "import joblib  \n",
    "import playground.optivarfuncs as of\n",
    "import lightgbm as lgb  \n",
    "import numpy as np  \n",
    "import pandas as pd  \n",
    "from sklearn.metrics import mean_absolute_error \n",
    "from sklearn.model_selection import KFold, TimeSeriesSplit  \n",
    "warnings.filterwarnings(\"ignore\")\n",
    "simplefilter(action=\"ignore\", category=pd.errors.PerformanceWarning)\n",
    "is_offline = False \n",
    "is_train = True  \n",
    "is_infer = True \n",
    "max_lookback = np.nan \n",
    "split_day = 435  "
   ]
  },
  {
   "cell_type": "markdown",
   "id": "e0700cf6-deb9-4987-b082-c75c3b98119b",
   "metadata": {},
   "source": [
    "# Load Data"
   ]
  },
  {
   "cell_type": "code",
   "execution_count": 2,
   "id": "1c9057ed-2301-4549-b540-66d0d33d58d5",
   "metadata": {},
   "outputs": [],
   "source": [
    "df=pd.read_parquet(\"./tmpalldfgb.parquet\")"
   ]
  },
  {
   "cell_type": "markdown",
   "id": "ae3ea84a-e9d0-422e-a041-79e4721a1955",
   "metadata": {},
   "source": [
    "# Simple evaluation"
   ]
  },
  {
   "cell_type": "code",
   "execution_count": 4,
   "id": "b549528b-35d9-4730-a710-b3ba07adff8b",
   "metadata": {},
   "outputs": [
    {
     "name": "stdout",
     "output_type": "stream",
     "text": [
      "df shape=(5236560, 92), min_date=0.0,max_date=480.0, val_start=344.0, tst_start=384.0\n"
     ]
    },
    {
     "data": {
      "text/plain": [
       "-0.045557416726880184"
      ]
     },
     "execution_count": 4,
     "metadata": {},
     "output_type": "execute_result"
    }
   ],
   "source": [
    "#what is the average target\n",
    "_,_,_,target,_,_=of.getDatasets(df,dep_var='target')\n",
    "av_target_train=target.mean()\n",
    "av_target_train"
   ]
  },
  {
   "cell_type": "code",
   "execution_count": 5,
   "id": "0c6d8568-1b88-42cb-bcba-a4d623cf6034",
   "metadata": {},
   "outputs": [],
   "source": [
    "params = {\n",
    "    'random_seed':123\n",
    "}\n",
    "def evaluate_simple(model, X_train, X_val, X_tst, y_train, y_val, y_tst):   \n",
    "    model.fit(X_train, y_train, eval_set=[(X_val, y_val)], callbacks=[lgb.early_stopping(stopping_rounds=100, verbose=True),lgb.callback.log_evaluation(period=100)])\n",
    "\n",
    "    y_pred = model.predict(X_tst)\n",
    "    return len(y_pred), mean_absolute_error(y_pred, y_tst)\n",
    "    \n",
    "def average_target(av_target_train, X_train, X_val, X_tst, y_train, y_val, y_tst):   \n",
    "    # model.fit(X_train, y_train, eval_set=[(X_val, y_val)], callbacks=[lgb.early_stopping(50, verbose=False)])\n",
    "    return len(y_tst), mean_absolute_error([av_target_train]*len(y_tst), y_tst)"
   ]
  },
  {
   "cell_type": "code",
   "execution_count": 6,
   "id": "6960a980-231c-4663-9803-148f6def4dd4",
   "metadata": {},
   "outputs": [],
   "source": [
    "def evaluate_2models(df,params):\n",
    "    #inferred\n",
    "    df1=df[df.syn_near_price==1]\n",
    "    model = lgb.LGBMRegressor(**params)\n",
    "    # l1,mae1=evaluate_simple(model, *of.getDatasets(df1,dep_var='target'))\n",
    "    l1,mae1=average_target(av_target_train,*of.getDatasets(df1,dep_var='target'))\n",
    "    \n",
    "    #not infered\n",
    "    df1=df[df.syn_near_price==0]\n",
    "    model = lgb.LGBMRegressor(**params)\n",
    "    # l1,mae1=evaluate_simple(model, *of.getDatasets(df1,dep_var='target'))\n",
    "    l2,mae2=evaluate_simple(model, *of.getDatasets(df1,dep_var='target'))\n",
    "\n",
    "    #combine\n",
    "    return (l1*mae1 + l2*mae2)/(l1 + l2)"
   ]
  },
  {
   "cell_type": "code",
   "execution_count": 6,
   "id": "b8a210ef-c392-4acf-8ac3-b8c6a3e29871",
   "metadata": {},
   "outputs": [
    {
     "name": "stdout",
     "output_type": "stream",
     "text": [
      "df shape=(2855760, 92), min_date=0.0,max_date=480.0, val_start=344.0, tst_start=384.0\n",
      "l2=581940, mae2=6.7156331435713295\n"
     ]
    }
   ],
   "source": [
    "#synthetic score only\n",
    "df1=df[df.syn_near_price==1]\n",
    "model = lgb.LGBMRegressor(**params)\n",
    "l2,mae2=average_target(model, *of.getDatasets(df1,dep_var='target'))\n",
    "print(f\"l2={l2}, mae2={mae2}\")"
   ]
  },
  {
   "cell_type": "code",
   "execution_count": 24,
   "id": "3d51e487-6cf9-4c0c-bffa-a58ef86f69b9",
   "metadata": {},
   "outputs": [
    {
     "name": "stdout",
     "output_type": "stream",
     "text": [
      "df shape=(2855760, 92), min_date=0.0,max_date=480.0, val_start=344.0, tst_start=384.0\n"
     ]
    },
    {
     "data": {
      "text/plain": [
       "(581940, 6.715444192813097)"
      ]
     },
     "execution_count": 24,
     "metadata": {},
     "output_type": "execute_result"
    }
   ],
   "source": [
    "#synthetic score only, average target\n",
    "df1=df[df.syn_near_price==1]\n",
    "average_target(av_target_train,*of.getDatasets(df1,dep_var='target'))"
   ]
  },
  {
   "cell_type": "code",
   "execution_count": 7,
   "id": "95fbc223-eac9-4cb0-8e93-0951279ebf2b",
   "metadata": {},
   "outputs": [
    {
     "name": "stdout",
     "output_type": "stream",
     "text": [
      "df shape=(2380800, 92), min_date=0.0,max_date=480.0, val_start=344.0, tst_start=384.0\n",
      "[LightGBM] [Info] Auto-choosing col-wise multi-threading, the overhead of testing was 0.323632 seconds.\n",
      "You can set `force_col_wise=true` to remove the overhead.\n",
      "[LightGBM] [Info] Total Bins 19884\n",
      "[LightGBM] [Info] Number of data points in the train set: 1695850, number of used features: 90\n",
      "[LightGBM] [Info] Start training from score -0.034302\n"
     ]
    },
    {
     "data": {
      "text/plain": [
       "(484950, 5.189393988997699)"
      ]
     },
     "execution_count": 7,
     "metadata": {},
     "output_type": "execute_result"
    }
   ],
   "source": [
    "#non synthetic score only\n",
    "df1=df[df.syn_near_price==0]\n",
    "model = lgb.LGBMRegressor()\n",
    "# l1,mae1=evaluate_simple(model, *of.getDatasets(df1,dep_var='target'))\n",
    "evaluate_simple(model, *of.getDatasets(df1,dep_var='target'))"
   ]
  },
  {
   "cell_type": "code",
   "execution_count": 10,
   "id": "f9a76859-749b-4238-9de2-58e4effcfe3f",
   "metadata": {},
   "outputs": [
    {
     "name": "stdout",
     "output_type": "stream",
     "text": [
      "df shape=(5236560, 92), min_date=0.0,max_date=480.0, val_start=344.0, tst_start=384.0\n",
      "[LightGBM] [Info] Auto-choosing col-wise multi-threading, the overhead of testing was 0.946039 seconds.\n",
      "You can set `force_col_wise=true` to remove the overhead.\n",
      "[LightGBM] [Info] Total Bins 19916\n",
      "[LightGBM] [Info] Number of data points in the train set: 3729670, number of used features: 91\n",
      "[LightGBM] [Info] Start training from score -0.045557\n"
     ]
    },
    {
     "data": {
      "text/plain": [
       "(1066890, 5.965150822011987)"
      ]
     },
     "execution_count": 10,
     "metadata": {},
     "output_type": "execute_result"
    }
   ],
   "source": [
    "#do it all with 1 model\n",
    "model = lgb.LGBMRegressor()\n",
    "evaluate_simple(model, *of.getDatasets(df,dep_var='target'))"
   ]
  },
  {
   "cell_type": "code",
   "execution_count": 26,
   "id": "2689e4b3-9fe9-45ef-b91e-70243d628815",
   "metadata": {},
   "outputs": [
    {
     "name": "stdout",
     "output_type": "stream",
     "text": [
      "df shape=(2855760, 92), min_date=0.0,max_date=480.0, val_start=344.0, tst_start=384.0\n",
      "df shape=(2380800, 92), min_date=0.0,max_date=480.0, val_start=344.0, tst_start=384.0\n",
      "[LightGBM] [Info] Auto-choosing col-wise multi-threading, the overhead of testing was 0.356607 seconds.\n",
      "You can set `force_col_wise=true` to remove the overhead.\n",
      "[LightGBM] [Info] Total Bins 19887\n",
      "[LightGBM] [Info] Number of data points in the train set: 1695850, number of used features: 90\n",
      "[LightGBM] [Info] Start training from score -0.034302\n",
      "MAE=6.020388626083104\n"
     ]
    }
   ],
   "source": [
    "# use 2 models\n",
    "print(f\"MAE={evaluate_2models(df,params)}\")"
   ]
  },
  {
   "cell_type": "code",
   "execution_count": 13,
   "id": "73dd59ff-4f5c-4038-9952-ae4dbad80a94",
   "metadata": {},
   "outputs": [
    {
     "name": "stdout",
     "output_type": "stream",
     "text": [
      "df shape=(2855760, 92), min_date=0.0,max_date=480.0, val_start=344.0, tst_start=384.0\n",
      "[LightGBM] [Info] Auto-choosing col-wise multi-threading, the overhead of testing was 0.425242 seconds.\n",
      "You can set `force_col_wise=true` to remove the overhead.\n",
      "[LightGBM] [Info] Total Bins 19886\n",
      "[LightGBM] [Info] Number of data points in the train set: 2033820, number of used features: 89\n",
      "[LightGBM] [Info] Start training from score -0.054942\n",
      "df shape=(2380800, 92), min_date=0.0,max_date=480.0, val_start=344.0, tst_start=384.0\n",
      "[LightGBM] [Info] Auto-choosing col-wise multi-threading, the overhead of testing was 0.349780 seconds.\n",
      "You can set `force_col_wise=true` to remove the overhead.\n",
      "[LightGBM] [Info] Total Bins 19887\n",
      "[LightGBM] [Info] Number of data points in the train set: 1695850, number of used features: 90\n",
      "[LightGBM] [Info] Start training from score -0.034302\n",
      "MAE=5.963954970292424\n"
     ]
    }
   ],
   "source": [
    "# use 2 models \n",
    "print(f\"MAE={evaluate_2models(df,params)}\")"
   ]
  },
  {
   "cell_type": "code",
   "execution_count": 63,
   "id": "6987a01f-2e42-4e2d-be9f-8e0f7fb9d153",
   "metadata": {},
   "outputs": [
    {
     "name": "stdout",
     "output_type": "stream",
     "text": [
      "min_date=0.0,max_date=480.0, val_start=344.0, tst_start=384.0\n",
      "[LightGBM] [Info] Auto-choosing col-wise multi-threading, the overhead of testing was 0.403960 seconds.\n",
      "You can set `force_col_wise=true` to remove the overhead.\n",
      "[LightGBM] [Info] Total Bins 19882\n",
      "[LightGBM] [Info] Number of data points in the train set: 1695850, number of used features: 89\n",
      "[LightGBM] [Info] Start training from score -0.034302\n",
      "MAE=5.189393988997699\n"
     ]
    }
   ],
   "source": [
    "#REMOVE all rows with synthesized near_price and far_price\n",
    "params = {\n",
    "    'random_seed':123\n",
    "}\n",
    "# df=pd.read_parquet(\"./tmpall.parquet\")  #MAE=5.193618272135373 \n",
    "df=pd.read_parquet(\"./tmpalldfgb.parquet\") #MAE=5.189393988997699\n",
    "# remove syn generated near_price and far price rows\n",
    "df=df[df.syn_near_price==0]\n",
    "bs.remove_syn_columns(df)\n",
    "X_train, X_val,X_tst, y_train, y_val,y_tst=getDatasets(df,dep_var='target')\n",
    "\n",
    "model = lgb.LGBMRegressor()\n",
    "print(f\"MAE={evaluate_simple(model)}\")"
   ]
  },
  {
   "cell_type": "markdown",
   "id": "278a5d3d-c5f0-4a91-8919-65bec6966bc2",
   "metadata": {},
   "source": [
    "# From other notebook"
   ]
  },
  {
   "cell_type": "code",
   "execution_count": 7,
   "id": "f6678449-c309-41d5-842e-245b4ddc2843",
   "metadata": {},
   "outputs": [],
   "source": [
    "lgb_params = {\n",
    "        \"objective\": \"mae\",\n",
    "        \"n_estimators\": 6000,\n",
    "        \"num_leaves\": 256,\n",
    "        \"subsample\": 0.6,\n",
    "        \"colsample_bytree\": 0.8,\n",
    "#         \"learning_rate\": 0.00871,\n",
    "        \"learning_rate\": 0.01,\n",
    "        'max_depth': 11,\n",
    "        \"n_jobs\": 4,\n",
    "        \"device\": \"gpu\",\n",
    "        \"verbosity\": -1,\n",
    "        \"importance_type\": \"gain\",\n",
    "#         \"reg_alpha\": 0.1,\n",
    "        \"reg_alpha\": 0.2,\n",
    "        \"reg_lambda\": 3.25\n",
    "    }\n"
   ]
  },
  {
   "cell_type": "code",
   "execution_count": 8,
   "id": "db85b238-fd3e-436c-8a7f-ffb9b223dedd",
   "metadata": {},
   "outputs": [
    {
     "name": "stdout",
     "output_type": "stream",
     "text": [
      "df shape=(5236560, 92), min_date=0.0,max_date=480.0, val_start=344.0, tst_start=384.0\n",
      "Training until validation scores don't improve for 100 rounds\n",
      "[100]\tvalid_0's l1: 6.34834\n",
      "[200]\tvalid_0's l1: 6.32739\n",
      "[300]\tvalid_0's l1: 6.31635\n",
      "[400]\tvalid_0's l1: 6.30841\n",
      "[500]\tvalid_0's l1: 6.3042\n",
      "[600]\tvalid_0's l1: 6.30241\n",
      "[700]\tvalid_0's l1: 6.30134\n",
      "[800]\tvalid_0's l1: 6.30041\n",
      "[900]\tvalid_0's l1: 6.29987\n",
      "[1000]\tvalid_0's l1: 6.29935\n",
      "[1100]\tvalid_0's l1: 6.29875\n",
      "[1200]\tvalid_0's l1: 6.299\n",
      "Early stopping, best iteration is:\n",
      "[1138]\tvalid_0's l1: 6.29869\n",
      "CPU times: user 16min 9s, sys: 4.11 s, total: 16min 13s\n",
      "Wall time: 4min 16s\n"
     ]
    },
    {
     "data": {
      "text/plain": [
       "(1066890, 5.946751250435294)"
      ]
     },
     "execution_count": 8,
     "metadata": {},
     "output_type": "execute_result"
    }
   ],
   "source": [
    "%%time\n",
    "# Train a LightGBM model for the current fold\n",
    "model = lgb.LGBMRegressor(**lgb_params)\n",
    "evaluate_simple(model, *of.getDatasets(df,dep_var='target'))"
   ]
  },
  {
   "cell_type": "code",
   "execution_count": null,
   "id": "8d70979e-cec8-45e1-8d17-ebdbd97bd405",
   "metadata": {},
   "outputs": [],
   "source": []
  }
 ],
 "metadata": {
  "kernelspec": {
   "display_name": "Python 3 (ipykernel)",
   "language": "python",
   "name": "python3"
  },
  "language_info": {
   "codemirror_mode": {
    "name": "ipython",
    "version": 3
   },
   "file_extension": ".py",
   "mimetype": "text/x-python",
   "name": "python",
   "nbconvert_exporter": "python",
   "pygments_lexer": "ipython3",
   "version": "3.9.18"
  }
 },
 "nbformat": 4,
 "nbformat_minor": 5
}
