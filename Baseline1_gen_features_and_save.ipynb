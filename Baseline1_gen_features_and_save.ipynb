{
 "cells": [
  {
   "cell_type": "code",
   "execution_count": 30,
   "id": "fba6fbe4-9cf5-4cbf-9633-c5fac6f7da69",
   "metadata": {},
   "outputs": [],
   "source": [
    "import gc  \n",
    "import os  \n",
    "import time  \n",
    "import warnings \n",
    "from itertools import combinations  \n",
    "from warnings import simplefilter \n",
    "import joblib  \n",
    "import playground.optivarfuncs as of\n",
    "import lightgbm as lgb  \n",
    "import numpy as np  \n",
    "import pandas as pd  \n",
    "from sklearn.metrics import mean_absolute_error \n",
    "from sklearn.model_selection import KFold, TimeSeriesSplit  \n",
    "warnings.filterwarnings(\"ignore\")\n",
    "simplefilter(action=\"ignore\", category=pd.errors.PerformanceWarning)\n",
    "is_offline = False \n",
    "is_train = True  \n",
    "is_infer = True \n",
    "max_lookback = np.nan \n",
    "split_day = 435  "
   ]
  },
  {
   "cell_type": "markdown",
   "id": "b40267af-acb7-4c17-a905-b33659850ecd",
   "metadata": {},
   "source": [
    "# Settings\n",
    "There are 480 dates, 5 days a week or 96 weeks"
   ]
  },
  {
   "cell_type": "code",
   "execution_count": 31,
   "id": "b4218260-02b6-4520-b479-0f94415818d2",
   "metadata": {},
   "outputs": [],
   "source": [
    "class CONFIG:    \n",
    "    #take last 3 months worth? or roughly 12*5=60.  So we want from (480-60) to 480\n",
    "    # start_date=420\n",
    "\n",
    "    #take last 1 months worth? or roughly 4*5=20.  So we want from (480-20) to 480\n",
    "    start_date=460\n",
    "    \n",
    "\n",
    "    use_subset_of_data=False"
   ]
  },
  {
   "cell_type": "code",
   "execution_count": 32,
   "id": "bb1a9c2d-f401-4c34-8721-359d43731824",
   "metadata": {},
   "outputs": [],
   "source": [
    "#logging\n",
    "import logging\n",
    "# set up logging to file - see previous section for more details\n",
    "logging.basicConfig(level=logging.DEBUG,\n",
    "                    filename='logg.log',\n",
    "                    filemode='w')\n",
    "# define a Handler which writes INFO messages or higher to the sys.stderr\n",
    "console = logging.StreamHandler()\n",
    "# add the handler to the root logger\n",
    "logging.getLogger().addHandler(console)\n",
    "logger=logging.getLogger()\n",
    "\n",
    "#use following to enable and disable\n",
    "logger.disabled = True\n",
    "# logger.disabled = False\n"
   ]
  },
  {
   "cell_type": "code",
   "execution_count": 33,
   "id": "50d9d1a4-527b-4ca5-9a77-fd6f82980759",
   "metadata": {},
   "outputs": [
    {
     "data": {
      "text/plain": [
       "'RAM usage = 0.4286 GB'"
      ]
     },
     "execution_count": 33,
     "metadata": {},
     "output_type": "execute_result"
    }
   ],
   "source": [
    "# Tracking kernel memory usage:-  \n",
    "from os import path, walk, getpid;\n",
    "from psutil import Process;\n",
    "def GetMemUsage():\n",
    "    \"\"\"\n",
    "    This function defines the memory usage across the kernel. \n",
    "    Source-\n",
    "    https://stackoverflow.com/questions/61366458/how-to-find-memory-usage-of-kaggle-notebook\n",
    "    \"\"\";\n",
    "    \n",
    "    pid = getpid();\n",
    "    py = Process(pid);\n",
    "    memory_use = py.memory_info()[0] / 2. ** 30;\n",
    "    return f\"RAM usage = {memory_use :.4} GB\";\n",
    "GetMemUsage()"
   ]
  },
  {
   "cell_type": "code",
   "execution_count": 34,
   "id": "3cfe9aa8-1771-4c6f-92e5-8e152ade6be2",
   "metadata": {},
   "outputs": [
    {
     "data": {
      "text/plain": [
       "5"
      ]
     },
     "execution_count": 34,
     "metadata": {},
     "output_type": "execute_result"
    }
   ],
   "source": [
    "from gc import collect;\n",
    "collect()"
   ]
  },
  {
   "cell_type": "markdown",
   "id": "4ed3e31e-6dde-4c1f-80b2-d5b37e9fbe4f",
   "metadata": {
    "papermill": {
     "duration": null,
     "end_time": null,
     "exception": null,
     "start_time": null,
     "status": "pending"
    },
    "tags": []
   },
   "source": [
    "# Data Loading and Preprocessing \n",
    "\n",
    "\n"
   ]
  },
  {
   "cell_type": "code",
   "execution_count": 35,
   "id": "3041840a-8cb4-43c0-868a-72eede03b998",
   "metadata": {},
   "outputs": [],
   "source": [
    "# df = pd.read_csv(\"/kaggle/input/optiver-trading-at-the-close/train.csv\")\n",
    "df = pd.read_csv(\"./data/train.csv\")\n",
    "\n",
    "# Dropping rows with null targets:-\n",
    "# drop_idx = df.loc[df['target'].isna(), 'target'].index.to_list();\n",
    "# df    = df.drop(drop_idx, axis=0);\n",
    "\n",
    "df = df.dropna(subset=[\"target\"])  #drop all rows with NaN in target\n",
    "df.reset_index(drop=True, inplace=True)\n",
    "df_shape = df.shape\n",
    "df.drop(columns=['row_id'],inplace=True)"
   ]
  },
  {
   "cell_type": "code",
   "execution_count": 36,
   "id": "f98d6ffd-4d6f-4f5b-8860-385b8a68bddf",
   "metadata": {},
   "outputs": [],
   "source": [
    "# !pip install seaborn\n",
    "\n",
    "# import seaborn as sns\n",
    "# import matplotlib.pyplot as plt;\n",
    "# # logging.getLogger('matplotlib.font_manager').setLevel(logging.ERROR)\n",
    "# fig, ax = plt.subplots(1,1, figsize = (5, 8));\n",
    "# sns.heatmap(df.describe().loc[['min', 'max']].T, cbar = False, \n",
    "#             cmap = 'icefire', annot = True,\n",
    "#             linewidths = 2.5, linecolor = 'white', fmt = ',.4f', \n",
    "#             annot_kws= {'fontweight': 'bold', 'fontsize': 10.5,},\n",
    "#             ax = ax\n",
    "#            );\n",
    "# ax.set_title(f\"\\nMin-max across columns in the train data\\n\");\n",
    "# plt.show();"
   ]
  },
  {
   "cell_type": "code",
   "execution_count": 37,
   "id": "233d85f7-a67e-40f5-90c0-82201e8ca4b8",
   "metadata": {},
   "outputs": [
    {
     "name": "stdout",
     "output_type": "stream",
     "text": [
      "df shape=(5237892, 16)\n"
     ]
    }
   ],
   "source": [
    "if(CONFIG.use_subset_of_data):\n",
    "    #just take the last 4 weeks\n",
    "    df=df[df.date_id>CONFIG.start_date]\n",
    "print(f'df shape={df.shape}')"
   ]
  },
  {
   "cell_type": "markdown",
   "id": "70e7d4e4-2184-4292-acc7-fd89622277b8",
   "metadata": {
    "papermill": {
     "duration": null,
     "end_time": null,
     "exception": null,
     "start_time": null,
     "status": "pending"
    },
    "tags": []
   },
   "source": [
    "# Memory Optimization"
   ]
  },
  {
   "cell_type": "code",
   "execution_count": 38,
   "id": "1fa01967-0859-4477-b5f2-5e378a680b20",
   "metadata": {
    "papermill": {
     "duration": null,
     "end_time": null,
     "exception": null,
     "start_time": null,
     "status": "pending"
    },
    "tags": []
   },
   "outputs": [],
   "source": [
    "def reduce_mem_usage(df, verbose=True):\n",
    "    start_mem = df.memory_usage().sum() / 1024**2\n",
    "    for col in df.columns:\n",
    "        col_type = df[col].dtype\n",
    "        if col_type != object:\n",
    "            c_min = df[col].min()\n",
    "            c_max = df[col].max()\n",
    "            \n",
    "            if str(col_type)[:3] == \"int\":\n",
    "                if c_min > np.iinfo(np.int8).min and c_max < np.iinfo(np.int8).max:\n",
    "                    df[col] = df[col].astype(np.int8)\n",
    "                elif c_min > np.iinfo(np.int16).min and c_max < np.iinfo(np.int16).max:\n",
    "                    df[col] = df[col].astype(np.int16)\n",
    "                elif c_min > np.iinfo(np.int32).min and c_max < np.iinfo(np.int32).max:\n",
    "                    df[col] = df[col].astype(np.int32)\n",
    "                elif c_min > np.iinfo(np.int64).min and c_max < np.iinfo(np.int64).max:\n",
    "                    df[col] = df[col].astype(np.int64)\n",
    "            else:\n",
    "               \n",
    "                if c_min > np.finfo(np.float16).min and c_max < np.finfo(np.float16).max:\n",
    "                    df[col] = df[col].astype(np.float32)\n",
    "                elif c_min > np.finfo(np.float32).min and c_max < np.finfo(np.float32).max:\n",
    "                    df[col] = df[col].astype(np.float32)\n",
    "                else:\n",
    "                    df[col] = df[col].astype(np.float32)\n",
    "    if verbose:\n",
    "        logger.info(f\"Memory usage of dataframe is {start_mem:.2f} MB\")\n",
    "        end_mem = df.memory_usage().sum() / 1024**2\n",
    "        logger.info(f\"Memory usage after optimization is: {end_mem:.2f} MB\")\n",
    "        decrease = 100 * (start_mem - end_mem) / start_mem\n",
    "        logger.info(f\"Decreased by {decrease:.2f}%\")\n",
    "    return df\n"
   ]
  },
  {
   "cell_type": "code",
   "execution_count": 39,
   "id": "97743a9f-96f7-4404-9362-f6b6f38cd7b4",
   "metadata": {},
   "outputs": [
    {
     "name": "stdout",
     "output_type": "stream",
     "text": [
      "CPU times: user 4 µs, sys: 0 ns, total: 4 µs\n",
      "Wall time: 6.2 µs\n"
     ]
    }
   ],
   "source": [
    "%%time \n",
    "\n",
    "def MakeFtre(df : pd.DataFrame, prices: list, median_vol: pd.DataFrame) -> pd.DataFrame:\n",
    "    \"\"\"\n",
    "    This function creates new features using the price columns. This was used in a baseline notebook as below-\n",
    "    https://www.kaggle.com/code/yuanzhezhou/baseline-lgb-xgb-and-catboost\n",
    "    \n",
    "    Inputs-\n",
    "    df:- pd.DataFrame -- input dataframe\n",
    "    cols:- price columns for transformation\n",
    "    median_vol:- pd.DataFrame -- stock wise median volume for train set\n",
    "    \n",
    "    Returns-\n",
    "    df:- pd.DataFrame -- dataframe with extra columns\n",
    "    \"\"\";\n",
    "    \n",
    "    features = ['overall_medvol', \"first5min_medvol\", \"last5min_medvol\",\n",
    "                'seconds_in_bucket', 'imbalance_buy_sell_flag',\n",
    "                'imbalance_size', 'matched_size', 'bid_size', 'ask_size',\n",
    "                'reference_price','far_price', 'near_price', 'ask_price', 'bid_price', 'wap',\n",
    "                'imb_s1', 'imb_s2' \n",
    "               ];\n",
    "    \n",
    "    df = df.merge(median_vol, how= 'left', left_on = \"stock_id\", right_index = True);\n",
    "    \n",
    "    df['imb_s1'] = df.eval('(bid_size-ask_size)/(bid_size+ask_size)').astype(np.float32);\n",
    "    df['imb_s2'] = df.eval('(imbalance_size-matched_size)/(matched_size+imbalance_size)').astype(np.float32);\n",
    "    for i,a in enumerate(prices):\n",
    "        for j,b in enumerate(prices):\n",
    "            if i>j:\n",
    "                df[f'{a}_{b}_imb'] = df.eval(f'({a}-{b})/({a}+{b})');\n",
    "                features.append(f'{a}_{b}_imb'); \n",
    "                    \n",
    "    for i,a in enumerate(prices):\n",
    "        for j,b in enumerate(prices):\n",
    "            for k,c in enumerate(prices):\n",
    "                if i>j and j>k:\n",
    "                    max_ = df[[a,b,c]].max(axis=1);\n",
    "                    min_ = df[[a,b,c]].min(axis=1);\n",
    "                    mid_ = df[[a,b,c]].sum(axis=1)-min_-max_;\n",
    "\n",
    "                    df[f'{a}_{b}_{c}_imb2'] = ((max_-mid_)/(mid_-min_)).astype(np.float32);\n",
    "                    features.append(f'{a}_{b}_{c}_imb2');\n",
    "    \n",
    "    return df[features];\n",
    "\n",
    "     "
   ]
  },
  {
   "cell_type": "markdown",
   "id": "e45c3aba-3378-4cd6-9800-b6e5702702f7",
   "metadata": {},
   "source": [
    "## Deal with NaNs in near_price and far_price"
   ]
  },
  {
   "cell_type": "code",
   "execution_count": 40,
   "id": "ec3dd0fa-4968-4068-9f92-99a4da2f7ab6",
   "metadata": {},
   "outputs": [
    {
     "data": {
      "text/plain": [
       "'RAM usage = 1.612 GB'"
      ]
     },
     "execution_count": 40,
     "metadata": {},
     "output_type": "execute_result"
    }
   ],
   "source": [
    "collect()\n",
    "GetMemUsage()"
   ]
  },
  {
   "cell_type": "code",
   "execution_count": 41,
   "id": "a7d231c2-722c-49ac-9186-d44bb00f8c0c",
   "metadata": {},
   "outputs": [],
   "source": [
    "dfgb = df.groupby(['stock_id','date_id']).median()\n",
    "# dfgb = None"
   ]
  },
  {
   "cell_type": "code",
   "execution_count": 42,
   "id": "009e8b44-589c-44a5-9eee-a4871e844d04",
   "metadata": {},
   "outputs": [
    {
     "name": "stdout",
     "output_type": "stream",
     "text": [
      "CPU times: user 15min 19s, sys: 4.16 s, total: 15min 23s\n",
      "Wall time: 15min 23s\n"
     ]
    }
   ],
   "source": [
    "%%time\n",
    "bs=of.bfs(['near_price','far_price'],df,dfgb)\n",
    "df = df.apply(bs.backfill, axis=1)"
   ]
  },
  {
   "cell_type": "code",
   "execution_count": 29,
   "id": "38889d6a-8d31-4ce5-a17d-b7402e4ac3c8",
   "metadata": {},
   "outputs": [
    {
     "name": "stdout",
     "output_type": "stream",
     "text": [
      "CPU times: user 18.6 s, sys: 131 ms, total: 18.7 s\n",
      "Wall time: 18.7 s\n"
     ]
    }
   ],
   "source": [
    "%%time\n",
    "bs=of.bfs(['near_price','far_price'],df)\n",
    "df = df.apply(bs.backfill, axis=1)"
   ]
  },
  {
   "cell_type": "code",
   "execution_count": 14,
   "id": "ee7bb832-9f33-4808-80c8-e0f4c1cb2a1a",
   "metadata": {},
   "outputs": [
    {
     "name": "stdout",
     "output_type": "stream",
     "text": [
      "CPU times: user 7min 17s, sys: 3.59 s, total: 7min 20s\n",
      "Wall time: 7min 20s\n"
     ]
    }
   ],
   "source": [
    "# %%time\n",
    "# # dfc=df.copy(deep=True)\n",
    "# # dfgb = df.groupby(['stock_id','date_id']).median()\n",
    "# dfgb = None\n",
    "# bs=of.bfs(['near_price','far_price'],df)\n",
    "# df = df.apply(bs.backfill, axis=1)"
   ]
  },
  {
   "cell_type": "code",
   "execution_count": 15,
   "id": "ed40e7ea-e475-420f-9787-80cc539f77f0",
   "metadata": {},
   "outputs": [],
   "source": [
    "# %debug"
   ]
  },
  {
   "cell_type": "code",
   "execution_count": 43,
   "id": "6623bcee-2e98-4789-ade5-6f819aa75135",
   "metadata": {},
   "outputs": [
    {
     "data": {
      "text/plain": [
       "stock_id                     0\n",
       "date_id                      0\n",
       "seconds_in_bucket            0\n",
       "imbalance_size             132\n",
       "imbalance_buy_sell_flag      0\n",
       "reference_price            132\n",
       "matched_size               132\n",
       "far_price                    0\n",
       "near_price                   0\n",
       "bid_price                  132\n",
       "bid_size                     0\n",
       "ask_price                  132\n",
       "ask_size                     0\n",
       "wap                        132\n",
       "target                       0\n",
       "time_id                      0\n",
       "syn_near_price               0\n",
       "syn_far_price                0\n",
       "dtype: int64"
      ]
     },
     "execution_count": 43,
     "metadata": {},
     "output_type": "execute_result"
    }
   ],
   "source": [
    "df.isnull().sum()"
   ]
  },
  {
   "cell_type": "code",
   "execution_count": 44,
   "id": "0fb25afb-5220-4e00-909e-20ba88b1b8b0",
   "metadata": {},
   "outputs": [
    {
     "data": {
      "text/html": [
       "<div>\n",
       "<style scoped>\n",
       "    .dataframe tbody tr th:only-of-type {\n",
       "        vertical-align: middle;\n",
       "    }\n",
       "\n",
       "    .dataframe tbody tr th {\n",
       "        vertical-align: top;\n",
       "    }\n",
       "\n",
       "    .dataframe thead th {\n",
       "        text-align: right;\n",
       "    }\n",
       "</style>\n",
       "<table border=\"1\" class=\"dataframe\">\n",
       "  <thead>\n",
       "    <tr style=\"text-align: right;\">\n",
       "      <th></th>\n",
       "      <th>stock_id</th>\n",
       "      <th>date_id</th>\n",
       "      <th>seconds_in_bucket</th>\n",
       "      <th>imbalance_size</th>\n",
       "      <th>imbalance_buy_sell_flag</th>\n",
       "      <th>reference_price</th>\n",
       "      <th>matched_size</th>\n",
       "      <th>far_price</th>\n",
       "      <th>near_price</th>\n",
       "      <th>bid_price</th>\n",
       "      <th>bid_size</th>\n",
       "      <th>ask_price</th>\n",
       "      <th>ask_size</th>\n",
       "      <th>wap</th>\n",
       "      <th>target</th>\n",
       "      <th>time_id</th>\n",
       "      <th>syn_near_price</th>\n",
       "      <th>syn_far_price</th>\n",
       "    </tr>\n",
       "  </thead>\n",
       "  <tbody>\n",
       "    <tr>\n",
       "      <th>5038893</th>\n",
       "      <td>1.0</td>\n",
       "      <td>462.0</td>\n",
       "      <td>500.0</td>\n",
       "      <td>967601.00</td>\n",
       "      <td>-1.0</td>\n",
       "      <td>0.996414</td>\n",
       "      <td>10882674.73</td>\n",
       "      <td>0.995459</td>\n",
       "      <td>0.995811</td>\n",
       "      <td>0.996313</td>\n",
       "      <td>594.96</td>\n",
       "      <td>0.996614</td>\n",
       "      <td>25591.02</td>\n",
       "      <td>0.996320</td>\n",
       "      <td>0.979900</td>\n",
       "      <td>25460.0</td>\n",
       "      <td>0.0</td>\n",
       "      <td>0.0</td>\n",
       "    </tr>\n",
       "    <tr>\n",
       "      <th>5039093</th>\n",
       "      <td>1.0</td>\n",
       "      <td>462.0</td>\n",
       "      <td>510.0</td>\n",
       "      <td>930576.97</td>\n",
       "      <td>-1.0</td>\n",
       "      <td>0.996213</td>\n",
       "      <td>10899793.36</td>\n",
       "      <td>0.995459</td>\n",
       "      <td>0.995811</td>\n",
       "      <td>0.995961</td>\n",
       "      <td>396.50</td>\n",
       "      <td>0.996464</td>\n",
       "      <td>2975.25</td>\n",
       "      <td>0.996021</td>\n",
       "      <td>10.980368</td>\n",
       "      <td>25461.0</td>\n",
       "      <td>0.0</td>\n",
       "      <td>0.0</td>\n",
       "    </tr>\n",
       "    <tr>\n",
       "      <th>5039293</th>\n",
       "      <td>1.0</td>\n",
       "      <td>462.0</td>\n",
       "      <td>520.0</td>\n",
       "      <td>914652.66</td>\n",
       "      <td>-1.0</td>\n",
       "      <td>0.996012</td>\n",
       "      <td>10915717.68</td>\n",
       "      <td>0.995459</td>\n",
       "      <td>0.995811</td>\n",
       "      <td>0.995911</td>\n",
       "      <td>25176.48</td>\n",
       "      <td>0.996162</td>\n",
       "      <td>21018.74</td>\n",
       "      <td>0.996048</td>\n",
       "      <td>14.410019</td>\n",
       "      <td>25462.0</td>\n",
       "      <td>0.0</td>\n",
       "      <td>0.0</td>\n",
       "    </tr>\n",
       "    <tr>\n",
       "      <th>5039493</th>\n",
       "      <td>1.0</td>\n",
       "      <td>462.0</td>\n",
       "      <td>530.0</td>\n",
       "      <td>941325.89</td>\n",
       "      <td>-1.0</td>\n",
       "      <td>0.996363</td>\n",
       "      <td>10908949.84</td>\n",
       "      <td>0.995459</td>\n",
       "      <td>0.995861</td>\n",
       "      <td>0.995911</td>\n",
       "      <td>16652.16</td>\n",
       "      <td>0.996614</td>\n",
       "      <td>6149.78</td>\n",
       "      <td>0.996425</td>\n",
       "      <td>13.209581</td>\n",
       "      <td>25463.0</td>\n",
       "      <td>0.0</td>\n",
       "      <td>0.0</td>\n",
       "    </tr>\n",
       "    <tr>\n",
       "      <th>5039693</th>\n",
       "      <td>1.0</td>\n",
       "      <td>462.0</td>\n",
       "      <td>540.0</td>\n",
       "      <td>896737.81</td>\n",
       "      <td>-1.0</td>\n",
       "      <td>0.996012</td>\n",
       "      <td>10933632.53</td>\n",
       "      <td>0.995459</td>\n",
       "      <td>0.995861</td>\n",
       "      <td>0.996012</td>\n",
       "      <td>17050.36</td>\n",
       "      <td>0.996564</td>\n",
       "      <td>133701.38</td>\n",
       "      <td>0.996074</td>\n",
       "      <td>17.230510</td>\n",
       "      <td>25464.0</td>\n",
       "      <td>0.0</td>\n",
       "      <td>0.0</td>\n",
       "    </tr>\n",
       "  </tbody>\n",
       "</table>\n",
       "</div>"
      ],
      "text/plain": [
       "         stock_id  date_id  seconds_in_bucket  imbalance_size  \\\n",
       "5038893       1.0    462.0              500.0       967601.00   \n",
       "5039093       1.0    462.0              510.0       930576.97   \n",
       "5039293       1.0    462.0              520.0       914652.66   \n",
       "5039493       1.0    462.0              530.0       941325.89   \n",
       "5039693       1.0    462.0              540.0       896737.81   \n",
       "\n",
       "         imbalance_buy_sell_flag  reference_price  matched_size  far_price  \\\n",
       "5038893                     -1.0         0.996414   10882674.73   0.995459   \n",
       "5039093                     -1.0         0.996213   10899793.36   0.995459   \n",
       "5039293                     -1.0         0.996012   10915717.68   0.995459   \n",
       "5039493                     -1.0         0.996363   10908949.84   0.995459   \n",
       "5039693                     -1.0         0.996012   10933632.53   0.995459   \n",
       "\n",
       "         near_price  bid_price  bid_size  ask_price   ask_size       wap  \\\n",
       "5038893    0.995811   0.996313    594.96   0.996614   25591.02  0.996320   \n",
       "5039093    0.995811   0.995961    396.50   0.996464    2975.25  0.996021   \n",
       "5039293    0.995811   0.995911  25176.48   0.996162   21018.74  0.996048   \n",
       "5039493    0.995861   0.995911  16652.16   0.996614    6149.78  0.996425   \n",
       "5039693    0.995861   0.996012  17050.36   0.996564  133701.38  0.996074   \n",
       "\n",
       "            target  time_id  syn_near_price  syn_far_price  \n",
       "5038893   0.979900  25460.0             0.0            0.0  \n",
       "5039093  10.980368  25461.0             0.0            0.0  \n",
       "5039293  14.410019  25462.0             0.0            0.0  \n",
       "5039493  13.209581  25463.0             0.0            0.0  \n",
       "5039693  17.230510  25464.0             0.0            0.0  "
      ]
     },
     "execution_count": 44,
     "metadata": {},
     "output_type": "execute_result"
    }
   ],
   "source": [
    "#check to see if the correct value is propegating forward\n",
    "df[((df.stock_id==1) & (df.date_id<=462))].tail()\n",
    "# df[((df.stock_id==1) & (df.date_id==423))].head()"
   ]
  },
  {
   "cell_type": "markdown",
   "id": "be867c47-d764-4370-96a6-9c958ef2d06d",
   "metadata": {},
   "source": [
    "## calculate median volumns\n",
    "\n",
    "do this after handling NaNs in far and near price"
   ]
  },
  {
   "cell_type": "code",
   "execution_count": 45,
   "id": "eb004cc1-c740-46ce-8262-40627e2e25d3",
   "metadata": {},
   "outputs": [
    {
     "name": "stdout",
     "output_type": "stream",
     "text": [
      "CPU times: user 843 ms, sys: 0 ns, total: 843 ms\n",
      "Wall time: 841 ms\n"
     ]
    },
    {
     "data": {
      "text/html": [
       "<div>\n",
       "<style scoped>\n",
       "    .dataframe tbody tr th:only-of-type {\n",
       "        vertical-align: middle;\n",
       "    }\n",
       "\n",
       "    .dataframe tbody tr th {\n",
       "        vertical-align: top;\n",
       "    }\n",
       "\n",
       "    .dataframe thead th {\n",
       "        text-align: right;\n",
       "    }\n",
       "</style>\n",
       "<table border=\"1\" class=\"dataframe\">\n",
       "  <thead>\n",
       "    <tr style=\"text-align: right;\">\n",
       "      <th></th>\n",
       "      <th>overall_medvol</th>\n",
       "      <th>first5min_medvol</th>\n",
       "      <th>last5min_medvol</th>\n",
       "    </tr>\n",
       "  </thead>\n",
       "  <tbody>\n",
       "    <tr>\n",
       "      <th>0</th>\n",
       "      <td>42739.16</td>\n",
       "      <td>33806.880</td>\n",
       "      <td>42739.16</td>\n",
       "    </tr>\n",
       "    <tr>\n",
       "      <th>1</th>\n",
       "      <td>25548.50</td>\n",
       "      <td>19033.920</td>\n",
       "      <td>25548.50</td>\n",
       "    </tr>\n",
       "    <tr>\n",
       "      <th>2</th>\n",
       "      <td>26228.10</td>\n",
       "      <td>19536.000</td>\n",
       "      <td>26228.10</td>\n",
       "    </tr>\n",
       "    <tr>\n",
       "      <th>3</th>\n",
       "      <td>41667.00</td>\n",
       "      <td>37667.500</td>\n",
       "      <td>41667.00</td>\n",
       "    </tr>\n",
       "    <tr>\n",
       "      <th>4</th>\n",
       "      <td>34014.58</td>\n",
       "      <td>30904.545</td>\n",
       "      <td>34014.58</td>\n",
       "    </tr>\n",
       "    <tr>\n",
       "      <th>...</th>\n",
       "      <td>...</td>\n",
       "      <td>...</td>\n",
       "      <td>...</td>\n",
       "    </tr>\n",
       "    <tr>\n",
       "      <th>195</th>\n",
       "      <td>51941.55</td>\n",
       "      <td>38331.170</td>\n",
       "      <td>51941.55</td>\n",
       "    </tr>\n",
       "    <tr>\n",
       "      <th>196</th>\n",
       "      <td>42476.95</td>\n",
       "      <td>30245.125</td>\n",
       "      <td>42476.95</td>\n",
       "    </tr>\n",
       "    <tr>\n",
       "      <th>197</th>\n",
       "      <td>30070.04</td>\n",
       "      <td>23667.870</td>\n",
       "      <td>30070.04</td>\n",
       "    </tr>\n",
       "    <tr>\n",
       "      <th>198</th>\n",
       "      <td>304739.25</td>\n",
       "      <td>234244.150</td>\n",
       "      <td>304739.25</td>\n",
       "    </tr>\n",
       "    <tr>\n",
       "      <th>199</th>\n",
       "      <td>114127.10</td>\n",
       "      <td>86858.810</td>\n",
       "      <td>114127.10</td>\n",
       "    </tr>\n",
       "  </tbody>\n",
       "</table>\n",
       "<p>200 rows × 3 columns</p>\n",
       "</div>"
      ],
      "text/plain": [
       "     overall_medvol  first5min_medvol  last5min_medvol\n",
       "0          42739.16         33806.880         42739.16\n",
       "1          25548.50         19033.920         25548.50\n",
       "2          26228.10         19536.000         26228.10\n",
       "3          41667.00         37667.500         41667.00\n",
       "4          34014.58         30904.545         34014.58\n",
       "..              ...               ...              ...\n",
       "195        51941.55         38331.170         51941.55\n",
       "196        42476.95         30245.125         42476.95\n",
       "197        30070.04         23667.870         30070.04\n",
       "198       304739.25        234244.150        304739.25\n",
       "199       114127.10         86858.810        114127.10\n",
       "\n",
       "[200 rows x 3 columns]"
      ]
     },
     "execution_count": 45,
     "metadata": {},
     "output_type": "execute_result"
    }
   ],
   "source": [
    "%%time \n",
    "\n",
    "# Creating an output dataframe for the results:-\n",
    "median_vol = \\\n",
    "pd.DataFrame(columns = ['overall_medvol', \"first5min_medvol\", \"last5min_medvol\"], \n",
    "                          index = range(0, 200,1)\n",
    "            );\n",
    "\n",
    "# Creating the overall median volumes- this is from public work:-\n",
    "median_vol['overall_medvol'] = \\\n",
    "df[['stock_id', \"bid_size\", \"ask_size\"]].\\\n",
    "groupby(\"stock_id\")[[\"bid_size\", \"ask_size\"]].\\\n",
    "median().\\\n",
    "sum(axis=1).\\\n",
    "values.flatten();\n",
    "\n",
    "# Creating median volume with near and far price information:-\n",
    "median_vol['last5min_medvol'] = \\\n",
    "df[['stock_id', \"bid_size\", \"ask_size\", \"far_price\", \"near_price\"]].\\\n",
    "dropna().\\\n",
    "groupby('stock_id')[[\"bid_size\", \"ask_size\"]].\\\n",
    "median().sum(axis=1).values.flatten();\n",
    "\n",
    "# # Creating median volume without near and far price information:-\n",
    "median_vol['first5min_medvol'] = \\\n",
    "df.loc[(df['syn_far_price']==1) | (df['syn_near_price']==1), \n",
    "            ['stock_id', \"bid_size\", \"ask_size\"]\n",
    "           ].\\\n",
    "groupby('stock_id')[[\"bid_size\", \"ask_size\"]].\\\n",
    "median().sum(axis=1).values.flatten();\n",
    "\n",
    "\n",
    "# PrintColor(f\"\\n---> Median stock price information-  sample = 10 rows\\n\");\n",
    "# display(median_vol.sample(10).style.format(formatter = '{:,.2f}'));\n",
    "\n",
    "# Writing the dataframe to a csv file for later usage:-\n",
    "# median_vol.to_csv(f\"MedianVolV{version_nb}.csv\")\n",
    "\n",
    "collect();\n",
    "median_vol"
   ]
  },
  {
   "cell_type": "markdown",
   "id": "86348f53-1167-462d-8fb0-47ceca36f8a4",
   "metadata": {},
   "source": [
    "## Now drop all other NaN rows\n",
    "\n",
    "### TODO is this wise?"
   ]
  },
  {
   "cell_type": "code",
   "execution_count": 46,
   "id": "1e900bbf-c841-4ebd-b571-bcfa20f426e0",
   "metadata": {},
   "outputs": [],
   "source": [
    "df.dropna(inplace=True)"
   ]
  },
  {
   "cell_type": "markdown",
   "id": "880ad6a0-cb94-4aa6-b52a-63383fac6486",
   "metadata": {
    "papermill": {
     "duration": null,
     "end_time": null,
     "exception": null,
     "start_time": null,
     "status": "pending"
    },
    "tags": []
   },
   "source": [
    "# Parallel Triplet Imbalance Calculation"
   ]
  },
  {
   "cell_type": "code",
   "execution_count": 48,
   "id": "51ef64ef-f9d5-4710-860b-1ced13e83292",
   "metadata": {
    "papermill": {
     "duration": null,
     "end_time": null,
     "exception": null,
     "start_time": null,
     "status": "pending"
    },
    "tags": []
   },
   "outputs": [],
   "source": [
    "from numba import njit, prange\n",
    "\n",
    "# @njit(parallel=True)\n",
    "def compute_triplet_imbalance(df_values, comb_indices):\n",
    "    num_rows = df_values.shape[0]\n",
    "    num_combinations = len(comb_indices)\n",
    "    imbalance_features = np.empty((num_rows, num_combinations))\n",
    "    for i in prange(num_combinations):\n",
    "        a, b, c = comb_indices[i]\n",
    "        for j in range(num_rows):\n",
    "            max_val = max(df_values[j, a], df_values[j, b], df_values[j, c])\n",
    "            min_val = min(df_values[j, a], df_values[j, b], df_values[j, c])\n",
    "            mid_val = df_values[j, a] + df_values[j, b] + df_values[j, c] - min_val - max_val\n",
    "            \n",
    "            if mid_val == min_val:\n",
    "                imbalance_features[j, i] = 0  #TODO changed from np.NaN to 0\n",
    "                # print(f\"ERROR max_val-min_val={max_val-min_val} mid_val={mid_val}\")\n",
    "            else:\n",
    "                imbalance_features[j, i] = (max_val - mid_val) / (mid_val - min_val)\n",
    "\n",
    "    return imbalance_features\n",
    "\n",
    "def calculate_triplet_imbalance_numba(price, df):\n",
    "    df_values = df[price].values\n",
    "    comb_indices = [(price.index(a), price.index(b), price.index(c)) for a, b, c in combinations(price, 3)]\n",
    "    features_array = compute_triplet_imbalance(df_values, comb_indices)\n",
    "    columns = [f\"{a}_{b}_{c}_imb2\" for a, b, c in combinations(price, 3)]\n",
    "    features = pd.DataFrame(features_array, columns=columns)\n",
    "    return features\n"
   ]
  },
  {
   "cell_type": "code",
   "execution_count": 49,
   "id": "abc1d42b-1bc5-460f-9eeb-41848ba5b6e9",
   "metadata": {},
   "outputs": [
    {
     "name": "stdout",
     "output_type": "stream",
     "text": [
      "CPU times: user 57.6 s, sys: 16 ms, total: 57.7 s\n",
      "Wall time: 57.7 s\n"
     ]
    },
    {
     "data": {
      "text/html": [
       "<div>\n",
       "<style scoped>\n",
       "    .dataframe tbody tr th:only-of-type {\n",
       "        vertical-align: middle;\n",
       "    }\n",
       "\n",
       "    .dataframe tbody tr th {\n",
       "        vertical-align: top;\n",
       "    }\n",
       "\n",
       "    .dataframe thead th {\n",
       "        text-align: right;\n",
       "    }\n",
       "</style>\n",
       "<table border=\"1\" class=\"dataframe\">\n",
       "  <thead>\n",
       "    <tr style=\"text-align: right;\">\n",
       "      <th></th>\n",
       "      <th>stock_id</th>\n",
       "      <th>date_id</th>\n",
       "      <th>seconds_in_bucket</th>\n",
       "      <th>imbalance_size</th>\n",
       "      <th>imbalance_buy_sell_flag</th>\n",
       "      <th>reference_price</th>\n",
       "      <th>matched_size</th>\n",
       "      <th>far_price</th>\n",
       "      <th>near_price</th>\n",
       "      <th>bid_price</th>\n",
       "      <th>...</th>\n",
       "      <th>syn_near_price</th>\n",
       "      <th>syn_far_price</th>\n",
       "      <th>ask_price_bid_price_wap_imb2</th>\n",
       "      <th>ask_price_bid_price_reference_price_imb2</th>\n",
       "      <th>ask_price_wap_reference_price_imb2</th>\n",
       "      <th>bid_price_wap_reference_price_imb2</th>\n",
       "      <th>matched_size_bid_size_ask_size_imb2</th>\n",
       "      <th>matched_size_bid_size_imbalance_size_imb2</th>\n",
       "      <th>matched_size_ask_size_imbalance_size_imb2</th>\n",
       "      <th>bid_size_ask_size_imbalance_size_imb2</th>\n",
       "    </tr>\n",
       "  </thead>\n",
       "  <tbody>\n",
       "    <tr>\n",
       "      <th>0</th>\n",
       "      <td>0.0</td>\n",
       "      <td>0.0</td>\n",
       "      <td>0.0</td>\n",
       "      <td>3180602.69</td>\n",
       "      <td>1.0</td>\n",
       "      <td>0.999812</td>\n",
       "      <td>13380276.64</td>\n",
       "      <td>0.0</td>\n",
       "      <td>0.0</td>\n",
       "      <td>0.999812</td>\n",
       "      <td>...</td>\n",
       "      <td>1.0</td>\n",
       "      <td>1.0</td>\n",
       "      <td>0.138298</td>\n",
       "      <td>-1.927541e+12</td>\n",
       "      <td>0.138298</td>\n",
       "      <td>-1.693353e+12</td>\n",
       "      <td>255.368402</td>\n",
       "      <td>3.269177</td>\n",
       "      <td>3.215423</td>\n",
       "      <td>59.816770</td>\n",
       "    </tr>\n",
       "    <tr>\n",
       "      <th>1</th>\n",
       "      <td>1.0</td>\n",
       "      <td>0.0</td>\n",
       "      <td>0.0</td>\n",
       "      <td>166603.91</td>\n",
       "      <td>-1.0</td>\n",
       "      <td>0.999896</td>\n",
       "      <td>1642214.25</td>\n",
       "      <td>0.0</td>\n",
       "      <td>0.0</td>\n",
       "      <td>0.999896</td>\n",
       "      <td>...</td>\n",
       "      <td>1.0</td>\n",
       "      <td>1.0</td>\n",
       "      <td>6.346154</td>\n",
       "      <td>-6.881500e+12</td>\n",
       "      <td>6.346154</td>\n",
       "      <td>9.367487e+11</td>\n",
       "      <td>93.345872</td>\n",
       "      <td>9.032273</td>\n",
       "      <td>10.107002</td>\n",
       "      <td>8.404237</td>\n",
       "    </tr>\n",
       "    <tr>\n",
       "      <th>2</th>\n",
       "      <td>2.0</td>\n",
       "      <td>0.0</td>\n",
       "      <td>0.0</td>\n",
       "      <td>302879.87</td>\n",
       "      <td>-1.0</td>\n",
       "      <td>0.999561</td>\n",
       "      <td>1819368.03</td>\n",
       "      <td>0.0</td>\n",
       "      <td>0.0</td>\n",
       "      <td>0.999403</td>\n",
       "      <td>...</td>\n",
       "      <td>1.0</td>\n",
       "      <td>1.0</td>\n",
       "      <td>0.499162</td>\n",
       "      <td>4.664557e+00</td>\n",
       "      <td>0.678815</td>\n",
       "      <td>2.778481e+00</td>\n",
       "      <td>93.951375</td>\n",
       "      <td>5.724241</td>\n",
       "      <td>5.341913</td>\n",
       "      <td>13.972041</td>\n",
       "    </tr>\n",
       "    <tr>\n",
       "      <th>3</th>\n",
       "      <td>3.0</td>\n",
       "      <td>0.0</td>\n",
       "      <td>0.0</td>\n",
       "      <td>11917682.27</td>\n",
       "      <td>-1.0</td>\n",
       "      <td>1.000171</td>\n",
       "      <td>18389745.62</td>\n",
       "      <td>0.0</td>\n",
       "      <td>0.0</td>\n",
       "      <td>0.999999</td>\n",
       "      <td>...</td>\n",
       "      <td>1.0</td>\n",
       "      <td>1.0</td>\n",
       "      <td>214.000000</td>\n",
       "      <td>2.500000e-01</td>\n",
       "      <td>0.251462</td>\n",
       "      <td>1.710000e+02</td>\n",
       "      <td>37.571704</td>\n",
       "      <td>0.543170</td>\n",
       "      <td>0.565807</td>\n",
       "      <td>23.995112</td>\n",
       "    </tr>\n",
       "    <tr>\n",
       "      <th>4</th>\n",
       "      <td>4.0</td>\n",
       "      <td>0.0</td>\n",
       "      <td>0.0</td>\n",
       "      <td>447549.96</td>\n",
       "      <td>-1.0</td>\n",
       "      <td>0.999532</td>\n",
       "      <td>17860614.95</td>\n",
       "      <td>0.0</td>\n",
       "      <td>0.0</td>\n",
       "      <td>0.999394</td>\n",
       "      <td>...</td>\n",
       "      <td>1.0</td>\n",
       "      <td>1.0</td>\n",
       "      <td>0.026403</td>\n",
       "      <td>3.507246e+00</td>\n",
       "      <td>0.034188</td>\n",
       "      <td>3.391304e+00</td>\n",
       "      <td>1111.684024</td>\n",
       "      <td>40.395505</td>\n",
       "      <td>38.945308</td>\n",
       "      <td>26.855187</td>\n",
       "    </tr>\n",
       "  </tbody>\n",
       "</table>\n",
       "<p>5 rows × 26 columns</p>\n",
       "</div>"
      ],
      "text/plain": [
       "   stock_id  date_id  seconds_in_bucket  imbalance_size  \\\n",
       "0       0.0      0.0                0.0      3180602.69   \n",
       "1       1.0      0.0                0.0       166603.91   \n",
       "2       2.0      0.0                0.0       302879.87   \n",
       "3       3.0      0.0                0.0     11917682.27   \n",
       "4       4.0      0.0                0.0       447549.96   \n",
       "\n",
       "   imbalance_buy_sell_flag  reference_price  matched_size  far_price  \\\n",
       "0                      1.0         0.999812   13380276.64        0.0   \n",
       "1                     -1.0         0.999896    1642214.25        0.0   \n",
       "2                     -1.0         0.999561    1819368.03        0.0   \n",
       "3                     -1.0         1.000171   18389745.62        0.0   \n",
       "4                     -1.0         0.999532   17860614.95        0.0   \n",
       "\n",
       "   near_price  bid_price  ...  syn_near_price  syn_far_price  \\\n",
       "0         0.0   0.999812  ...             1.0            1.0   \n",
       "1         0.0   0.999896  ...             1.0            1.0   \n",
       "2         0.0   0.999403  ...             1.0            1.0   \n",
       "3         0.0   0.999999  ...             1.0            1.0   \n",
       "4         0.0   0.999394  ...             1.0            1.0   \n",
       "\n",
       "   ask_price_bid_price_wap_imb2  ask_price_bid_price_reference_price_imb2  \\\n",
       "0                      0.138298                             -1.927541e+12   \n",
       "1                      6.346154                             -6.881500e+12   \n",
       "2                      0.499162                              4.664557e+00   \n",
       "3                    214.000000                              2.500000e-01   \n",
       "4                      0.026403                              3.507246e+00   \n",
       "\n",
       "   ask_price_wap_reference_price_imb2  bid_price_wap_reference_price_imb2  \\\n",
       "0                            0.138298                       -1.693353e+12   \n",
       "1                            6.346154                        9.367487e+11   \n",
       "2                            0.678815                        2.778481e+00   \n",
       "3                            0.251462                        1.710000e+02   \n",
       "4                            0.034188                        3.391304e+00   \n",
       "\n",
       "   matched_size_bid_size_ask_size_imb2  \\\n",
       "0                           255.368402   \n",
       "1                            93.345872   \n",
       "2                            93.951375   \n",
       "3                            37.571704   \n",
       "4                          1111.684024   \n",
       "\n",
       "   matched_size_bid_size_imbalance_size_imb2  \\\n",
       "0                                   3.269177   \n",
       "1                                   9.032273   \n",
       "2                                   5.724241   \n",
       "3                                   0.543170   \n",
       "4                                  40.395505   \n",
       "\n",
       "   matched_size_ask_size_imbalance_size_imb2  \\\n",
       "0                                   3.215423   \n",
       "1                                  10.107002   \n",
       "2                                   5.341913   \n",
       "3                                   0.565807   \n",
       "4                                  38.945308   \n",
       "\n",
       "   bid_size_ask_size_imbalance_size_imb2  \n",
       "0                              59.816770  \n",
       "1                               8.404237  \n",
       "2                              13.972041  \n",
       "3                              23.995112  \n",
       "4                              26.855187  \n",
       "\n",
       "[5 rows x 26 columns]"
      ]
     },
     "execution_count": 49,
     "metadata": {},
     "output_type": "execute_result"
    }
   ],
   "source": [
    "%%time\n",
    "#TODO take out\n",
    "sizes = [\"matched_size\", \"bid_size\", \"ask_size\", \"imbalance_size\"]\n",
    "for c in [['ask_price', 'bid_price', 'wap', 'reference_price'], sizes]:\n",
    "    triplet_feature = calculate_triplet_imbalance_numba(c, df)\n",
    "    df[triplet_feature.columns] = triplet_feature.values\n",
    "df.head()"
   ]
  },
  {
   "cell_type": "code",
   "execution_count": 50,
   "id": "cf3fc788-7c4e-4f73-ac5f-507708464841",
   "metadata": {},
   "outputs": [
    {
     "data": {
      "text/plain": [
       "stock_id                                     0\n",
       "date_id                                      0\n",
       "seconds_in_bucket                            0\n",
       "imbalance_size                               0\n",
       "imbalance_buy_sell_flag                      0\n",
       "reference_price                              0\n",
       "matched_size                                 0\n",
       "far_price                                    0\n",
       "near_price                                   0\n",
       "bid_price                                    0\n",
       "bid_size                                     0\n",
       "ask_price                                    0\n",
       "ask_size                                     0\n",
       "wap                                          0\n",
       "target                                       0\n",
       "time_id                                      0\n",
       "syn_near_price                               0\n",
       "syn_far_price                                0\n",
       "ask_price_bid_price_wap_imb2                 0\n",
       "ask_price_bid_price_reference_price_imb2     0\n",
       "ask_price_wap_reference_price_imb2           0\n",
       "bid_price_wap_reference_price_imb2           0\n",
       "matched_size_bid_size_ask_size_imb2          0\n",
       "matched_size_bid_size_imbalance_size_imb2    0\n",
       "matched_size_ask_size_imbalance_size_imb2    0\n",
       "bid_size_ask_size_imbalance_size_imb2        0\n",
       "dtype: int64"
      ]
     },
     "execution_count": 50,
     "metadata": {},
     "output_type": "execute_result"
    }
   ],
   "source": [
    "df.isnull().sum()"
   ]
  },
  {
   "cell_type": "code",
   "execution_count": 23,
   "id": "6376c018-242d-4373-ac1f-b19ec6a73c3d",
   "metadata": {},
   "outputs": [
    {
     "data": {
      "text/plain": [
       "['ask_price_bid_price_wap_imb2',\n",
       " 'ask_price_bid_price_reference_price_imb2',\n",
       " 'ask_price_wap_reference_price_imb2',\n",
       " 'bid_price_wap_reference_price_imb2',\n",
       " 'matched_size_bid_size_ask_size_imb2',\n",
       " 'matched_size_bid_size_imbalance_size_imb2',\n",
       " 'matched_size_ask_size_imbalance_size_imb2',\n",
       " 'bid_size_ask_size_imbalance_size_imb2']"
      ]
     },
     "execution_count": 23,
     "metadata": {},
     "output_type": "execute_result"
    }
   ],
   "source": [
    "# [col for col in df1.columns if col not in df.columns]"
   ]
  },
  {
   "cell_type": "markdown",
   "id": "6eb34be1-04fd-4c55-907b-59f731fc5e3b",
   "metadata": {},
   "source": [
    "# Save and Reload"
   ]
  },
  {
   "cell_type": "code",
   "execution_count": 27,
   "id": "6ddf551a-1529-4d13-8c4c-792257a48c13",
   "metadata": {},
   "outputs": [
    {
     "name": "stdout",
     "output_type": "stream",
     "text": [
      "CPU times: user 367 ms, sys: 127 ms, total: 494 ms\n",
      "Wall time: 132 ms\n"
     ]
    },
    {
     "data": {
      "text/plain": [
       "(659945, 18)"
      ]
     },
     "execution_count": 27,
     "metadata": {},
     "output_type": "execute_result"
    }
   ],
   "source": [
    "# %%time\n",
    "# # !pip install pyarrow\n",
    "\n",
    "# df.to_feather(\"./tmp.feather\")\n",
    "# df = pd.read_feather(\"./tmp.feather\")\n",
    "# df.shape"
   ]
  },
  {
   "cell_type": "code",
   "execution_count": 51,
   "id": "0cfc50c5-d1da-4f4b-b45a-752f97441d57",
   "metadata": {},
   "outputs": [
    {
     "name": "stdout",
     "output_type": "stream",
     "text": [
      "CPU times: user 5.34 s, sys: 1.14 s, total: 6.49 s\n",
      "Wall time: 4.2 s\n"
     ]
    },
    {
     "data": {
      "text/plain": [
       "(5237760, 26)"
      ]
     },
     "execution_count": 51,
     "metadata": {},
     "output_type": "execute_result"
    }
   ],
   "source": [
    "%%time\n",
    "df.to_parquet(\"./tmpdfgb.parquet\")\n",
    "df.shape"
   ]
  },
  {
   "cell_type": "code",
   "execution_count": 52,
   "id": "75e46580-3db9-4655-8486-01f1f91a0d2d",
   "metadata": {},
   "outputs": [
    {
     "data": {
      "text/html": [
       "<div>\n",
       "<style scoped>\n",
       "    .dataframe tbody tr th:only-of-type {\n",
       "        vertical-align: middle;\n",
       "    }\n",
       "\n",
       "    .dataframe tbody tr th {\n",
       "        vertical-align: top;\n",
       "    }\n",
       "\n",
       "    .dataframe thead th {\n",
       "        text-align: right;\n",
       "    }\n",
       "</style>\n",
       "<table border=\"1\" class=\"dataframe\">\n",
       "  <thead>\n",
       "    <tr style=\"text-align: right;\">\n",
       "      <th></th>\n",
       "      <th>stock_id</th>\n",
       "      <th>date_id</th>\n",
       "      <th>seconds_in_bucket</th>\n",
       "      <th>imbalance_size</th>\n",
       "      <th>imbalance_buy_sell_flag</th>\n",
       "      <th>reference_price</th>\n",
       "      <th>matched_size</th>\n",
       "      <th>far_price</th>\n",
       "      <th>near_price</th>\n",
       "      <th>bid_price</th>\n",
       "      <th>...</th>\n",
       "      <th>syn_near_price</th>\n",
       "      <th>syn_far_price</th>\n",
       "      <th>ask_price_bid_price_wap_imb2</th>\n",
       "      <th>ask_price_bid_price_reference_price_imb2</th>\n",
       "      <th>ask_price_wap_reference_price_imb2</th>\n",
       "      <th>bid_price_wap_reference_price_imb2</th>\n",
       "      <th>matched_size_bid_size_ask_size_imb2</th>\n",
       "      <th>matched_size_bid_size_imbalance_size_imb2</th>\n",
       "      <th>matched_size_ask_size_imbalance_size_imb2</th>\n",
       "      <th>bid_size_ask_size_imbalance_size_imb2</th>\n",
       "    </tr>\n",
       "  </thead>\n",
       "  <tbody>\n",
       "    <tr>\n",
       "      <th>0</th>\n",
       "      <td>0.0</td>\n",
       "      <td>0.0</td>\n",
       "      <td>0.0</td>\n",
       "      <td>3180602.69</td>\n",
       "      <td>1.0</td>\n",
       "      <td>0.999812</td>\n",
       "      <td>13380276.64</td>\n",
       "      <td>0.0</td>\n",
       "      <td>0.0</td>\n",
       "      <td>0.999812</td>\n",
       "      <td>...</td>\n",
       "      <td>1.0</td>\n",
       "      <td>1.0</td>\n",
       "      <td>0.138298</td>\n",
       "      <td>-1.927541e+12</td>\n",
       "      <td>0.138298</td>\n",
       "      <td>-1.693353e+12</td>\n",
       "      <td>255.368402</td>\n",
       "      <td>3.269177</td>\n",
       "      <td>3.215423</td>\n",
       "      <td>59.816770</td>\n",
       "    </tr>\n",
       "    <tr>\n",
       "      <th>1</th>\n",
       "      <td>1.0</td>\n",
       "      <td>0.0</td>\n",
       "      <td>0.0</td>\n",
       "      <td>166603.91</td>\n",
       "      <td>-1.0</td>\n",
       "      <td>0.999896</td>\n",
       "      <td>1642214.25</td>\n",
       "      <td>0.0</td>\n",
       "      <td>0.0</td>\n",
       "      <td>0.999896</td>\n",
       "      <td>...</td>\n",
       "      <td>1.0</td>\n",
       "      <td>1.0</td>\n",
       "      <td>6.346154</td>\n",
       "      <td>-6.881500e+12</td>\n",
       "      <td>6.346154</td>\n",
       "      <td>9.367487e+11</td>\n",
       "      <td>93.345872</td>\n",
       "      <td>9.032273</td>\n",
       "      <td>10.107002</td>\n",
       "      <td>8.404237</td>\n",
       "    </tr>\n",
       "    <tr>\n",
       "      <th>2</th>\n",
       "      <td>2.0</td>\n",
       "      <td>0.0</td>\n",
       "      <td>0.0</td>\n",
       "      <td>302879.87</td>\n",
       "      <td>-1.0</td>\n",
       "      <td>0.999561</td>\n",
       "      <td>1819368.03</td>\n",
       "      <td>0.0</td>\n",
       "      <td>0.0</td>\n",
       "      <td>0.999403</td>\n",
       "      <td>...</td>\n",
       "      <td>1.0</td>\n",
       "      <td>1.0</td>\n",
       "      <td>0.499162</td>\n",
       "      <td>4.664557e+00</td>\n",
       "      <td>0.678815</td>\n",
       "      <td>2.778481e+00</td>\n",
       "      <td>93.951375</td>\n",
       "      <td>5.724241</td>\n",
       "      <td>5.341913</td>\n",
       "      <td>13.972041</td>\n",
       "    </tr>\n",
       "    <tr>\n",
       "      <th>3</th>\n",
       "      <td>3.0</td>\n",
       "      <td>0.0</td>\n",
       "      <td>0.0</td>\n",
       "      <td>11917682.27</td>\n",
       "      <td>-1.0</td>\n",
       "      <td>1.000171</td>\n",
       "      <td>18389745.62</td>\n",
       "      <td>0.0</td>\n",
       "      <td>0.0</td>\n",
       "      <td>0.999999</td>\n",
       "      <td>...</td>\n",
       "      <td>1.0</td>\n",
       "      <td>1.0</td>\n",
       "      <td>214.000000</td>\n",
       "      <td>2.500000e-01</td>\n",
       "      <td>0.251462</td>\n",
       "      <td>1.710000e+02</td>\n",
       "      <td>37.571704</td>\n",
       "      <td>0.543170</td>\n",
       "      <td>0.565807</td>\n",
       "      <td>23.995112</td>\n",
       "    </tr>\n",
       "    <tr>\n",
       "      <th>4</th>\n",
       "      <td>4.0</td>\n",
       "      <td>0.0</td>\n",
       "      <td>0.0</td>\n",
       "      <td>447549.96</td>\n",
       "      <td>-1.0</td>\n",
       "      <td>0.999532</td>\n",
       "      <td>17860614.95</td>\n",
       "      <td>0.0</td>\n",
       "      <td>0.0</td>\n",
       "      <td>0.999394</td>\n",
       "      <td>...</td>\n",
       "      <td>1.0</td>\n",
       "      <td>1.0</td>\n",
       "      <td>0.026403</td>\n",
       "      <td>3.507246e+00</td>\n",
       "      <td>0.034188</td>\n",
       "      <td>3.391304e+00</td>\n",
       "      <td>1111.684024</td>\n",
       "      <td>40.395505</td>\n",
       "      <td>38.945308</td>\n",
       "      <td>26.855187</td>\n",
       "    </tr>\n",
       "  </tbody>\n",
       "</table>\n",
       "<p>5 rows × 26 columns</p>\n",
       "</div>"
      ],
      "text/plain": [
       "   stock_id  date_id  seconds_in_bucket  imbalance_size  \\\n",
       "0       0.0      0.0                0.0      3180602.69   \n",
       "1       1.0      0.0                0.0       166603.91   \n",
       "2       2.0      0.0                0.0       302879.87   \n",
       "3       3.0      0.0                0.0     11917682.27   \n",
       "4       4.0      0.0                0.0       447549.96   \n",
       "\n",
       "   imbalance_buy_sell_flag  reference_price  matched_size  far_price  \\\n",
       "0                      1.0         0.999812   13380276.64        0.0   \n",
       "1                     -1.0         0.999896    1642214.25        0.0   \n",
       "2                     -1.0         0.999561    1819368.03        0.0   \n",
       "3                     -1.0         1.000171   18389745.62        0.0   \n",
       "4                     -1.0         0.999532   17860614.95        0.0   \n",
       "\n",
       "   near_price  bid_price  ...  syn_near_price  syn_far_price  \\\n",
       "0         0.0   0.999812  ...             1.0            1.0   \n",
       "1         0.0   0.999896  ...             1.0            1.0   \n",
       "2         0.0   0.999403  ...             1.0            1.0   \n",
       "3         0.0   0.999999  ...             1.0            1.0   \n",
       "4         0.0   0.999394  ...             1.0            1.0   \n",
       "\n",
       "   ask_price_bid_price_wap_imb2  ask_price_bid_price_reference_price_imb2  \\\n",
       "0                      0.138298                             -1.927541e+12   \n",
       "1                      6.346154                             -6.881500e+12   \n",
       "2                      0.499162                              4.664557e+00   \n",
       "3                    214.000000                              2.500000e-01   \n",
       "4                      0.026403                              3.507246e+00   \n",
       "\n",
       "   ask_price_wap_reference_price_imb2  bid_price_wap_reference_price_imb2  \\\n",
       "0                            0.138298                       -1.693353e+12   \n",
       "1                            6.346154                        9.367487e+11   \n",
       "2                            0.678815                        2.778481e+00   \n",
       "3                            0.251462                        1.710000e+02   \n",
       "4                            0.034188                        3.391304e+00   \n",
       "\n",
       "   matched_size_bid_size_ask_size_imb2  \\\n",
       "0                           255.368402   \n",
       "1                            93.345872   \n",
       "2                            93.951375   \n",
       "3                            37.571704   \n",
       "4                          1111.684024   \n",
       "\n",
       "   matched_size_bid_size_imbalance_size_imb2  \\\n",
       "0                                   3.269177   \n",
       "1                                   9.032273   \n",
       "2                                   5.724241   \n",
       "3                                   0.543170   \n",
       "4                                  40.395505   \n",
       "\n",
       "   matched_size_ask_size_imbalance_size_imb2  \\\n",
       "0                                   3.215423   \n",
       "1                                  10.107002   \n",
       "2                                   5.341913   \n",
       "3                                   0.565807   \n",
       "4                                  38.945308   \n",
       "\n",
       "   bid_size_ask_size_imbalance_size_imb2  \n",
       "0                              59.816770  \n",
       "1                               8.404237  \n",
       "2                              13.972041  \n",
       "3                              23.995112  \n",
       "4                              26.855187  \n",
       "\n",
       "[5 rows x 26 columns]"
      ]
     },
     "execution_count": 52,
     "metadata": {},
     "output_type": "execute_result"
    }
   ],
   "source": [
    "df.head()"
   ]
  },
  {
   "cell_type": "markdown",
   "id": "bd6a3421-487c-48f0-8df8-4d3a56916885",
   "metadata": {
    "papermill": {
     "duration": null,
     "end_time": null,
     "exception": null,
     "start_time": null,
     "status": "pending"
    },
    "tags": []
   },
   "source": [
    "# Feature Generation Functions "
   ]
  },
  {
   "cell_type": "code",
   "execution_count": 53,
   "id": "9166f9fd-197e-41be-93af-b2483e3da1df",
   "metadata": {},
   "outputs": [
    {
     "data": {
      "text/plain": [
       "Index(['stock_id', 'date_id', 'seconds_in_bucket', 'imbalance_size',\n",
       "       'imbalance_buy_sell_flag', 'reference_price', 'matched_size',\n",
       "       'far_price', 'near_price', 'bid_price', 'bid_size', 'ask_price',\n",
       "       'ask_size', 'wap', 'target', 'time_id', 'syn_near_price',\n",
       "       'syn_far_price', 'ask_price_bid_price_wap_imb2',\n",
       "       'ask_price_bid_price_reference_price_imb2',\n",
       "       'ask_price_wap_reference_price_imb2',\n",
       "       'bid_price_wap_reference_price_imb2',\n",
       "       'matched_size_bid_size_ask_size_imb2',\n",
       "       'matched_size_bid_size_imbalance_size_imb2',\n",
       "       'matched_size_ask_size_imbalance_size_imb2',\n",
       "       'bid_size_ask_size_imbalance_size_imb2'],\n",
       "      dtype='object')"
      ]
     },
     "execution_count": 53,
     "metadata": {},
     "output_type": "execute_result"
    }
   ],
   "source": [
    "df=pd.read_parquet(\"./tmpdfgb.parquet\")\n",
    "df.columns"
   ]
  },
  {
   "cell_type": "code",
   "execution_count": 54,
   "id": "68d7d601-f604-4470-8493-5c669d24dc67",
   "metadata": {
    "papermill": {
     "duration": null,
     "end_time": null,
     "exception": null,
     "start_time": null,
     "status": "pending"
    },
    "tags": []
   },
   "outputs": [],
   "source": [
    "def imbalance_features(df):\n",
    "    # Define lists of price and size-related column names\n",
    "    prices = [\"reference_price\", \"far_price\", \"near_price\", \"ask_price\", \"bid_price\", \"wap\"]\n",
    "    sizes = [\"matched_size\", \"bid_size\", \"ask_size\", \"imbalance_size\"]\n",
    "    df[\"volume\"] = df.eval(\"ask_size + bid_size\")\n",
    "    df[\"mid_price\"] = df.eval(\"(ask_price + bid_price) / 2\")\n",
    "    df[\"liquidity_imbalance\"] = df.eval(\"(bid_size-ask_size)/(bid_size+ask_size)\")\n",
    "    df[\"matched_imbalance\"] = df.eval(\"(imbalance_size-matched_size)/(matched_size+imbalance_size)\")\n",
    "    df[\"size_imbalance\"] = df.eval(\"bid_size / ask_size\")\n",
    "\n",
    "    for c in combinations(prices, 2):\n",
    "        df[f\"{c[0]}_{c[1]}_imb\"] = df.eval(f\"({c[0]} - {c[1]})/({c[0]} + {c[1]})\")\n",
    "        df[f\"{c[0]}_{c[1]}_imb\"].fillna(0,inplace=True)  #if both are 0 then imbalance is 0\n",
    "        \n",
    "\n",
    "    # for c in [['ask_price', 'bid_price', 'wap', 'reference_price'], sizes]:\n",
    "    #     triplet_feature = calculate_triplet_imbalance_numba(c, df)\n",
    "    #     df[triplet_feature.columns] = triplet_feature.values\n",
    "   \n",
    "    df[\"imbalance_momentum\"] = df.groupby(['stock_id'])['imbalance_size'].diff(periods=1) / df['matched_size']\n",
    "    df[\"price_spread\"] = df[\"ask_price\"] - df[\"bid_price\"]\n",
    "    df[\"spread_intensity\"] = df.groupby(['stock_id'])['price_spread'].diff()\n",
    "    df['price_pressure'] = df['imbalance_size'] * (df['ask_price'] - df['bid_price'])\n",
    "    df['market_urgency'] = df['price_spread'] * df['liquidity_imbalance']\n",
    "    df['depth_pressure'] = (df['ask_size'] - df['bid_size']) * (df['far_price'] - df['near_price'])\n",
    "    \n",
    "    # Calculate various statistical aggregation features\n",
    "    for func in [\"mean\", \"std\", \"skew\", \"kurt\"]:\n",
    "        df[f\"all_prices_{func}\"] = df[prices].agg(func, axis=1)\n",
    "        df[f\"all_sizes_{func}\"] = df[sizes].agg(func, axis=1)\n",
    "        \n",
    "\n",
    "    for col in ['matched_size', 'imbalance_size', 'reference_price', 'imbalance_buy_sell_flag']:\n",
    "        for window in [1, 2, 3, 6]:\n",
    "            df[f\"{col}_shift_{window}\"] = df.groupby('stock_id')[col].shift(window)\n",
    "            df[f\"{col}_shift_{window}\"].fillna(0,inplace=True)\n",
    "            df[f\"{col}_ret_{window}\"] = df.groupby('stock_id')[col].pct_change(window)\n",
    "            df[f\"{col}_ret_{window}\"].fillna(0,inplace=True)\n",
    "            \n",
    "    # # Calculate diff features for specific columns\n",
    "    # for col in ['ask_price', 'bid_price', 'ask_size', 'bid_size', 'market_urgency', 'imbalance_momentum', 'size_imbalance']:\n",
    "    #     for window in [1, 2, 3, 10]:\n",
    "    #         df[f\"{col}_diff_{window}\"] = df.groupby(\"stock_id\")[col].diff(window)\n",
    "\n",
    "    return df.replace([np.inf, -np.inf], 0)\n",
    "\n",
    "def other_features(df):\n",
    "    df[\"dow\"] = df[\"date_id\"] % 5  # Day of the week\n",
    "    # df[\"seconds\"] = df[\"seconds_in_bucket\"] % 60  \n",
    "    # df[\"minute\"] = df[\"seconds_in_bucket\"] // 60  \n",
    "    # for key, value in global_stock_id_feats.items():\n",
    "    #     df[f\"global_{key}\"] = df[\"stock_id\"].map(value.to_dict())\n",
    "\n",
    "    return df\n",
    "\n",
    "def generate_all_features(df):\n",
    "    # Select relevant columns for feature generation\n",
    "    cols = [c for c in df.columns if c not in [\"row_id\", \"time_id\"]]\n",
    "    df = df[cols]\n",
    "    \n",
    "    # Generate imbalance features\n",
    "    df = imbalance_features(df)\n",
    "    df = other_features(df)\n",
    "    gc.collect()  \n",
    "    feature_name = [i for i in df.columns if i not in [\"row_id\", \"time_id\"]]\n",
    "    \n",
    "    return df[feature_name]\n"
   ]
  },
  {
   "cell_type": "code",
   "execution_count": 55,
   "id": "3b46d50c-9431-4db3-aaef-f4e7427b6ff1",
   "metadata": {},
   "outputs": [
    {
     "name": "stdout",
     "output_type": "stream",
     "text": [
      "CPU times: user 17.4 s, sys: 4.18 s, total: 21.6 s\n",
      "Wall time: 21.6 s\n"
     ]
    }
   ],
   "source": [
    "%%time\n",
    "df = generate_all_features(df)"
   ]
  },
  {
   "cell_type": "code",
   "execution_count": 56,
   "id": "7092a92e-efbe-4002-b084-f95af7ac3510",
   "metadata": {},
   "outputs": [],
   "source": [
    "df1=df.iloc[1200:,:]\n",
    "df1.fillna(0,inplace=True)"
   ]
  },
  {
   "cell_type": "code",
   "execution_count": 57,
   "id": "ac3955e8-4211-4e7b-b320-ed813a7227b3",
   "metadata": {},
   "outputs": [
    {
     "name": "stdout",
     "output_type": "stream",
     "text": [
      "CPU times: user 18.4 s, sys: 7.05 s, total: 25.5 s\n",
      "Wall time: 17 s\n"
     ]
    }
   ],
   "source": [
    "%%time\n",
    "df1.to_parquet(\"./tmpalldfgb.parquet\")\n",
    "df=pd.read_parquet(\"./tmpalldfgb.parquet\")"
   ]
  },
  {
   "cell_type": "code",
   "execution_count": 58,
   "id": "911759ba-6bb4-49b7-931d-b3089efffc1a",
   "metadata": {},
   "outputs": [],
   "source": [
    "# remove syn generated near_price and far price rows\n",
    "df=df[df.syn_near_price==0]\n",
    "bs.remove_syn_columns(df)"
   ]
  }
 ],
 "metadata": {
  "kernelspec": {
   "display_name": "Python 3 (ipykernel)",
   "language": "python",
   "name": "python3"
  },
  "language_info": {
   "codemirror_mode": {
    "name": "ipython",
    "version": 3
   },
   "file_extension": ".py",
   "mimetype": "text/x-python",
   "name": "python",
   "nbconvert_exporter": "python",
   "pygments_lexer": "ipython3",
   "version": "3.9.18"
  }
 },
 "nbformat": 4,
 "nbformat_minor": 5
}
