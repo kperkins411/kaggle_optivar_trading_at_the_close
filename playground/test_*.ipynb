{
 "cells": [
  {
   "cell_type": "code",
   "execution_count": 1,
   "id": "16785e21-22da-4c2f-9361-fbc2c604b9f3",
   "metadata": {},
   "outputs": [],
   "source": [
    "def fun(a,b,c):\n",
    "    print(f'{a},{b},{c}')"
   ]
  },
  {
   "cell_type": "code",
   "execution_count": 2,
   "id": "c5d0bdf7-819c-416c-aafa-4b9bacec6714",
   "metadata": {},
   "outputs": [],
   "source": [
    "def fun2():\n",
    "    return 1,2,3"
   ]
  },
  {
   "cell_type": "code",
   "execution_count": 6,
   "id": "6619ba79-2299-43fe-a83f-8afbb54b2783",
   "metadata": {},
   "outputs": [
    {
     "name": "stdout",
     "output_type": "stream",
     "text": [
      "1,2,3\n"
     ]
    }
   ],
   "source": [
    "fun(*fun2())"
   ]
  },
  {
   "cell_type": "code",
   "execution_count": null,
   "id": "d359998f-3499-47e1-b2c2-2d064e18200e",
   "metadata": {},
   "outputs": [],
   "source": []
  }
 ],
 "metadata": {
  "kernelspec": {
   "display_name": "Python 3 (ipykernel)",
   "language": "python",
   "name": "python3"
  },
  "language_info": {
   "codemirror_mode": {
    "name": "ipython",
    "version": 3
   },
   "file_extension": ".py",
   "mimetype": "text/x-python",
   "name": "python",
   "nbconvert_exporter": "python",
   "pygments_lexer": "ipython3",
   "version": "3.9.18"
  }
 },
 "nbformat": 4,
 "nbformat_minor": 5
}
