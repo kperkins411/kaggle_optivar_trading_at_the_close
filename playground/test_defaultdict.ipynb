{
 "cells": [
  {
   "cell_type": "code",
   "execution_count": 5,
   "id": "07e14cad-02f3-4635-8fde-02a309b02a65",
   "metadata": {},
   "outputs": [],
   "source": [
    "from collections import defaultdict\n",
    "\n",
    "a=defaultdict(lambda:0)\n",
    "a[(0,1)]=0"
   ]
  },
  {
   "cell_type": "code",
   "execution_count": 6,
   "id": "ba96a7a2-d01e-4f2a-a639-c56e14ce3745",
   "metadata": {},
   "outputs": [],
   "source": [
    "a[(0,3)]=7"
   ]
  },
  {
   "cell_type": "code",
   "execution_count": 8,
   "id": "5d60d574-1f0d-409f-bf8b-8600e19b47ef",
   "metadata": {},
   "outputs": [
    {
     "data": {
      "text/plain": [
       "0"
      ]
     },
     "execution_count": 8,
     "metadata": {},
     "output_type": "execute_result"
    }
   ],
   "source": [
    "a[(5,3)]"
   ]
  },
  {
   "cell_type": "code",
   "execution_count": 9,
   "id": "45e209f3-f968-401a-9d56-4a5f014e9178",
   "metadata": {},
   "outputs": [
    {
     "data": {
      "text/plain": [
       "defaultdict(<function __main__.<lambda>()>, {(0, 1): 0, (0, 3): 7, (5, 3): 0})"
      ]
     },
     "execution_count": 9,
     "metadata": {},
     "output_type": "execute_result"
    }
   ],
   "source": [
    "a"
   ]
  },
  {
   "cell_type": "code",
   "execution_count": 10,
   "id": "365452bb-702f-4bd7-9cd9-c172a0dd8653",
   "metadata": {},
   "outputs": [],
   "source": [
    "b={}\n",
    "b[(0,1)]=7"
   ]
  },
  {
   "cell_type": "code",
   "execution_count": 11,
   "id": "052a9429-7fca-44f3-94cb-76d51a4599f8",
   "metadata": {},
   "outputs": [
    {
     "data": {
      "text/plain": [
       "{(0, 1): 7}"
      ]
     },
     "execution_count": 11,
     "metadata": {},
     "output_type": "execute_result"
    }
   ],
   "source": [
    "b"
   ]
  },
  {
   "cell_type": "code",
   "execution_count": 12,
   "id": "bc401b7a-d0d1-4c80-8578-077aaec45359",
   "metadata": {},
   "outputs": [
    {
     "ename": "KeyError",
     "evalue": "(0, 2)",
     "output_type": "error",
     "traceback": [
      "\u001b[0;31m---------------------------------------------------------------------------\u001b[0m",
      "\u001b[0;31mKeyError\u001b[0m                                  Traceback (most recent call last)",
      "Cell \u001b[0;32mIn[12], line 1\u001b[0m\n\u001b[0;32m----> 1\u001b[0m \u001b[43mb\u001b[49m\u001b[43m[\u001b[49m\u001b[43m(\u001b[49m\u001b[38;5;241;43m0\u001b[39;49m\u001b[43m,\u001b[49m\u001b[38;5;241;43m2\u001b[39;49m\u001b[43m)\u001b[49m\u001b[43m]\u001b[49m\n",
      "\u001b[0;31mKeyError\u001b[0m: (0, 2)"
     ]
    }
   ],
   "source": [
    "b[(0,2)]"
   ]
  },
  {
   "cell_type": "code",
   "execution_count": null,
   "id": "995870a3-b855-4d23-87e1-9d5aa1eab5c1",
   "metadata": {},
   "outputs": [],
   "source": []
  }
 ],
 "metadata": {
  "kernelspec": {
   "display_name": "Python 3 (ipykernel)",
   "language": "python",
   "name": "python3"
  },
  "language_info": {
   "codemirror_mode": {
    "name": "ipython",
    "version": 3
   },
   "file_extension": ".py",
   "mimetype": "text/x-python",
   "name": "python",
   "nbconvert_exporter": "python",
   "pygments_lexer": "ipython3",
   "version": "3.9.18"
  }
 },
 "nbformat": 4,
 "nbformat_minor": 5
}
