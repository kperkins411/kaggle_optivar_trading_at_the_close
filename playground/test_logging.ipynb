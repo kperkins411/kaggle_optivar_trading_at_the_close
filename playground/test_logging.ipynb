{
 "cells": [
  {
   "cell_type": "code",
   "execution_count": 1,
   "id": "d740db7b-af11-4efd-924f-5e1e1fac9daa",
   "metadata": {},
   "outputs": [],
   "source": [
    "import logging\n",
    "logging.basicConfig(filename='example.log', encoding='utf-8', level=logging.DEBUG)\n",
    "logging.debug('This message should go to the log file')\n",
    "logging.info('So should this')\n",
    "logging.warning('And this, too')\n",
    "logging.error('And non-ASCII stuff, too, like Øresund and Malmö')"
   ]
  },
  {
   "cell_type": "code",
   "execution_count": 2,
   "id": "cee47639-8f19-4e07-aadf-541b65190c6a",
   "metadata": {},
   "outputs": [
    {
     "name": "stderr",
     "output_type": "stream",
     "text": [
      "2023-12-12 21:45:43,498 - simple_example - DEBUG - debug message\n",
      "2023-12-12 21:45:43,500 - simple_example - INFO - info message\n",
      "2023-12-12 21:45:43,500 - simple_example - WARNING - warn message\n",
      "2023-12-12 21:45:43,501 - simple_example - ERROR - error message\n",
      "2023-12-12 21:45:43,501 - simple_example - CRITICAL - critical message\n"
     ]
    }
   ],
   "source": [
    "import logging\n",
    "\n",
    "# create logger\n",
    "logger = logging.getLogger('simple_example')\n",
    "logger.setLevel(logging.DEBUG)\n",
    "\n",
    "# create console handler and set level to debug\n",
    "ch = logging.StreamHandler()\n",
    "ch.setLevel(logging.DEBUG)\n",
    "\n",
    "# create formatter\n",
    "formatter = logging.Formatter('%(asctime)s - %(name)s - %(levelname)s - %(message)s')\n",
    "\n",
    "# add formatter to ch\n",
    "ch.setFormatter(formatter)\n",
    "\n",
    "# add ch to logger\n",
    "logger.addHandler(ch)\n",
    "\n",
    "# 'application' code\n",
    "logger.debug('debug message')\n",
    "logger.info('info message')\n",
    "logger.warning('warn message')\n",
    "logger.error('error message')\n",
    "logger.critical('critical message')"
   ]
  },
  {
   "cell_type": "code",
   "execution_count": 1,
   "id": "9eac13c5-2661-433b-a908-7b6c58cf08f3",
   "metadata": {},
   "outputs": [
    {
     "name": "stderr",
     "output_type": "stream",
     "text": [
      "root        : INFO     Jackdaws love my big sphinx of quartz.\n",
      "myapp.area1 : INFO     How quickly daft jumping zebras vex.\n",
      "myapp.area2 : WARNING  Jail zesty vixen who grabbed pay from quack.\n",
      "myapp.area2 : ERROR    The five boxing wizards jump quickly.\n"
     ]
    }
   ],
   "source": [
    "import logging\n",
    "\n",
    "# set up logging to file - see previous section for more details\n",
    "logging.basicConfig(level=logging.DEBUG,\n",
    "                    format='%(asctime)s %(name)-12s %(levelname)-8s %(message)s',\n",
    "                    datefmt='%m-%d %H:%M',\n",
    "                    filename='myapp.log',\n",
    "                    filemode='w')\n",
    "# define a Handler which writes INFO messages or higher to the sys.stderr\n",
    "console = logging.StreamHandler()\n",
    "console.setLevel(logging.INFO)\n",
    "# set a format which is simpler for console use\n",
    "formatter = logging.Formatter('%(name)-12s: %(levelname)-8s %(message)s')\n",
    "# tell the handler to use this format\n",
    "console.setFormatter(formatter)\n",
    "# add the handler to the root logger\n",
    "logging.getLogger().addHandler(console)\n",
    "\n",
    "# Now, we can log to the root logger, or any other logger. First the root...\n",
    "logging.info('Jackdaws love my big sphinx of quartz.')\n",
    "\n",
    "# Now, define a couple of other loggers which might represent areas in your\n",
    "# application:\n",
    "\n",
    "logger1 = logging.getLogger('myapp.area1')\n",
    "logger2 = logging.getLogger('myapp.area2')\n",
    "\n",
    "logger1.debug('Quick zephyrs blow, vexing daft Jim.')\n",
    "logger1.info('How quickly daft jumping zebras vex.')\n",
    "logger2.warning('Jail zesty vixen who grabbed pay from quack.')\n",
    "logger2.error('The five boxing wizards jump quickly.')"
   ]
  },
  {
   "cell_type": "code",
   "execution_count": 3,
   "id": "36846984-fdc6-4a14-98a2-c148a342c295",
   "metadata": {},
   "outputs": [],
   "source": [
    "import logging\n",
    "# set up logging to file - see previous section for more details\n",
    "logging.basicConfig(level=logging.DEBUG,\n",
    "                    filename='logg.log',\n",
    "                    filemode='w')\n",
    "# define a Handler which writes INFO messages or higher to the sys.stderr\n",
    "console = logging.StreamHandler()\n",
    "# add the handler to the root logger\n",
    "logging.getLogger().addHandler(console)\n"
   ]
  },
  {
   "cell_type": "code",
   "execution_count": 4,
   "id": "eac8be14-af28-4358-b82c-e524894859b9",
   "metadata": {},
   "outputs": [
    {
     "name": "stderr",
     "output_type": "stream",
     "text": [
      "Jackdaws love my big sphinx of quartz.\n"
     ]
    }
   ],
   "source": [
    "# Now, we can log to the root logger, or any other logger. First the root...\n",
    "logging.info('Jackdaws love my big sphinx of quartz.')"
   ]
  },
  {
   "cell_type": "code",
   "execution_count": null,
   "id": "c3daccc7-f647-40b8-b591-ce708b9d8fff",
   "metadata": {},
   "outputs": [],
   "source": []
  }
 ],
 "metadata": {
  "kernelspec": {
   "display_name": "Python 3 (ipykernel)",
   "language": "python",
   "name": "python3"
  },
  "language_info": {
   "codemirror_mode": {
    "name": "ipython",
    "version": 3
   },
   "file_extension": ".py",
   "mimetype": "text/x-python",
   "name": "python",
   "nbconvert_exporter": "python",
   "pygments_lexer": "ipython3",
   "version": "3.9.18"
  }
 },
 "nbformat": 4,
 "nbformat_minor": 5
}
