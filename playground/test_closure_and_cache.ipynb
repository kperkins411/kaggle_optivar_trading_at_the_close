{
 "cells": [
  {
   "cell_type": "code",
   "execution_count": null,
   "id": "e55751ab-c455-42e9-ba95-4668d71db645",
   "metadata": {},
   "outputs": [],
   "source": [
    "class last_val:\n",
    "    def __init__(self, dfgb):\n",
    "        self.stock_id = -1  #uninitialized\n",
    "        self.date_id = -1\n",
    "        self.dfgb=dfgb\n",
    "        self.far_price=0\n",
    "        self.near_price=0\n",
    "        \n",
    "    def __call__(self,stock_id,date_id):\n",
    "        if((stock_id == self.stock_id) & (date_id == self.date_id)):\n",
    "            return self.near_price,self.far_price\n",
    "\n",
    "        #not found,save current tuple\n",
    "        self.stock_id = stock_id \n",
    "        self.date_id =date_id\n",
    "\n",
    "        #look up new\n",
    "        try:\n",
    "            row=dfgb.loc[(stock_id, (date_id-1))]\n",
    "            self.far_price = row.far_price\n",
    "            self.near_price = row.near_price\n",
    "        except:\n",
    "            self.far_price=0\n",
    "            self.near_price=0\n",
    "        return self.far_price,self.near_price\n"
   ]
  },
  {
   "cell_type": "code",
   "execution_count": 1,
   "id": "3b5d6bf8-196f-4f3a-bc84-e86d40fca51c",
   "metadata": {},
   "outputs": [],
   "source": [
    "def fun(l):\n",
    "    def init(x):\n",
    "        print(id(l))\n",
    "        return (x in l)\n",
    "    return init"
   ]
  },
  {
   "cell_type": "code",
   "execution_count": 2,
   "id": "c1c5e283-9f1c-45f1-888c-236018bbf067",
   "metadata": {},
   "outputs": [],
   "source": [
    "l=[1,2,3,4,5]"
   ]
  },
  {
   "cell_type": "code",
   "execution_count": 4,
   "id": "a2b6e3f4-daf6-4129-8edd-f9d1b013ce7c",
   "metadata": {},
   "outputs": [],
   "source": [
    "cf=fun(l)"
   ]
  },
  {
   "cell_type": "code",
   "execution_count": 6,
   "id": "15d80731-182f-4407-94db-b604d43089f2",
   "metadata": {},
   "outputs": [
    {
     "name": "stdout",
     "output_type": "stream",
     "text": [
      "140366584426368\n",
      "140366584426368\n",
      "140366584426368\n",
      "140366584426368\n",
      "140366584426368\n",
      "140366584426368\n",
      "140366584426368\n",
      "140366584426368\n"
     ]
    },
    {
     "data": {
      "text/plain": [
       "[1, 2, 3, 4, 5]"
      ]
     },
     "execution_count": 6,
     "metadata": {},
     "output_type": "execute_result"
    }
   ],
   "source": [
    "l2=[1,2,3,4,5,6,7,8]\n",
    "[i for i in l2 if cf(i)]"
   ]
  },
  {
   "cell_type": "code",
   "execution_count": null,
   "id": "36a89b4f-2b70-4034-a5a5-650e8346ed8b",
   "metadata": {},
   "outputs": [],
   "source": []
  }
 ],
 "metadata": {
  "kernelspec": {
   "display_name": "Python 3 (ipykernel)",
   "language": "python",
   "name": "python3"
  },
  "language_info": {
   "codemirror_mode": {
    "name": "ipython",
    "version": 3
   },
   "file_extension": ".py",
   "mimetype": "text/x-python",
   "name": "python",
   "nbconvert_exporter": "python",
   "pygments_lexer": "ipython3",
   "version": "3.9.18"
  }
 },
 "nbformat": 4,
 "nbformat_minor": 5
}
