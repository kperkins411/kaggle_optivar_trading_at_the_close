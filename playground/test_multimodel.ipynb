{
 "cells": [
  {
   "cell_type": "code",
   "execution_count": 36,
   "metadata": {},
   "outputs": [
    {
     "name": "stdout",
     "output_type": "stream",
     "text": [
      "CPU times: user 18.5 ms, sys: 148 µs, total: 18.7 ms\n",
      "Wall time: 18.5 ms\n"
     ]
    },
    {
     "data": {
      "text/plain": [
       "0      1.0\n",
       "1      1.0\n",
       "2      1.0\n",
       "3      1.0\n",
       "4      2.0\n",
       "      ... \n",
       "395    3.0\n",
       "396    3.0\n",
       "397    3.0\n",
       "398    3.0\n",
       "399    3.0\n",
       "Length: 240, dtype: float64"
      ]
     },
     "execution_count": 36,
     "metadata": {},
     "output_type": "execute_result"
    }
   ],
   "source": [
    "%%time\n",
    "import optivarfuncs as of\n",
    "import numpy as np\n",
    "df=of.getdf(stocks=list(range(20)))\n",
    "\n",
    "class mod():\n",
    "    def __init__(self,default):\n",
    "        self.default=default\n",
    "\n",
    "    def predict(self,x):\n",
    "        return np.ones(len(x))*self.default\n",
    "\n",
    "stock_ids=df.stock_id.unique()\n",
    "clusters=[[0,3,5,8],[1,2,4,6,7,9]]\n",
    "c3=[i for i in range(len(df)) if i not in clusters[0] and i not in clusters[1]]\n",
    "clusters.append(c3);\n",
    "\n",
    "#create models\n",
    "models=[mod(i) for i in range(1,len(clusters)+1)]\n",
    "\n",
    "#create a place for the results to go\n",
    "res=df.stock_id.copy().to_frame();\n",
    "res['final_res']=np.NaN\n",
    "\n",
    "#do predictions\n",
    "for i,mod in enumerate(models):\n",
    "    res[f'res_{i}']=mod.predict(df)\n",
    "\n",
    "def weight_func(x):\n",
    "    for i,cluster in enumerate(clusters):\n",
    "        if x.stock_id in cluster:\n",
    "            return x[f'res_{i}']*1\n",
    "    \n",
    "res=res.apply(weight_func,axis=1)\n",
    "res\n",
    "\n"
   ]
  },
  {
   "cell_type": "code",
   "execution_count": 33,
   "metadata": {},
   "outputs": [
    {
     "data": {
      "text/plain": [
       "array([1., 2.])"
      ]
     },
     "execution_count": 33,
     "metadata": {},
     "output_type": "execute_result"
    }
   ],
   "source": [
    "res.unique()"
   ]
  },
  {
   "cell_type": "code",
   "execution_count": null,
   "metadata": {},
   "outputs": [],
   "source": [
    "def weightavg(x):\n",
    "    w = []\n",
    "    n = len(a)\n",
    "    for j in range(1, n + 1):\n",
    "        j = 2 if j == 1 else j\n",
    "        w.append(1 / (2**(n + 1 - j)))\n",
    "    return w"
   ]
  },
  {
   "cell_type": "code",
   "execution_count": null,
   "metadata": {},
   "outputs": [],
   "source": []
  }
 ],
 "metadata": {
  "kernelspec": {
   "display_name": "jupyterlab-debugger2",
   "language": "python",
   "name": "jupyterlab-debugger2"
  },
  "language_info": {
   "codemirror_mode": {
    "name": "ipython",
    "version": 3
   },
   "file_extension": ".py",
   "mimetype": "text/x-python",
   "name": "python",
   "nbconvert_exporter": "python",
   "pygments_lexer": "ipython3",
   "version": "3.9.18"
  }
 },
 "nbformat": 4,
 "nbformat_minor": 2
}
