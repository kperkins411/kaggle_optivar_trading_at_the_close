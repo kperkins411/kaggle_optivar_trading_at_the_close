{
 "cells": [
  {
   "cell_type": "code",
   "execution_count": 55,
   "id": "aa2ddd69-0d73-4242-a037-42498f398c1e",
   "metadata": {},
   "outputs": [],
   "source": [
    "from abc import ABC, abstractmethod \n",
    "class a:\n",
    "    def __init__(self,val=0):\n",
    "        self.val=val;\n",
    "    \n",
    "    @abstractmethod    \n",
    "    def _getval(self):\n",
    "        pass\n",
    "\n",
    "    def __repr__(self):\n",
    "        print(\"a.__repr__\")\n",
    "        return \"in class a\"\n",
    "\n",
    "class b(a):\n",
    "    def __init__(self,val):\n",
    "        super().__init__(val)\n",
    "        \n",
    "    def _getval(self):\n",
    "        return (self.val)\n",
    "\n",
    "    def __repr__(self):\n",
    "        super().__repr__()\n",
    "        print(\"b.__repr__\")\n",
    "        return f\"in class b val={self._getval()}\"\n",
    "        "
   ]
  },
  {
   "cell_type": "code",
   "execution_count": 56,
   "id": "1a6deac3-2d7c-4dc1-b290-e1c6367a2285",
   "metadata": {},
   "outputs": [
    {
     "name": "stdout",
     "output_type": "stream",
     "text": [
      "a.__repr__\n"
     ]
    },
    {
     "data": {
      "text/plain": [
       "in class a"
      ]
     },
     "execution_count": 56,
     "metadata": {},
     "output_type": "execute_result"
    }
   ],
   "source": [
    "a1=a()\n",
    "a1"
   ]
  },
  {
   "cell_type": "code",
   "execution_count": 57,
   "id": "6a3d9040-6054-4b0f-ad62-a5c9d5e7eb06",
   "metadata": {},
   "outputs": [],
   "source": [
    "# a1.getval()"
   ]
  },
  {
   "cell_type": "code",
   "execution_count": 58,
   "id": "d7e9ad0d-54b0-4c9d-9da1-1fa311749bf2",
   "metadata": {},
   "outputs": [
    {
     "name": "stdout",
     "output_type": "stream",
     "text": [
      "a.__repr__\n",
      "b.__repr__\n"
     ]
    },
    {
     "data": {
      "text/plain": [
       "in class b val=7"
      ]
     },
     "execution_count": 58,
     "metadata": {},
     "output_type": "execute_result"
    }
   ],
   "source": [
    "b1=b(7)\n",
    "b1"
   ]
  },
  {
   "cell_type": "code",
   "execution_count": 22,
   "id": "a2f30ae9-c29b-4477-9fba-2684162fe6b3",
   "metadata": {},
   "outputs": [],
   "source": [
    "class bfs():\n",
    "    '''\n",
    "    hosts one bf object percolumn being backfilled\n",
    "    make sure start date is the actual starting date in the dataframe\n",
    "    WARNING: syn_colname is added to df for each column in columns\n",
    "    ex.     df=of.getdf()\n",
    "            bs=of.bfs(['near_price','far_price'], df)\n",
    "            df = df.apply(bs.backfill, axis=1)\n",
    "    '''\n",
    "    def __init__(self,columns, df, dfgb=1):\n",
    "        self.df=df\n",
    "        self.dfgb=dfgb\n",
    "            \n",
    "    "
   ]
  },
  {
   "cell_type": "code",
   "execution_count": 23,
   "id": "f8b80638-740a-4383-a04c-3fb034be7c7d",
   "metadata": {},
   "outputs": [],
   "source": [
    "a=bfs([1,2],[3])"
   ]
  },
  {
   "cell_type": "code",
   "execution_count": 24,
   "id": "5a26f050-5800-472c-bf95-ae299d8fba6f",
   "metadata": {},
   "outputs": [
    {
     "data": {
      "text/plain": [
       "False"
      ]
     },
     "execution_count": 24,
     "metadata": {},
     "output_type": "execute_result"
    }
   ],
   "source": [
    "a.dfgb is None"
   ]
  },
  {
   "cell_type": "code",
   "execution_count": null,
   "id": "1e00a3ae-7068-4873-8e10-b5576fe81890",
   "metadata": {},
   "outputs": [],
   "source": []
  }
 ],
 "metadata": {
  "kernelspec": {
   "display_name": "Python 3 (ipykernel)",
   "language": "python",
   "name": "python3"
  },
  "language_info": {
   "codemirror_mode": {
    "name": "ipython",
    "version": 3
   },
   "file_extension": ".py",
   "mimetype": "text/x-python",
   "name": "python",
   "nbconvert_exporter": "python",
   "pygments_lexer": "ipython3",
   "version": "3.9.18"
  }
 },
 "nbformat": 4,
 "nbformat_minor": 5
}
