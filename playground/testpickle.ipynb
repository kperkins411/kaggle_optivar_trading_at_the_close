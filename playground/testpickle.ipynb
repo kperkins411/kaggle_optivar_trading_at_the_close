{
 "cells": [
  {
   "cell_type": "code",
   "execution_count": 1,
   "id": "02176465-8520-4df2-b012-585596b7afe8",
   "metadata": {},
   "outputs": [],
   "source": [
    "lgb_params = {\n",
    "    \"objective\": \"mae\",\n",
    "    \"n_estimators\": 6000,\n",
    "    \"num_leaves\": 256,\n",
    "    \"subsample\": 0.6,\n",
    "    \"colsample_bytree\": 0.8,\n",
    "    \"learning_rate\": 0.00871,\n",
    "    'max_depth': 11,\n",
    "    \"n_jobs\": 4,\n",
    "    \"device\": \"gpu\",\n",
    "    \"verbosity\": -1,\n",
    "    \"importance_type\": \"gain\",\n",
    "}\n"
   ]
  },
  {
   "cell_type": "code",
   "execution_count": 2,
   "id": "ec0c731a-960d-40d0-934f-b964600c0d76",
   "metadata": {},
   "outputs": [],
   "source": [
    "import pickle"
   ]
  },
  {
   "cell_type": "code",
   "execution_count": 3,
   "id": "bf9cbcc0-74e6-4851-b03d-3f8d9a6a8867",
   "metadata": {},
   "outputs": [],
   "source": [
    "#save it\n",
    "with open('lgbp.pkl','wb') as f:\n",
    "    pickle.dump(lgb_params,f)"
   ]
  },
  {
   "cell_type": "code",
   "execution_count": 6,
   "id": "5e38133e-366d-4004-ab18-52c6821e2815",
   "metadata": {},
   "outputs": [],
   "source": [
    "#load it\n",
    "lgb_paraml={}\n",
    "with open('lgbp.pkl','rb') as f:\n",
    "    lgb_paraml=pickle.load(f)"
   ]
  },
  {
   "cell_type": "code",
   "execution_count": 7,
   "id": "1a8b6015-2175-478e-bb85-77e836988a26",
   "metadata": {},
   "outputs": [
    {
     "data": {
      "text/plain": [
       "{'objective': 'mae',\n",
       " 'n_estimators': 6000,\n",
       " 'num_leaves': 256,\n",
       " 'subsample': 0.6,\n",
       " 'colsample_bytree': 0.8,\n",
       " 'learning_rate': 0.00871,\n",
       " 'max_depth': 11,\n",
       " 'n_jobs': 4,\n",
       " 'device': 'gpu',\n",
       " 'verbosity': -1,\n",
       " 'importance_type': 'gain'}"
      ]
     },
     "execution_count": 7,
     "metadata": {},
     "output_type": "execute_result"
    }
   ],
   "source": [
    "lgb_paraml"
   ]
  },
  {
   "cell_type": "code",
   "execution_count": 10,
   "id": "190952a9-10dc-4bbd-a9fd-74e936b95bff",
   "metadata": {},
   "outputs": [
    {
     "data": {
      "text/plain": [
       "True"
      ]
     },
     "execution_count": 10,
     "metadata": {},
     "output_type": "execute_result"
    }
   ],
   "source": [
    "lgb_paraml==lgb_params"
   ]
  },
  {
   "cell_type": "code",
   "execution_count": null,
   "id": "0accf4ed-0988-4ef9-aff6-cf7e0a96131c",
   "metadata": {},
   "outputs": [],
   "source": []
  }
 ],
 "metadata": {
  "kernelspec": {
   "display_name": "Python 3 (ipykernel)",
   "language": "python",
   "name": "python3"
  },
  "language_info": {
   "codemirror_mode": {
    "name": "ipython",
    "version": 3
   },
   "file_extension": ".py",
   "mimetype": "text/x-python",
   "name": "python",
   "nbconvert_exporter": "python",
   "pygments_lexer": "ipython3",
   "version": "3.9.18"
  }
 },
 "nbformat": 4,
 "nbformat_minor": 5
}
