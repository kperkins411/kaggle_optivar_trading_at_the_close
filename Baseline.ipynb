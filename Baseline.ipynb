{
 "cells": [
  {
   "cell_type": "code",
   "execution_count": 30,
   "id": "fba6fbe4-9cf5-4cbf-9633-c5fac6f7da69",
   "metadata": {},
   "outputs": [],
   "source": [
    "import gc  \n",
    "import os  \n",
    "import time  \n",
    "import warnings \n",
    "from itertools import combinations  \n",
    "from warnings import simplefilter \n",
    "import joblib  \n",
    "import playground.optivarfuncs as of\n",
    "import lightgbm as lgb  \n",
    "import numpy as np  \n",
    "import pandas as pd  \n",
    "from sklearn.metrics import mean_absolute_error \n",
    "from sklearn.model_selection import KFold, TimeSeriesSplit  \n",
    "warnings.filterwarnings(\"ignore\")\n",
    "simplefilter(action=\"ignore\", category=pd.errors.PerformanceWarning)\n",
    "is_offline = False \n",
    "is_train = True  \n",
    "is_infer = True \n",
    "max_lookback = np.nan \n",
    "split_day = 435  "
   ]
  },
  {
   "cell_type": "markdown",
   "id": "b40267af-acb7-4c17-a905-b33659850ecd",
   "metadata": {},
   "source": [
    "# Settings\n",
    "There are 480 dates, 5 days a week or 96 weeks"
   ]
  },
  {
   "cell_type": "code",
   "execution_count": 31,
   "id": "b4218260-02b6-4520-b479-0f94415818d2",
   "metadata": {},
   "outputs": [],
   "source": [
    "class CONFIG:    \n",
    "    #take last 3 months worth? or roughly 12*5=60.  So we want from (480-60) to 480\n",
    "    # start_date=420\n",
    "\n",
    "    #take last 1 months worth? or roughly 4*5=20.  So we want from (480-20) to 480\n",
    "    start_date=460\n",
    "    \n",
    "\n",
    "    use_subset_of_data=False"
   ]
  },
  {
   "cell_type": "code",
   "execution_count": 32,
   "id": "bb1a9c2d-f401-4c34-8721-359d43731824",
   "metadata": {},
   "outputs": [],
   "source": [
    "#logging\n",
    "import logging\n",
    "# set up logging to file - see previous section for more details\n",
    "logging.basicConfig(level=logging.DEBUG,\n",
    "                    filename='logg.log',\n",
    "                    filemode='w')\n",
    "# define a Handler which writes INFO messages or higher to the sys.stderr\n",
    "console = logging.StreamHandler()\n",
    "# add the handler to the root logger\n",
    "logging.getLogger().addHandler(console)\n",
    "logger=logging.getLogger()\n",
    "\n",
    "#use following to enable and disable\n",
    "logger.disabled = True\n",
    "# logger.disabled = False\n"
   ]
  },
  {
   "cell_type": "code",
   "execution_count": 33,
   "id": "50d9d1a4-527b-4ca5-9a77-fd6f82980759",
   "metadata": {},
   "outputs": [
    {
     "data": {
      "text/plain": [
       "'RAM usage = 0.4286 GB'"
      ]
     },
     "execution_count": 33,
     "metadata": {},
     "output_type": "execute_result"
    }
   ],
   "source": [
    "# Tracking kernel memory usage:-  \n",
    "from os import path, walk, getpid;\n",
    "from psutil import Process;\n",
    "def GetMemUsage():\n",
    "    \"\"\"\n",
    "    This function defines the memory usage across the kernel. \n",
    "    Source-\n",
    "    https://stackoverflow.com/questions/61366458/how-to-find-memory-usage-of-kaggle-notebook\n",
    "    \"\"\";\n",
    "    \n",
    "    pid = getpid();\n",
    "    py = Process(pid);\n",
    "    memory_use = py.memory_info()[0] / 2. ** 30;\n",
    "    return f\"RAM usage = {memory_use :.4} GB\";\n",
    "GetMemUsage()"
   ]
  },
  {
   "cell_type": "code",
   "execution_count": 34,
   "id": "3cfe9aa8-1771-4c6f-92e5-8e152ade6be2",
   "metadata": {},
   "outputs": [
    {
     "data": {
      "text/plain": [
       "5"
      ]
     },
     "execution_count": 34,
     "metadata": {},
     "output_type": "execute_result"
    }
   ],
   "source": [
    "from gc import collect;\n",
    "collect()"
   ]
  },
  {
   "cell_type": "markdown",
   "id": "4ed3e31e-6dde-4c1f-80b2-d5b37e9fbe4f",
   "metadata": {
    "papermill": {
     "duration": null,
     "end_time": null,
     "exception": null,
     "start_time": null,
     "status": "pending"
    },
    "tags": []
   },
   "source": [
    "# Data Loading and Preprocessing \n",
    "\n",
    "\n"
   ]
  },
  {
   "cell_type": "code",
   "execution_count": 35,
   "id": "3041840a-8cb4-43c0-868a-72eede03b998",
   "metadata": {},
   "outputs": [],
   "source": [
    "# df = pd.read_csv(\"/kaggle/input/optiver-trading-at-the-close/train.csv\")\n",
    "df = pd.read_csv(\"./data/train.csv\")\n",
    "\n",
    "# Dropping rows with null targets:-\n",
    "# drop_idx = df.loc[df['target'].isna(), 'target'].index.to_list();\n",
    "# df    = df.drop(drop_idx, axis=0);\n",
    "\n",
    "df = df.dropna(subset=[\"target\"])  #drop all rows with NaN in target\n",
    "df.reset_index(drop=True, inplace=True)\n",
    "df_shape = df.shape\n",
    "df.drop(columns=['row_id'],inplace=True)"
   ]
  },
  {
   "cell_type": "code",
   "execution_count": 36,
   "id": "f98d6ffd-4d6f-4f5b-8860-385b8a68bddf",
   "metadata": {},
   "outputs": [],
   "source": [
    "# !pip install seaborn\n",
    "\n",
    "# import seaborn as sns\n",
    "# import matplotlib.pyplot as plt;\n",
    "# # logging.getLogger('matplotlib.font_manager').setLevel(logging.ERROR)\n",
    "# fig, ax = plt.subplots(1,1, figsize = (5, 8));\n",
    "# sns.heatmap(df.describe().loc[['min', 'max']].T, cbar = False, \n",
    "#             cmap = 'icefire', annot = True,\n",
    "#             linewidths = 2.5, linecolor = 'white', fmt = ',.4f', \n",
    "#             annot_kws= {'fontweight': 'bold', 'fontsize': 10.5,},\n",
    "#             ax = ax\n",
    "#            );\n",
    "# ax.set_title(f\"\\nMin-max across columns in the train data\\n\");\n",
    "# plt.show();"
   ]
  },
  {
   "cell_type": "code",
   "execution_count": 37,
   "id": "233d85f7-a67e-40f5-90c0-82201e8ca4b8",
   "metadata": {},
   "outputs": [
    {
     "name": "stdout",
     "output_type": "stream",
     "text": [
      "df shape=(5237892, 16)\n"
     ]
    }
   ],
   "source": [
    "if(CONFIG.use_subset_of_data):\n",
    "    #just take the last 4 weeks\n",
    "    df=df[df.date_id>CONFIG.start_date]\n",
    "print(f'df shape={df.shape}')"
   ]
  },
  {
   "cell_type": "markdown",
   "id": "70e7d4e4-2184-4292-acc7-fd89622277b8",
   "metadata": {
    "papermill": {
     "duration": null,
     "end_time": null,
     "exception": null,
     "start_time": null,
     "status": "pending"
    },
    "tags": []
   },
   "source": [
    "# Memory Optimization"
   ]
  },
  {
   "cell_type": "code",
   "execution_count": 38,
   "id": "1fa01967-0859-4477-b5f2-5e378a680b20",
   "metadata": {
    "papermill": {
     "duration": null,
     "end_time": null,
     "exception": null,
     "start_time": null,
     "status": "pending"
    },
    "tags": []
   },
   "outputs": [],
   "source": [
    "def reduce_mem_usage(df, verbose=True):\n",
    "    start_mem = df.memory_usage().sum() / 1024**2\n",
    "    for col in df.columns:\n",
    "        col_type = df[col].dtype\n",
    "        if col_type != object:\n",
    "            c_min = df[col].min()\n",
    "            c_max = df[col].max()\n",
    "            \n",
    "            if str(col_type)[:3] == \"int\":\n",
    "                if c_min > np.iinfo(np.int8).min and c_max < np.iinfo(np.int8).max:\n",
    "                    df[col] = df[col].astype(np.int8)\n",
    "                elif c_min > np.iinfo(np.int16).min and c_max < np.iinfo(np.int16).max:\n",
    "                    df[col] = df[col].astype(np.int16)\n",
    "                elif c_min > np.iinfo(np.int32).min and c_max < np.iinfo(np.int32).max:\n",
    "                    df[col] = df[col].astype(np.int32)\n",
    "                elif c_min > np.iinfo(np.int64).min and c_max < np.iinfo(np.int64).max:\n",
    "                    df[col] = df[col].astype(np.int64)\n",
    "            else:\n",
    "               \n",
    "                if c_min > np.finfo(np.float16).min and c_max < np.finfo(np.float16).max:\n",
    "                    df[col] = df[col].astype(np.float32)\n",
    "                elif c_min > np.finfo(np.float32).min and c_max < np.finfo(np.float32).max:\n",
    "                    df[col] = df[col].astype(np.float32)\n",
    "                else:\n",
    "                    df[col] = df[col].astype(np.float32)\n",
    "    if verbose:\n",
    "        logger.info(f\"Memory usage of dataframe is {start_mem:.2f} MB\")\n",
    "        end_mem = df.memory_usage().sum() / 1024**2\n",
    "        logger.info(f\"Memory usage after optimization is: {end_mem:.2f} MB\")\n",
    "        decrease = 100 * (start_mem - end_mem) / start_mem\n",
    "        logger.info(f\"Decreased by {decrease:.2f}%\")\n",
    "    return df\n"
   ]
  },
  {
   "cell_type": "code",
   "execution_count": 39,
   "id": "97743a9f-96f7-4404-9362-f6b6f38cd7b4",
   "metadata": {},
   "outputs": [
    {
     "name": "stdout",
     "output_type": "stream",
     "text": [
      "CPU times: user 4 µs, sys: 0 ns, total: 4 µs\n",
      "Wall time: 6.2 µs\n"
     ]
    }
   ],
   "source": [
    "%%time \n",
    "\n",
    "def MakeFtre(df : pd.DataFrame, prices: list, median_vol: pd.DataFrame) -> pd.DataFrame:\n",
    "    \"\"\"\n",
    "    This function creates new features using the price columns. This was used in a baseline notebook as below-\n",
    "    https://www.kaggle.com/code/yuanzhezhou/baseline-lgb-xgb-and-catboost\n",
    "    \n",
    "    Inputs-\n",
    "    df:- pd.DataFrame -- input dataframe\n",
    "    cols:- price columns for transformation\n",
    "    median_vol:- pd.DataFrame -- stock wise median volume for train set\n",
    "    \n",
    "    Returns-\n",
    "    df:- pd.DataFrame -- dataframe with extra columns\n",
    "    \"\"\";\n",
    "    \n",
    "    features = ['overall_medvol', \"first5min_medvol\", \"last5min_medvol\",\n",
    "                'seconds_in_bucket', 'imbalance_buy_sell_flag',\n",
    "                'imbalance_size', 'matched_size', 'bid_size', 'ask_size',\n",
    "                'reference_price','far_price', 'near_price', 'ask_price', 'bid_price', 'wap',\n",
    "                'imb_s1', 'imb_s2' \n",
    "               ];\n",
    "    \n",
    "    df = df.merge(median_vol, how= 'left', left_on = \"stock_id\", right_index = True);\n",
    "    \n",
    "    df['imb_s1'] = df.eval('(bid_size-ask_size)/(bid_size+ask_size)').astype(np.float32);\n",
    "    df['imb_s2'] = df.eval('(imbalance_size-matched_size)/(matched_size+imbalance_size)').astype(np.float32);\n",
    "    for i,a in enumerate(prices):\n",
    "        for j,b in enumerate(prices):\n",
    "            if i>j:\n",
    "                df[f'{a}_{b}_imb'] = df.eval(f'({a}-{b})/({a}+{b})');\n",
    "                features.append(f'{a}_{b}_imb'); \n",
    "                    \n",
    "    for i,a in enumerate(prices):\n",
    "        for j,b in enumerate(prices):\n",
    "            for k,c in enumerate(prices):\n",
    "                if i>j and j>k:\n",
    "                    max_ = df[[a,b,c]].max(axis=1);\n",
    "                    min_ = df[[a,b,c]].min(axis=1);\n",
    "                    mid_ = df[[a,b,c]].sum(axis=1)-min_-max_;\n",
    "\n",
    "                    df[f'{a}_{b}_{c}_imb2'] = ((max_-mid_)/(mid_-min_)).astype(np.float32);\n",
    "                    features.append(f'{a}_{b}_{c}_imb2');\n",
    "    \n",
    "    return df[features];\n",
    "\n",
    "     "
   ]
  },
  {
   "cell_type": "markdown",
   "id": "e45c3aba-3378-4cd6-9800-b6e5702702f7",
   "metadata": {},
   "source": [
    "## Deal with NaNs in near_price and far_price"
   ]
  },
  {
   "cell_type": "code",
   "execution_count": 40,
   "id": "ec3dd0fa-4968-4068-9f92-99a4da2f7ab6",
   "metadata": {},
   "outputs": [
    {
     "data": {
      "text/plain": [
       "'RAM usage = 1.612 GB'"
      ]
     },
     "execution_count": 40,
     "metadata": {},
     "output_type": "execute_result"
    }
   ],
   "source": [
    "collect()\n",
    "GetMemUsage()"
   ]
  },
  {
   "cell_type": "code",
   "execution_count": 41,
   "id": "a7d231c2-722c-49ac-9186-d44bb00f8c0c",
   "metadata": {},
   "outputs": [],
   "source": [
    "dfgb = df.groupby(['stock_id','date_id']).median()\n",
    "# dfgb = None"
   ]
  },
  {
   "cell_type": "code",
   "execution_count": null,
   "id": "009e8b44-589c-44a5-9eee-a4871e844d04",
   "metadata": {},
   "outputs": [],
   "source": [
    "%%time\n",
    "bs=of.bfs(['near_price','far_price'],df,dfgb)\n",
    "df = df.apply(bs.backfill, axis=1)"
   ]
  },
  {
   "cell_type": "code",
   "execution_count": 29,
   "id": "38889d6a-8d31-4ce5-a17d-b7402e4ac3c8",
   "metadata": {},
   "outputs": [
    {
     "name": "stdout",
     "output_type": "stream",
     "text": [
      "CPU times: user 18.6 s, sys: 131 ms, total: 18.7 s\n",
      "Wall time: 18.7 s\n"
     ]
    }
   ],
   "source": [
    "%%time\n",
    "bs=of.bfs(['near_price','far_price'],df)\n",
    "df = df.apply(bs.backfill, axis=1)"
   ]
  },
  {
   "cell_type": "code",
   "execution_count": 14,
   "id": "ee7bb832-9f33-4808-80c8-e0f4c1cb2a1a",
   "metadata": {},
   "outputs": [
    {
     "name": "stdout",
     "output_type": "stream",
     "text": [
      "CPU times: user 7min 17s, sys: 3.59 s, total: 7min 20s\n",
      "Wall time: 7min 20s\n"
     ]
    }
   ],
   "source": [
    "%%time\n",
    "# dfc=df.copy(deep=True)\n",
    "# dfgb = df.groupby(['stock_id','date_id']).median()\n",
    "dfgb = None\n",
    "bs=of.bfs(['near_price','far_price'],df)\n",
    "df = df.apply(bs.backfill, axis=1)"
   ]
  },
  {
   "cell_type": "code",
   "execution_count": 15,
   "id": "ed40e7ea-e475-420f-9787-80cc539f77f0",
   "metadata": {},
   "outputs": [],
   "source": [
    "# %debug"
   ]
  },
  {
   "cell_type": "code",
   "execution_count": 16,
   "id": "6623bcee-2e98-4789-ade5-6f819aa75135",
   "metadata": {},
   "outputs": [
    {
     "data": {
      "text/plain": [
       "stock_id                     0\n",
       "date_id                      0\n",
       "seconds_in_bucket            0\n",
       "imbalance_size             132\n",
       "imbalance_buy_sell_flag      0\n",
       "reference_price            132\n",
       "matched_size               132\n",
       "far_price                    0\n",
       "near_price                   0\n",
       "bid_price                  132\n",
       "bid_size                     0\n",
       "ask_price                  132\n",
       "ask_size                     0\n",
       "wap                        132\n",
       "target                       0\n",
       "time_id                      0\n",
       "syn_near_price               0\n",
       "syn_far_price                0\n",
       "dtype: int64"
      ]
     },
     "execution_count": 16,
     "metadata": {},
     "output_type": "execute_result"
    }
   ],
   "source": [
    "df.isnull().sum()"
   ]
  },
  {
   "cell_type": "code",
   "execution_count": 15,
   "id": "2cb1274b-a0d2-49b6-ae93-6a9cebc4d00f",
   "metadata": {},
   "outputs": [
    {
     "data": {
      "text/html": [
       "<div>\n",
       "<style scoped>\n",
       "    .dataframe tbody tr th:only-of-type {\n",
       "        vertical-align: middle;\n",
       "    }\n",
       "\n",
       "    .dataframe tbody tr th {\n",
       "        vertical-align: top;\n",
       "    }\n",
       "\n",
       "    .dataframe thead th {\n",
       "        text-align: right;\n",
       "    }\n",
       "</style>\n",
       "<table border=\"1\" class=\"dataframe\">\n",
       "  <thead>\n",
       "    <tr style=\"text-align: right;\">\n",
       "      <th></th>\n",
       "      <th>stock_id</th>\n",
       "      <th>date_id</th>\n",
       "      <th>seconds_in_bucket</th>\n",
       "      <th>imbalance_size</th>\n",
       "      <th>imbalance_buy_sell_flag</th>\n",
       "      <th>reference_price</th>\n",
       "      <th>matched_size</th>\n",
       "      <th>far_price</th>\n",
       "      <th>near_price</th>\n",
       "      <th>bid_price</th>\n",
       "      <th>bid_size</th>\n",
       "      <th>ask_price</th>\n",
       "      <th>ask_size</th>\n",
       "      <th>wap</th>\n",
       "      <th>target</th>\n",
       "      <th>time_id</th>\n",
       "      <th>syn_near_price</th>\n",
       "      <th>syn_far_price</th>\n",
       "    </tr>\n",
       "  </thead>\n",
       "  <tbody>\n",
       "    <tr>\n",
       "      <th>5017892</th>\n",
       "      <td>0.0</td>\n",
       "      <td>461.0</td>\n",
       "      <td>0.0</td>\n",
       "      <td>1024700.39</td>\n",
       "      <td>1.0</td>\n",
       "      <td>1.000331</td>\n",
       "      <td>15222857.38</td>\n",
       "      <td>0.0</td>\n",
       "      <td>0.0</td>\n",
       "      <td>0.999993</td>\n",
       "      <td>1305.04</td>\n",
       "      <td>1.000331</td>\n",
       "      <td>65926.74</td>\n",
       "      <td>1.0</td>\n",
       "      <td>2.900362</td>\n",
       "      <td>25355.0</td>\n",
       "      <td>1.0</td>\n",
       "      <td>1.0</td>\n",
       "    </tr>\n",
       "    <tr>\n",
       "      <th>5017893</th>\n",
       "      <td>1.0</td>\n",
       "      <td>461.0</td>\n",
       "      <td>0.0</td>\n",
       "      <td>58287.53</td>\n",
       "      <td>1.0</td>\n",
       "      <td>1.000086</td>\n",
       "      <td>2527559.17</td>\n",
       "      <td>0.0</td>\n",
       "      <td>0.0</td>\n",
       "      <td>0.998908</td>\n",
       "      <td>31147.74</td>\n",
       "      <td>1.000086</td>\n",
       "      <td>2445.84</td>\n",
       "      <td>1.0</td>\n",
       "      <td>4.279613</td>\n",
       "      <td>25355.0</td>\n",
       "      <td>1.0</td>\n",
       "      <td>1.0</td>\n",
       "    </tr>\n",
       "    <tr>\n",
       "      <th>5017894</th>\n",
       "      <td>2.0</td>\n",
       "      <td>461.0</td>\n",
       "      <td>0.0</td>\n",
       "      <td>1668314.81</td>\n",
       "      <td>1.0</td>\n",
       "      <td>0.999654</td>\n",
       "      <td>5660244.40</td>\n",
       "      <td>0.0</td>\n",
       "      <td>0.0</td>\n",
       "      <td>0.999602</td>\n",
       "      <td>15313.60</td>\n",
       "      <td>1.000020</td>\n",
       "      <td>766.00</td>\n",
       "      <td>1.0</td>\n",
       "      <td>-6.049871</td>\n",
       "      <td>25355.0</td>\n",
       "      <td>1.0</td>\n",
       "      <td>1.0</td>\n",
       "    </tr>\n",
       "    <tr>\n",
       "      <th>5017895</th>\n",
       "      <td>3.0</td>\n",
       "      <td>461.0</td>\n",
       "      <td>0.0</td>\n",
       "      <td>5008454.96</td>\n",
       "      <td>1.0</td>\n",
       "      <td>1.000001</td>\n",
       "      <td>21148590.29</td>\n",
       "      <td>0.0</td>\n",
       "      <td>0.0</td>\n",
       "      <td>0.999496</td>\n",
       "      <td>69798.69</td>\n",
       "      <td>1.000001</td>\n",
       "      <td>197.83</td>\n",
       "      <td>1.0</td>\n",
       "      <td>-4.360080</td>\n",
       "      <td>25355.0</td>\n",
       "      <td>1.0</td>\n",
       "      <td>1.0</td>\n",
       "    </tr>\n",
       "    <tr>\n",
       "      <th>5017896</th>\n",
       "      <td>4.0</td>\n",
       "      <td>461.0</td>\n",
       "      <td>0.0</td>\n",
       "      <td>294917.61</td>\n",
       "      <td>1.0</td>\n",
       "      <td>0.999731</td>\n",
       "      <td>26028914.38</td>\n",
       "      <td>0.0</td>\n",
       "      <td>0.0</td>\n",
       "      <td>0.999618</td>\n",
       "      <td>19476.60</td>\n",
       "      <td>1.000069</td>\n",
       "      <td>3542.80</td>\n",
       "      <td>1.0</td>\n",
       "      <td>2.360344</td>\n",
       "      <td>25355.0</td>\n",
       "      <td>1.0</td>\n",
       "      <td>1.0</td>\n",
       "    </tr>\n",
       "  </tbody>\n",
       "</table>\n",
       "</div>"
      ],
      "text/plain": [
       "         stock_id  date_id  seconds_in_bucket  imbalance_size  \\\n",
       "5017892       0.0    461.0                0.0      1024700.39   \n",
       "5017893       1.0    461.0                0.0        58287.53   \n",
       "5017894       2.0    461.0                0.0      1668314.81   \n",
       "5017895       3.0    461.0                0.0      5008454.96   \n",
       "5017896       4.0    461.0                0.0       294917.61   \n",
       "\n",
       "         imbalance_buy_sell_flag  reference_price  matched_size  far_price  \\\n",
       "5017892                      1.0         1.000331   15222857.38        0.0   \n",
       "5017893                      1.0         1.000086    2527559.17        0.0   \n",
       "5017894                      1.0         0.999654    5660244.40        0.0   \n",
       "5017895                      1.0         1.000001   21148590.29        0.0   \n",
       "5017896                      1.0         0.999731   26028914.38        0.0   \n",
       "\n",
       "         near_price  bid_price  bid_size  ask_price  ask_size  wap    target  \\\n",
       "5017892         0.0   0.999993   1305.04   1.000331  65926.74  1.0  2.900362   \n",
       "5017893         0.0   0.998908  31147.74   1.000086   2445.84  1.0  4.279613   \n",
       "5017894         0.0   0.999602  15313.60   1.000020    766.00  1.0 -6.049871   \n",
       "5017895         0.0   0.999496  69798.69   1.000001    197.83  1.0 -4.360080   \n",
       "5017896         0.0   0.999618  19476.60   1.000069   3542.80  1.0  2.360344   \n",
       "\n",
       "         time_id  syn_near_price  syn_far_price  \n",
       "5017892  25355.0             1.0            1.0  \n",
       "5017893  25355.0             1.0            1.0  \n",
       "5017894  25355.0             1.0            1.0  \n",
       "5017895  25355.0             1.0            1.0  \n",
       "5017896  25355.0             1.0            1.0  "
      ]
     },
     "execution_count": 15,
     "metadata": {},
     "output_type": "execute_result"
    }
   ],
   "source": [
    "df.head()"
   ]
  },
  {
   "cell_type": "code",
   "execution_count": 17,
   "id": "0fb25afb-5220-4e00-909e-20ba88b1b8b0",
   "metadata": {},
   "outputs": [
    {
     "data": {
      "text/html": [
       "<div>\n",
       "<style scoped>\n",
       "    .dataframe tbody tr th:only-of-type {\n",
       "        vertical-align: middle;\n",
       "    }\n",
       "\n",
       "    .dataframe tbody tr th {\n",
       "        vertical-align: top;\n",
       "    }\n",
       "\n",
       "    .dataframe thead th {\n",
       "        text-align: right;\n",
       "    }\n",
       "</style>\n",
       "<table border=\"1\" class=\"dataframe\">\n",
       "  <thead>\n",
       "    <tr style=\"text-align: right;\">\n",
       "      <th></th>\n",
       "      <th>stock_id</th>\n",
       "      <th>date_id</th>\n",
       "      <th>seconds_in_bucket</th>\n",
       "      <th>imbalance_size</th>\n",
       "      <th>imbalance_buy_sell_flag</th>\n",
       "      <th>reference_price</th>\n",
       "      <th>matched_size</th>\n",
       "      <th>far_price</th>\n",
       "      <th>near_price</th>\n",
       "      <th>bid_price</th>\n",
       "      <th>bid_size</th>\n",
       "      <th>ask_price</th>\n",
       "      <th>ask_size</th>\n",
       "      <th>wap</th>\n",
       "      <th>target</th>\n",
       "      <th>time_id</th>\n",
       "      <th>syn_near_price</th>\n",
       "      <th>syn_far_price</th>\n",
       "    </tr>\n",
       "  </thead>\n",
       "  <tbody>\n",
       "    <tr>\n",
       "      <th>5038893</th>\n",
       "      <td>1.0</td>\n",
       "      <td>462.0</td>\n",
       "      <td>500.0</td>\n",
       "      <td>967601.00</td>\n",
       "      <td>-1.0</td>\n",
       "      <td>0.996414</td>\n",
       "      <td>10882674.73</td>\n",
       "      <td>0.995459</td>\n",
       "      <td>0.995811</td>\n",
       "      <td>0.996313</td>\n",
       "      <td>594.96</td>\n",
       "      <td>0.996614</td>\n",
       "      <td>25591.02</td>\n",
       "      <td>0.996320</td>\n",
       "      <td>0.979900</td>\n",
       "      <td>25460.0</td>\n",
       "      <td>0.0</td>\n",
       "      <td>0.0</td>\n",
       "    </tr>\n",
       "    <tr>\n",
       "      <th>5039093</th>\n",
       "      <td>1.0</td>\n",
       "      <td>462.0</td>\n",
       "      <td>510.0</td>\n",
       "      <td>930576.97</td>\n",
       "      <td>-1.0</td>\n",
       "      <td>0.996213</td>\n",
       "      <td>10899793.36</td>\n",
       "      <td>0.995459</td>\n",
       "      <td>0.995811</td>\n",
       "      <td>0.995961</td>\n",
       "      <td>396.50</td>\n",
       "      <td>0.996464</td>\n",
       "      <td>2975.25</td>\n",
       "      <td>0.996021</td>\n",
       "      <td>10.980368</td>\n",
       "      <td>25461.0</td>\n",
       "      <td>0.0</td>\n",
       "      <td>0.0</td>\n",
       "    </tr>\n",
       "    <tr>\n",
       "      <th>5039293</th>\n",
       "      <td>1.0</td>\n",
       "      <td>462.0</td>\n",
       "      <td>520.0</td>\n",
       "      <td>914652.66</td>\n",
       "      <td>-1.0</td>\n",
       "      <td>0.996012</td>\n",
       "      <td>10915717.68</td>\n",
       "      <td>0.995459</td>\n",
       "      <td>0.995811</td>\n",
       "      <td>0.995911</td>\n",
       "      <td>25176.48</td>\n",
       "      <td>0.996162</td>\n",
       "      <td>21018.74</td>\n",
       "      <td>0.996048</td>\n",
       "      <td>14.410019</td>\n",
       "      <td>25462.0</td>\n",
       "      <td>0.0</td>\n",
       "      <td>0.0</td>\n",
       "    </tr>\n",
       "    <tr>\n",
       "      <th>5039493</th>\n",
       "      <td>1.0</td>\n",
       "      <td>462.0</td>\n",
       "      <td>530.0</td>\n",
       "      <td>941325.89</td>\n",
       "      <td>-1.0</td>\n",
       "      <td>0.996363</td>\n",
       "      <td>10908949.84</td>\n",
       "      <td>0.995459</td>\n",
       "      <td>0.995861</td>\n",
       "      <td>0.995911</td>\n",
       "      <td>16652.16</td>\n",
       "      <td>0.996614</td>\n",
       "      <td>6149.78</td>\n",
       "      <td>0.996425</td>\n",
       "      <td>13.209581</td>\n",
       "      <td>25463.0</td>\n",
       "      <td>0.0</td>\n",
       "      <td>0.0</td>\n",
       "    </tr>\n",
       "    <tr>\n",
       "      <th>5039693</th>\n",
       "      <td>1.0</td>\n",
       "      <td>462.0</td>\n",
       "      <td>540.0</td>\n",
       "      <td>896737.81</td>\n",
       "      <td>-1.0</td>\n",
       "      <td>0.996012</td>\n",
       "      <td>10933632.53</td>\n",
       "      <td>0.995459</td>\n",
       "      <td>0.995861</td>\n",
       "      <td>0.996012</td>\n",
       "      <td>17050.36</td>\n",
       "      <td>0.996564</td>\n",
       "      <td>133701.38</td>\n",
       "      <td>0.996074</td>\n",
       "      <td>17.230510</td>\n",
       "      <td>25464.0</td>\n",
       "      <td>0.0</td>\n",
       "      <td>0.0</td>\n",
       "    </tr>\n",
       "  </tbody>\n",
       "</table>\n",
       "</div>"
      ],
      "text/plain": [
       "         stock_id  date_id  seconds_in_bucket  imbalance_size  \\\n",
       "5038893       1.0    462.0              500.0       967601.00   \n",
       "5039093       1.0    462.0              510.0       930576.97   \n",
       "5039293       1.0    462.0              520.0       914652.66   \n",
       "5039493       1.0    462.0              530.0       941325.89   \n",
       "5039693       1.0    462.0              540.0       896737.81   \n",
       "\n",
       "         imbalance_buy_sell_flag  reference_price  matched_size  far_price  \\\n",
       "5038893                     -1.0         0.996414   10882674.73   0.995459   \n",
       "5039093                     -1.0         0.996213   10899793.36   0.995459   \n",
       "5039293                     -1.0         0.996012   10915717.68   0.995459   \n",
       "5039493                     -1.0         0.996363   10908949.84   0.995459   \n",
       "5039693                     -1.0         0.996012   10933632.53   0.995459   \n",
       "\n",
       "         near_price  bid_price  bid_size  ask_price   ask_size       wap  \\\n",
       "5038893    0.995811   0.996313    594.96   0.996614   25591.02  0.996320   \n",
       "5039093    0.995811   0.995961    396.50   0.996464    2975.25  0.996021   \n",
       "5039293    0.995811   0.995911  25176.48   0.996162   21018.74  0.996048   \n",
       "5039493    0.995861   0.995911  16652.16   0.996614    6149.78  0.996425   \n",
       "5039693    0.995861   0.996012  17050.36   0.996564  133701.38  0.996074   \n",
       "\n",
       "            target  time_id  syn_near_price  syn_far_price  \n",
       "5038893   0.979900  25460.0             0.0            0.0  \n",
       "5039093  10.980368  25461.0             0.0            0.0  \n",
       "5039293  14.410019  25462.0             0.0            0.0  \n",
       "5039493  13.209581  25463.0             0.0            0.0  \n",
       "5039693  17.230510  25464.0             0.0            0.0  "
      ]
     },
     "execution_count": 17,
     "metadata": {},
     "output_type": "execute_result"
    }
   ],
   "source": [
    "#check to see if the correct value is propegating forward\n",
    "df[((df.stock_id==1) & (df.date_id<=462))].tail()\n",
    "# df[((df.stock_id==1) & (df.date_id==423))].head()"
   ]
  },
  {
   "cell_type": "markdown",
   "id": "be867c47-d764-4370-96a6-9c958ef2d06d",
   "metadata": {},
   "source": [
    "## calculate median volumns\n",
    "\n",
    "do this after handling NaNs in far and near price"
   ]
  },
  {
   "cell_type": "code",
   "execution_count": 17,
   "id": "eb004cc1-c740-46ce-8262-40627e2e25d3",
   "metadata": {},
   "outputs": [
    {
     "name": "stdout",
     "output_type": "stream",
     "text": [
      "CPU times: user 840 ms, sys: 20 ms, total: 860 ms\n",
      "Wall time: 859 ms\n"
     ]
    },
    {
     "data": {
      "text/html": [
       "<div>\n",
       "<style scoped>\n",
       "    .dataframe tbody tr th:only-of-type {\n",
       "        vertical-align: middle;\n",
       "    }\n",
       "\n",
       "    .dataframe tbody tr th {\n",
       "        vertical-align: top;\n",
       "    }\n",
       "\n",
       "    .dataframe thead th {\n",
       "        text-align: right;\n",
       "    }\n",
       "</style>\n",
       "<table border=\"1\" class=\"dataframe\">\n",
       "  <thead>\n",
       "    <tr style=\"text-align: right;\">\n",
       "      <th></th>\n",
       "      <th>overall_medvol</th>\n",
       "      <th>first5min_medvol</th>\n",
       "      <th>last5min_medvol</th>\n",
       "    </tr>\n",
       "  </thead>\n",
       "  <tbody>\n",
       "    <tr>\n",
       "      <th>0</th>\n",
       "      <td>42739.16</td>\n",
       "      <td>33806.880</td>\n",
       "      <td>42739.16</td>\n",
       "    </tr>\n",
       "    <tr>\n",
       "      <th>1</th>\n",
       "      <td>25548.50</td>\n",
       "      <td>19033.920</td>\n",
       "      <td>25548.50</td>\n",
       "    </tr>\n",
       "    <tr>\n",
       "      <th>2</th>\n",
       "      <td>26228.10</td>\n",
       "      <td>19536.000</td>\n",
       "      <td>26228.10</td>\n",
       "    </tr>\n",
       "    <tr>\n",
       "      <th>3</th>\n",
       "      <td>41667.00</td>\n",
       "      <td>37667.500</td>\n",
       "      <td>41667.00</td>\n",
       "    </tr>\n",
       "    <tr>\n",
       "      <th>4</th>\n",
       "      <td>34014.58</td>\n",
       "      <td>30904.545</td>\n",
       "      <td>34014.58</td>\n",
       "    </tr>\n",
       "    <tr>\n",
       "      <th>...</th>\n",
       "      <td>...</td>\n",
       "      <td>...</td>\n",
       "      <td>...</td>\n",
       "    </tr>\n",
       "    <tr>\n",
       "      <th>195</th>\n",
       "      <td>51941.55</td>\n",
       "      <td>38331.170</td>\n",
       "      <td>51941.55</td>\n",
       "    </tr>\n",
       "    <tr>\n",
       "      <th>196</th>\n",
       "      <td>42476.95</td>\n",
       "      <td>30245.125</td>\n",
       "      <td>42476.95</td>\n",
       "    </tr>\n",
       "    <tr>\n",
       "      <th>197</th>\n",
       "      <td>30070.04</td>\n",
       "      <td>23667.870</td>\n",
       "      <td>30070.04</td>\n",
       "    </tr>\n",
       "    <tr>\n",
       "      <th>198</th>\n",
       "      <td>304739.25</td>\n",
       "      <td>234244.150</td>\n",
       "      <td>304739.25</td>\n",
       "    </tr>\n",
       "    <tr>\n",
       "      <th>199</th>\n",
       "      <td>114127.10</td>\n",
       "      <td>86858.810</td>\n",
       "      <td>114127.10</td>\n",
       "    </tr>\n",
       "  </tbody>\n",
       "</table>\n",
       "<p>200 rows × 3 columns</p>\n",
       "</div>"
      ],
      "text/plain": [
       "     overall_medvol  first5min_medvol  last5min_medvol\n",
       "0          42739.16         33806.880         42739.16\n",
       "1          25548.50         19033.920         25548.50\n",
       "2          26228.10         19536.000         26228.10\n",
       "3          41667.00         37667.500         41667.00\n",
       "4          34014.58         30904.545         34014.58\n",
       "..              ...               ...              ...\n",
       "195        51941.55         38331.170         51941.55\n",
       "196        42476.95         30245.125         42476.95\n",
       "197        30070.04         23667.870         30070.04\n",
       "198       304739.25        234244.150        304739.25\n",
       "199       114127.10         86858.810        114127.10\n",
       "\n",
       "[200 rows x 3 columns]"
      ]
     },
     "execution_count": 17,
     "metadata": {},
     "output_type": "execute_result"
    }
   ],
   "source": [
    "%%time \n",
    "\n",
    "# Creating an output dataframe for the results:-\n",
    "median_vol = \\\n",
    "pd.DataFrame(columns = ['overall_medvol', \"first5min_medvol\", \"last5min_medvol\"], \n",
    "                          index = range(0, 200,1)\n",
    "            );\n",
    "\n",
    "# Creating the overall median volumes- this is from public work:-\n",
    "median_vol['overall_medvol'] = \\\n",
    "df[['stock_id', \"bid_size\", \"ask_size\"]].\\\n",
    "groupby(\"stock_id\")[[\"bid_size\", \"ask_size\"]].\\\n",
    "median().\\\n",
    "sum(axis=1).\\\n",
    "values.flatten();\n",
    "\n",
    "# Creating median volume with near and far price information:-\n",
    "median_vol['last5min_medvol'] = \\\n",
    "df[['stock_id', \"bid_size\", \"ask_size\", \"far_price\", \"near_price\"]].\\\n",
    "dropna().\\\n",
    "groupby('stock_id')[[\"bid_size\", \"ask_size\"]].\\\n",
    "median().sum(axis=1).values.flatten();\n",
    "\n",
    "# # Creating median volume without near and far price information:-\n",
    "median_vol['first5min_medvol'] = \\\n",
    "df.loc[(df['syn_far_price']==1) | (df['syn_near_price']==1), \n",
    "            ['stock_id', \"bid_size\", \"ask_size\"]\n",
    "           ].\\\n",
    "groupby('stock_id')[[\"bid_size\", \"ask_size\"]].\\\n",
    "median().sum(axis=1).values.flatten();\n",
    "\n",
    "\n",
    "# PrintColor(f\"\\n---> Median stock price information-  sample = 10 rows\\n\");\n",
    "# display(median_vol.sample(10).style.format(formatter = '{:,.2f}'));\n",
    "\n",
    "# Writing the dataframe to a csv file for later usage:-\n",
    "# median_vol.to_csv(f\"MedianVolV{version_nb}.csv\")\n",
    "\n",
    "collect();\n",
    "median_vol"
   ]
  },
  {
   "cell_type": "markdown",
   "id": "86348f53-1167-462d-8fb0-47ceca36f8a4",
   "metadata": {},
   "source": [
    "## Now drop all other NaN rows\n",
    "\n",
    "### TODO is this wise?"
   ]
  },
  {
   "cell_type": "code",
   "execution_count": 18,
   "id": "1e900bbf-c841-4ebd-b571-bcfa20f426e0",
   "metadata": {},
   "outputs": [],
   "source": [
    "df.dropna(inplace=True)"
   ]
  },
  {
   "cell_type": "markdown",
   "id": "880ad6a0-cb94-4aa6-b52a-63383fac6486",
   "metadata": {
    "papermill": {
     "duration": null,
     "end_time": null,
     "exception": null,
     "start_time": null,
     "status": "pending"
    },
    "tags": []
   },
   "source": [
    " # Parallel Triplet Imbalance Calculation"
   ]
  },
  {
   "cell_type": "code",
   "execution_count": 19,
   "id": "51ef64ef-f9d5-4710-860b-1ced13e83292",
   "metadata": {
    "papermill": {
     "duration": null,
     "end_time": null,
     "exception": null,
     "start_time": null,
     "status": "pending"
    },
    "tags": []
   },
   "outputs": [],
   "source": [
    "from numba import njit, prange\n",
    "\n",
    "# @njit(parallel=True)\n",
    "def compute_triplet_imbalance(df_values, comb_indices):\n",
    "    num_rows = df_values.shape[0]\n",
    "    num_combinations = len(comb_indices)\n",
    "    imbalance_features = np.empty((num_rows, num_combinations))\n",
    "    for i in prange(num_combinations):\n",
    "        a, b, c = comb_indices[i]\n",
    "        for j in range(num_rows):\n",
    "            max_val = max(df_values[j, a], df_values[j, b], df_values[j, c])\n",
    "            min_val = min(df_values[j, a], df_values[j, b], df_values[j, c])\n",
    "            mid_val = df_values[j, a] + df_values[j, b] + df_values[j, c] - min_val - max_val\n",
    "            \n",
    "            if mid_val == min_val:\n",
    "                imbalance_features[j, i] = 0  #TODO changed from np.NaN to 0\n",
    "                # print(f\"ERROR max_val-min_val={max_val-min_val} mid_val={mid_val}\")\n",
    "            else:\n",
    "                imbalance_features[j, i] = (max_val - mid_val) / (mid_val - min_val)\n",
    "\n",
    "    return imbalance_features\n",
    "\n",
    "def calculate_triplet_imbalance_numba(price, df):\n",
    "    df_values = df[price].values\n",
    "    comb_indices = [(price.index(a), price.index(b), price.index(c)) for a, b, c in combinations(price, 3)]\n",
    "    features_array = compute_triplet_imbalance(df_values, comb_indices)\n",
    "    columns = [f\"{a}_{b}_{c}_imb2\" for a, b, c in combinations(price, 3)]\n",
    "    features = pd.DataFrame(features_array, columns=columns)\n",
    "    return features\n"
   ]
  },
  {
   "cell_type": "code",
   "execution_count": 20,
   "id": "abc1d42b-1bc5-460f-9eeb-41848ba5b6e9",
   "metadata": {},
   "outputs": [
    {
     "name": "stdout",
     "output_type": "stream",
     "text": [
      "CPU times: user 59 s, sys: 28 ms, total: 59 s\n",
      "Wall time: 59 s\n"
     ]
    },
    {
     "data": {
      "text/html": [
       "<div>\n",
       "<style scoped>\n",
       "    .dataframe tbody tr th:only-of-type {\n",
       "        vertical-align: middle;\n",
       "    }\n",
       "\n",
       "    .dataframe tbody tr th {\n",
       "        vertical-align: top;\n",
       "    }\n",
       "\n",
       "    .dataframe thead th {\n",
       "        text-align: right;\n",
       "    }\n",
       "</style>\n",
       "<table border=\"1\" class=\"dataframe\">\n",
       "  <thead>\n",
       "    <tr style=\"text-align: right;\">\n",
       "      <th></th>\n",
       "      <th>stock_id</th>\n",
       "      <th>date_id</th>\n",
       "      <th>seconds_in_bucket</th>\n",
       "      <th>imbalance_size</th>\n",
       "      <th>imbalance_buy_sell_flag</th>\n",
       "      <th>reference_price</th>\n",
       "      <th>matched_size</th>\n",
       "      <th>far_price</th>\n",
       "      <th>near_price</th>\n",
       "      <th>bid_price</th>\n",
       "      <th>...</th>\n",
       "      <th>syn_near_price</th>\n",
       "      <th>syn_far_price</th>\n",
       "      <th>ask_price_bid_price_wap_imb2</th>\n",
       "      <th>ask_price_bid_price_reference_price_imb2</th>\n",
       "      <th>ask_price_wap_reference_price_imb2</th>\n",
       "      <th>bid_price_wap_reference_price_imb2</th>\n",
       "      <th>matched_size_bid_size_ask_size_imb2</th>\n",
       "      <th>matched_size_bid_size_imbalance_size_imb2</th>\n",
       "      <th>matched_size_ask_size_imbalance_size_imb2</th>\n",
       "      <th>bid_size_ask_size_imbalance_size_imb2</th>\n",
       "    </tr>\n",
       "  </thead>\n",
       "  <tbody>\n",
       "    <tr>\n",
       "      <th>0</th>\n",
       "      <td>0.0</td>\n",
       "      <td>0.0</td>\n",
       "      <td>0.0</td>\n",
       "      <td>3180602.69</td>\n",
       "      <td>1.0</td>\n",
       "      <td>0.999812</td>\n",
       "      <td>13380276.64</td>\n",
       "      <td>0.0</td>\n",
       "      <td>0.0</td>\n",
       "      <td>0.999812</td>\n",
       "      <td>...</td>\n",
       "      <td>1.0</td>\n",
       "      <td>1.0</td>\n",
       "      <td>0.138298</td>\n",
       "      <td>-1.927541e+12</td>\n",
       "      <td>0.138298</td>\n",
       "      <td>-1.693353e+12</td>\n",
       "      <td>255.368402</td>\n",
       "      <td>3.269177</td>\n",
       "      <td>3.215423</td>\n",
       "      <td>59.816770</td>\n",
       "    </tr>\n",
       "    <tr>\n",
       "      <th>1</th>\n",
       "      <td>1.0</td>\n",
       "      <td>0.0</td>\n",
       "      <td>0.0</td>\n",
       "      <td>166603.91</td>\n",
       "      <td>-1.0</td>\n",
       "      <td>0.999896</td>\n",
       "      <td>1642214.25</td>\n",
       "      <td>0.0</td>\n",
       "      <td>0.0</td>\n",
       "      <td>0.999896</td>\n",
       "      <td>...</td>\n",
       "      <td>1.0</td>\n",
       "      <td>1.0</td>\n",
       "      <td>6.346154</td>\n",
       "      <td>-6.881500e+12</td>\n",
       "      <td>6.346154</td>\n",
       "      <td>9.367487e+11</td>\n",
       "      <td>93.345872</td>\n",
       "      <td>9.032273</td>\n",
       "      <td>10.107002</td>\n",
       "      <td>8.404237</td>\n",
       "    </tr>\n",
       "    <tr>\n",
       "      <th>2</th>\n",
       "      <td>2.0</td>\n",
       "      <td>0.0</td>\n",
       "      <td>0.0</td>\n",
       "      <td>302879.87</td>\n",
       "      <td>-1.0</td>\n",
       "      <td>0.999561</td>\n",
       "      <td>1819368.03</td>\n",
       "      <td>0.0</td>\n",
       "      <td>0.0</td>\n",
       "      <td>0.999403</td>\n",
       "      <td>...</td>\n",
       "      <td>1.0</td>\n",
       "      <td>1.0</td>\n",
       "      <td>0.499162</td>\n",
       "      <td>4.664557e+00</td>\n",
       "      <td>0.678815</td>\n",
       "      <td>2.778481e+00</td>\n",
       "      <td>93.951375</td>\n",
       "      <td>5.724241</td>\n",
       "      <td>5.341913</td>\n",
       "      <td>13.972041</td>\n",
       "    </tr>\n",
       "    <tr>\n",
       "      <th>3</th>\n",
       "      <td>3.0</td>\n",
       "      <td>0.0</td>\n",
       "      <td>0.0</td>\n",
       "      <td>11917682.27</td>\n",
       "      <td>-1.0</td>\n",
       "      <td>1.000171</td>\n",
       "      <td>18389745.62</td>\n",
       "      <td>0.0</td>\n",
       "      <td>0.0</td>\n",
       "      <td>0.999999</td>\n",
       "      <td>...</td>\n",
       "      <td>1.0</td>\n",
       "      <td>1.0</td>\n",
       "      <td>214.000000</td>\n",
       "      <td>2.500000e-01</td>\n",
       "      <td>0.251462</td>\n",
       "      <td>1.710000e+02</td>\n",
       "      <td>37.571704</td>\n",
       "      <td>0.543170</td>\n",
       "      <td>0.565807</td>\n",
       "      <td>23.995112</td>\n",
       "    </tr>\n",
       "    <tr>\n",
       "      <th>4</th>\n",
       "      <td>4.0</td>\n",
       "      <td>0.0</td>\n",
       "      <td>0.0</td>\n",
       "      <td>447549.96</td>\n",
       "      <td>-1.0</td>\n",
       "      <td>0.999532</td>\n",
       "      <td>17860614.95</td>\n",
       "      <td>0.0</td>\n",
       "      <td>0.0</td>\n",
       "      <td>0.999394</td>\n",
       "      <td>...</td>\n",
       "      <td>1.0</td>\n",
       "      <td>1.0</td>\n",
       "      <td>0.026403</td>\n",
       "      <td>3.507246e+00</td>\n",
       "      <td>0.034188</td>\n",
       "      <td>3.391304e+00</td>\n",
       "      <td>1111.684024</td>\n",
       "      <td>40.395505</td>\n",
       "      <td>38.945308</td>\n",
       "      <td>26.855187</td>\n",
       "    </tr>\n",
       "  </tbody>\n",
       "</table>\n",
       "<p>5 rows × 26 columns</p>\n",
       "</div>"
      ],
      "text/plain": [
       "   stock_id  date_id  seconds_in_bucket  imbalance_size  \\\n",
       "0       0.0      0.0                0.0      3180602.69   \n",
       "1       1.0      0.0                0.0       166603.91   \n",
       "2       2.0      0.0                0.0       302879.87   \n",
       "3       3.0      0.0                0.0     11917682.27   \n",
       "4       4.0      0.0                0.0       447549.96   \n",
       "\n",
       "   imbalance_buy_sell_flag  reference_price  matched_size  far_price  \\\n",
       "0                      1.0         0.999812   13380276.64        0.0   \n",
       "1                     -1.0         0.999896    1642214.25        0.0   \n",
       "2                     -1.0         0.999561    1819368.03        0.0   \n",
       "3                     -1.0         1.000171   18389745.62        0.0   \n",
       "4                     -1.0         0.999532   17860614.95        0.0   \n",
       "\n",
       "   near_price  bid_price  ...  syn_near_price  syn_far_price  \\\n",
       "0         0.0   0.999812  ...             1.0            1.0   \n",
       "1         0.0   0.999896  ...             1.0            1.0   \n",
       "2         0.0   0.999403  ...             1.0            1.0   \n",
       "3         0.0   0.999999  ...             1.0            1.0   \n",
       "4         0.0   0.999394  ...             1.0            1.0   \n",
       "\n",
       "   ask_price_bid_price_wap_imb2  ask_price_bid_price_reference_price_imb2  \\\n",
       "0                      0.138298                             -1.927541e+12   \n",
       "1                      6.346154                             -6.881500e+12   \n",
       "2                      0.499162                              4.664557e+00   \n",
       "3                    214.000000                              2.500000e-01   \n",
       "4                      0.026403                              3.507246e+00   \n",
       "\n",
       "   ask_price_wap_reference_price_imb2  bid_price_wap_reference_price_imb2  \\\n",
       "0                            0.138298                       -1.693353e+12   \n",
       "1                            6.346154                        9.367487e+11   \n",
       "2                            0.678815                        2.778481e+00   \n",
       "3                            0.251462                        1.710000e+02   \n",
       "4                            0.034188                        3.391304e+00   \n",
       "\n",
       "   matched_size_bid_size_ask_size_imb2  \\\n",
       "0                           255.368402   \n",
       "1                            93.345872   \n",
       "2                            93.951375   \n",
       "3                            37.571704   \n",
       "4                          1111.684024   \n",
       "\n",
       "   matched_size_bid_size_imbalance_size_imb2  \\\n",
       "0                                   3.269177   \n",
       "1                                   9.032273   \n",
       "2                                   5.724241   \n",
       "3                                   0.543170   \n",
       "4                                  40.395505   \n",
       "\n",
       "   matched_size_ask_size_imbalance_size_imb2  \\\n",
       "0                                   3.215423   \n",
       "1                                  10.107002   \n",
       "2                                   5.341913   \n",
       "3                                   0.565807   \n",
       "4                                  38.945308   \n",
       "\n",
       "   bid_size_ask_size_imbalance_size_imb2  \n",
       "0                              59.816770  \n",
       "1                               8.404237  \n",
       "2                              13.972041  \n",
       "3                              23.995112  \n",
       "4                              26.855187  \n",
       "\n",
       "[5 rows x 26 columns]"
      ]
     },
     "execution_count": 20,
     "metadata": {},
     "output_type": "execute_result"
    }
   ],
   "source": [
    "%%time\n",
    "#TODO take out\n",
    "sizes = [\"matched_size\", \"bid_size\", \"ask_size\", \"imbalance_size\"]\n",
    "for c in [['ask_price', 'bid_price', 'wap', 'reference_price'], sizes]:\n",
    "    triplet_feature = calculate_triplet_imbalance_numba(c, df)\n",
    "    df[triplet_feature.columns] = triplet_feature.values\n",
    "df.head()"
   ]
  },
  {
   "cell_type": "code",
   "execution_count": 21,
   "id": "cf3fc788-7c4e-4f73-ac5f-507708464841",
   "metadata": {},
   "outputs": [
    {
     "data": {
      "text/plain": [
       "stock_id                                     0\n",
       "date_id                                      0\n",
       "seconds_in_bucket                            0\n",
       "imbalance_size                               0\n",
       "imbalance_buy_sell_flag                      0\n",
       "reference_price                              0\n",
       "matched_size                                 0\n",
       "far_price                                    0\n",
       "near_price                                   0\n",
       "bid_price                                    0\n",
       "bid_size                                     0\n",
       "ask_price                                    0\n",
       "ask_size                                     0\n",
       "wap                                          0\n",
       "target                                       0\n",
       "time_id                                      0\n",
       "syn_near_price                               0\n",
       "syn_far_price                                0\n",
       "ask_price_bid_price_wap_imb2                 0\n",
       "ask_price_bid_price_reference_price_imb2     0\n",
       "ask_price_wap_reference_price_imb2           0\n",
       "bid_price_wap_reference_price_imb2           0\n",
       "matched_size_bid_size_ask_size_imb2          0\n",
       "matched_size_bid_size_imbalance_size_imb2    0\n",
       "matched_size_ask_size_imbalance_size_imb2    0\n",
       "bid_size_ask_size_imbalance_size_imb2        0\n",
       "dtype: int64"
      ]
     },
     "execution_count": 21,
     "metadata": {},
     "output_type": "execute_result"
    }
   ],
   "source": [
    "df.isnull().sum()"
   ]
  },
  {
   "cell_type": "code",
   "execution_count": 23,
   "id": "6376c018-242d-4373-ac1f-b19ec6a73c3d",
   "metadata": {},
   "outputs": [
    {
     "data": {
      "text/plain": [
       "['ask_price_bid_price_wap_imb2',\n",
       " 'ask_price_bid_price_reference_price_imb2',\n",
       " 'ask_price_wap_reference_price_imb2',\n",
       " 'bid_price_wap_reference_price_imb2',\n",
       " 'matched_size_bid_size_ask_size_imb2',\n",
       " 'matched_size_bid_size_imbalance_size_imb2',\n",
       " 'matched_size_ask_size_imbalance_size_imb2',\n",
       " 'bid_size_ask_size_imbalance_size_imb2']"
      ]
     },
     "execution_count": 23,
     "metadata": {},
     "output_type": "execute_result"
    }
   ],
   "source": [
    "# [col for col in df1.columns if col not in df.columns]"
   ]
  },
  {
   "cell_type": "markdown",
   "id": "6eb34be1-04fd-4c55-907b-59f731fc5e3b",
   "metadata": {},
   "source": [
    "# Save and Reload"
   ]
  },
  {
   "cell_type": "code",
   "execution_count": 27,
   "id": "6ddf551a-1529-4d13-8c4c-792257a48c13",
   "metadata": {},
   "outputs": [
    {
     "name": "stdout",
     "output_type": "stream",
     "text": [
      "CPU times: user 367 ms, sys: 127 ms, total: 494 ms\n",
      "Wall time: 132 ms\n"
     ]
    },
    {
     "data": {
      "text/plain": [
       "(659945, 18)"
      ]
     },
     "execution_count": 27,
     "metadata": {},
     "output_type": "execute_result"
    }
   ],
   "source": [
    "# %%time\n",
    "# # !pip install pyarrow\n",
    "\n",
    "# df.to_feather(\"./tmp.feather\")\n",
    "# df = pd.read_feather(\"./tmp.feather\")\n",
    "# df.shape"
   ]
  },
  {
   "cell_type": "code",
   "execution_count": 22,
   "id": "0cfc50c5-d1da-4f4b-b45a-752f97441d57",
   "metadata": {},
   "outputs": [
    {
     "name": "stdout",
     "output_type": "stream",
     "text": [
      "CPU times: user 5.43 s, sys: 1.08 s, total: 6.5 s\n",
      "Wall time: 4.08 s\n"
     ]
    },
    {
     "data": {
      "text/plain": [
       "(5237760, 26)"
      ]
     },
     "execution_count": 22,
     "metadata": {},
     "output_type": "execute_result"
    }
   ],
   "source": [
    "%%time\n",
    "df.to_parquet(\"./tmp.parquet\")\n",
    "df.shape"
   ]
  },
  {
   "cell_type": "code",
   "execution_count": 30,
   "id": "75e46580-3db9-4655-8486-01f1f91a0d2d",
   "metadata": {},
   "outputs": [
    {
     "data": {
      "text/html": [
       "<div>\n",
       "<style scoped>\n",
       "    .dataframe tbody tr th:only-of-type {\n",
       "        vertical-align: middle;\n",
       "    }\n",
       "\n",
       "    .dataframe tbody tr th {\n",
       "        vertical-align: top;\n",
       "    }\n",
       "\n",
       "    .dataframe thead th {\n",
       "        text-align: right;\n",
       "    }\n",
       "</style>\n",
       "<table border=\"1\" class=\"dataframe\">\n",
       "  <thead>\n",
       "    <tr style=\"text-align: right;\">\n",
       "      <th></th>\n",
       "      <th>stock_id</th>\n",
       "      <th>date_id</th>\n",
       "      <th>seconds_in_bucket</th>\n",
       "      <th>imbalance_size</th>\n",
       "      <th>imbalance_buy_sell_flag</th>\n",
       "      <th>reference_price</th>\n",
       "      <th>matched_size</th>\n",
       "      <th>far_price</th>\n",
       "      <th>near_price</th>\n",
       "      <th>bid_price</th>\n",
       "      <th>bid_size</th>\n",
       "      <th>ask_price</th>\n",
       "      <th>ask_size</th>\n",
       "      <th>wap</th>\n",
       "      <th>target</th>\n",
       "      <th>time_id</th>\n",
       "      <th>syn_near_price</th>\n",
       "      <th>syn_far_price</th>\n",
       "    </tr>\n",
       "  </thead>\n",
       "  <tbody>\n",
       "    <tr>\n",
       "      <th>4577893</th>\n",
       "      <td>0.0</td>\n",
       "      <td>421.0</td>\n",
       "      <td>0.0</td>\n",
       "      <td>11508786.23</td>\n",
       "      <td>1.0</td>\n",
       "      <td>0.999406</td>\n",
       "      <td>11354174.28</td>\n",
       "      <td>0.0</td>\n",
       "      <td>0.0</td>\n",
       "      <td>0.999406</td>\n",
       "      <td>16812.80</td>\n",
       "      <td>1.000928</td>\n",
       "      <td>26310.00</td>\n",
       "      <td>1.0</td>\n",
       "      <td>2.779961</td>\n",
       "      <td>23155.0</td>\n",
       "      <td>1.0</td>\n",
       "      <td>1.0</td>\n",
       "    </tr>\n",
       "    <tr>\n",
       "      <th>4577894</th>\n",
       "      <td>1.0</td>\n",
       "      <td>421.0</td>\n",
       "      <td>0.0</td>\n",
       "      <td>1560633.58</td>\n",
       "      <td>1.0</td>\n",
       "      <td>1.000226</td>\n",
       "      <td>1684216.01</td>\n",
       "      <td>0.0</td>\n",
       "      <td>0.0</td>\n",
       "      <td>0.999671</td>\n",
       "      <td>18009.00</td>\n",
       "      <td>1.000448</td>\n",
       "      <td>24511.28</td>\n",
       "      <td>1.0</td>\n",
       "      <td>-10.269880</td>\n",
       "      <td>23155.0</td>\n",
       "      <td>1.0</td>\n",
       "      <td>1.0</td>\n",
       "    </tr>\n",
       "    <tr>\n",
       "      <th>4577895</th>\n",
       "      <td>2.0</td>\n",
       "      <td>421.0</td>\n",
       "      <td>0.0</td>\n",
       "      <td>3973070.39</td>\n",
       "      <td>1.0</td>\n",
       "      <td>0.999404</td>\n",
       "      <td>2120668.58</td>\n",
       "      <td>0.0</td>\n",
       "      <td>0.0</td>\n",
       "      <td>0.999130</td>\n",
       "      <td>21934.00</td>\n",
       "      <td>1.000087</td>\n",
       "      <td>2195.50</td>\n",
       "      <td>1.0</td>\n",
       "      <td>-5.890131</td>\n",
       "      <td>23155.0</td>\n",
       "      <td>1.0</td>\n",
       "      <td>1.0</td>\n",
       "    </tr>\n",
       "    <tr>\n",
       "      <th>4577896</th>\n",
       "      <td>3.0</td>\n",
       "      <td>421.0</td>\n",
       "      <td>0.0</td>\n",
       "      <td>11069456.82</td>\n",
       "      <td>1.0</td>\n",
       "      <td>0.999932</td>\n",
       "      <td>28784163.91</td>\n",
       "      <td>0.0</td>\n",
       "      <td>0.0</td>\n",
       "      <td>0.999984</td>\n",
       "      <td>9511.00</td>\n",
       "      <td>1.000300</td>\n",
       "      <td>180766.00</td>\n",
       "      <td>1.0</td>\n",
       "      <td>0.380278</td>\n",
       "      <td>23155.0</td>\n",
       "      <td>1.0</td>\n",
       "      <td>1.0</td>\n",
       "    </tr>\n",
       "    <tr>\n",
       "      <th>4577897</th>\n",
       "      <td>4.0</td>\n",
       "      <td>421.0</td>\n",
       "      <td>0.0</td>\n",
       "      <td>1285848.68</td>\n",
       "      <td>1.0</td>\n",
       "      <td>1.000511</td>\n",
       "      <td>11829546.90</td>\n",
       "      <td>0.0</td>\n",
       "      <td>0.0</td>\n",
       "      <td>0.999959</td>\n",
       "      <td>652.44</td>\n",
       "      <td>1.000572</td>\n",
       "      <td>9139.76</td>\n",
       "      <td>1.0</td>\n",
       "      <td>7.640123</td>\n",
       "      <td>23155.0</td>\n",
       "      <td>1.0</td>\n",
       "      <td>1.0</td>\n",
       "    </tr>\n",
       "  </tbody>\n",
       "</table>\n",
       "</div>"
      ],
      "text/plain": [
       "         stock_id  date_id  seconds_in_bucket  imbalance_size  \\\n",
       "4577893       0.0    421.0                0.0     11508786.23   \n",
       "4577894       1.0    421.0                0.0      1560633.58   \n",
       "4577895       2.0    421.0                0.0      3973070.39   \n",
       "4577896       3.0    421.0                0.0     11069456.82   \n",
       "4577897       4.0    421.0                0.0      1285848.68   \n",
       "\n",
       "         imbalance_buy_sell_flag  reference_price  matched_size  far_price  \\\n",
       "4577893                      1.0         0.999406   11354174.28        0.0   \n",
       "4577894                      1.0         1.000226    1684216.01        0.0   \n",
       "4577895                      1.0         0.999404    2120668.58        0.0   \n",
       "4577896                      1.0         0.999932   28784163.91        0.0   \n",
       "4577897                      1.0         1.000511   11829546.90        0.0   \n",
       "\n",
       "         near_price  bid_price  bid_size  ask_price   ask_size  wap  \\\n",
       "4577893         0.0   0.999406  16812.80   1.000928   26310.00  1.0   \n",
       "4577894         0.0   0.999671  18009.00   1.000448   24511.28  1.0   \n",
       "4577895         0.0   0.999130  21934.00   1.000087    2195.50  1.0   \n",
       "4577896         0.0   0.999984   9511.00   1.000300  180766.00  1.0   \n",
       "4577897         0.0   0.999959    652.44   1.000572    9139.76  1.0   \n",
       "\n",
       "            target  time_id  syn_near_price  syn_far_price  \n",
       "4577893   2.779961  23155.0             1.0            1.0  \n",
       "4577894 -10.269880  23155.0             1.0            1.0  \n",
       "4577895  -5.890131  23155.0             1.0            1.0  \n",
       "4577896   0.380278  23155.0             1.0            1.0  \n",
       "4577897   7.640123  23155.0             1.0            1.0  "
      ]
     },
     "execution_count": 30,
     "metadata": {},
     "output_type": "execute_result"
    }
   ],
   "source": [
    "df.head()"
   ]
  },
  {
   "cell_type": "markdown",
   "id": "bd6a3421-487c-48f0-8df8-4d3a56916885",
   "metadata": {
    "papermill": {
     "duration": null,
     "end_time": null,
     "exception": null,
     "start_time": null,
     "status": "pending"
    },
    "tags": []
   },
   "source": [
    "# Feature Generation Functions "
   ]
  },
  {
   "cell_type": "code",
   "execution_count": 139,
   "id": "9166f9fd-197e-41be-93af-b2483e3da1df",
   "metadata": {},
   "outputs": [
    {
     "data": {
      "text/plain": [
       "Index(['stock_id', 'date_id', 'seconds_in_bucket', 'imbalance_size',\n",
       "       'imbalance_buy_sell_flag', 'reference_price', 'matched_size',\n",
       "       'far_price', 'near_price', 'bid_price', 'bid_size', 'ask_price',\n",
       "       'ask_size', 'wap', 'target', 'time_id', 'syn_near_price',\n",
       "       'syn_far_price', 'ask_price_bid_price_wap_imb2',\n",
       "       'ask_price_bid_price_reference_price_imb2',\n",
       "       'ask_price_wap_reference_price_imb2',\n",
       "       'bid_price_wap_reference_price_imb2',\n",
       "       'matched_size_bid_size_ask_size_imb2',\n",
       "       'matched_size_bid_size_imbalance_size_imb2',\n",
       "       'matched_size_ask_size_imbalance_size_imb2',\n",
       "       'bid_size_ask_size_imbalance_size_imb2'],\n",
       "      dtype='object')"
      ]
     },
     "execution_count": 139,
     "metadata": {},
     "output_type": "execute_result"
    }
   ],
   "source": [
    "df=pd.read_parquet(\"./tmp.parquet\")\n",
    "df.columns"
   ]
  },
  {
   "cell_type": "code",
   "execution_count": 23,
   "id": "68d7d601-f604-4470-8493-5c669d24dc67",
   "metadata": {
    "papermill": {
     "duration": null,
     "end_time": null,
     "exception": null,
     "start_time": null,
     "status": "pending"
    },
    "tags": []
   },
   "outputs": [],
   "source": [
    "def imbalance_features(df):\n",
    "    # Define lists of price and size-related column names\n",
    "    prices = [\"reference_price\", \"far_price\", \"near_price\", \"ask_price\", \"bid_price\", \"wap\"]\n",
    "    sizes = [\"matched_size\", \"bid_size\", \"ask_size\", \"imbalance_size\"]\n",
    "    df[\"volume\"] = df.eval(\"ask_size + bid_size\")\n",
    "    df[\"mid_price\"] = df.eval(\"(ask_price + bid_price) / 2\")\n",
    "    df[\"liquidity_imbalance\"] = df.eval(\"(bid_size-ask_size)/(bid_size+ask_size)\")\n",
    "    df[\"matched_imbalance\"] = df.eval(\"(imbalance_size-matched_size)/(matched_size+imbalance_size)\")\n",
    "    df[\"size_imbalance\"] = df.eval(\"bid_size / ask_size\")\n",
    "\n",
    "    for c in combinations(prices, 2):\n",
    "        df[f\"{c[0]}_{c[1]}_imb\"] = df.eval(f\"({c[0]} - {c[1]})/({c[0]} + {c[1]})\")\n",
    "        df[f\"{c[0]}_{c[1]}_imb\"].fillna(0,inplace=True)  #if both are 0 then imbalance is 0\n",
    "        \n",
    "\n",
    "    # for c in [['ask_price', 'bid_price', 'wap', 'reference_price'], sizes]:\n",
    "    #     triplet_feature = calculate_triplet_imbalance_numba(c, df)\n",
    "    #     df[triplet_feature.columns] = triplet_feature.values\n",
    "   \n",
    "    df[\"imbalance_momentum\"] = df.groupby(['stock_id'])['imbalance_size'].diff(periods=1) / df['matched_size']\n",
    "    df[\"price_spread\"] = df[\"ask_price\"] - df[\"bid_price\"]\n",
    "    df[\"spread_intensity\"] = df.groupby(['stock_id'])['price_spread'].diff()\n",
    "    df['price_pressure'] = df['imbalance_size'] * (df['ask_price'] - df['bid_price'])\n",
    "    df['market_urgency'] = df['price_spread'] * df['liquidity_imbalance']\n",
    "    df['depth_pressure'] = (df['ask_size'] - df['bid_size']) * (df['far_price'] - df['near_price'])\n",
    "    \n",
    "    # Calculate various statistical aggregation features\n",
    "    for func in [\"mean\", \"std\", \"skew\", \"kurt\"]:\n",
    "        df[f\"all_prices_{func}\"] = df[prices].agg(func, axis=1)\n",
    "        df[f\"all_sizes_{func}\"] = df[sizes].agg(func, axis=1)\n",
    "        \n",
    "\n",
    "    for col in ['matched_size', 'imbalance_size', 'reference_price', 'imbalance_buy_sell_flag']:\n",
    "        for window in [1, 2, 3, 6]:\n",
    "            df[f\"{col}_shift_{window}\"] = df.groupby('stock_id')[col].shift(window)\n",
    "            df[f\"{col}_shift_{window}\"].fillna(0,inplace=True)\n",
    "            df[f\"{col}_ret_{window}\"] = df.groupby('stock_id')[col].pct_change(window)\n",
    "            df[f\"{col}_ret_{window}\"].fillna(0,inplace=True)\n",
    "            \n",
    "    # # Calculate diff features for specific columns\n",
    "    # for col in ['ask_price', 'bid_price', 'ask_size', 'bid_size', 'market_urgency', 'imbalance_momentum', 'size_imbalance']:\n",
    "    #     for window in [1, 2, 3, 10]:\n",
    "    #         df[f\"{col}_diff_{window}\"] = df.groupby(\"stock_id\")[col].diff(window)\n",
    "\n",
    "    return df.replace([np.inf, -np.inf], 0)\n",
    "\n",
    "def other_features(df):\n",
    "    df[\"dow\"] = df[\"date_id\"] % 5  # Day of the week\n",
    "    # df[\"seconds\"] = df[\"seconds_in_bucket\"] % 60  \n",
    "    # df[\"minute\"] = df[\"seconds_in_bucket\"] // 60  \n",
    "    # for key, value in global_stock_id_feats.items():\n",
    "    #     df[f\"global_{key}\"] = df[\"stock_id\"].map(value.to_dict())\n",
    "\n",
    "    return df\n",
    "\n",
    "def generate_all_features(df):\n",
    "    # Select relevant columns for feature generation\n",
    "    cols = [c for c in df.columns if c not in [\"row_id\", \"time_id\"]]\n",
    "    df = df[cols]\n",
    "    \n",
    "    # Generate imbalance features\n",
    "    df = imbalance_features(df)\n",
    "    df = other_features(df)\n",
    "    gc.collect()  \n",
    "    feature_name = [i for i in df.columns if i not in [\"row_id\", \"time_id\"]]\n",
    "    \n",
    "    return df[feature_name]\n"
   ]
  },
  {
   "cell_type": "code",
   "execution_count": 24,
   "id": "3b46d50c-9431-4db3-aaef-f4e7427b6ff1",
   "metadata": {},
   "outputs": [],
   "source": [
    "%%time\n",
    "df = generate_all_features(df)"
   ]
  },
  {
   "cell_type": "code",
   "execution_count": 48,
   "id": "7092a92e-efbe-4002-b084-f95af7ac3510",
   "metadata": {},
   "outputs": [],
   "source": [
    "df1=df.iloc[1200:,:]\n",
    "df1.fillna(0,inplace=True)"
   ]
  },
  {
   "cell_type": "code",
   "execution_count": 52,
   "id": "ac3955e8-4211-4e7b-b320-ed813a7227b3",
   "metadata": {},
   "outputs": [
    {
     "name": "stdout",
     "output_type": "stream",
     "text": [
      "CPU times: user 18.3 s, sys: 7.46 s, total: 25.8 s\n",
      "Wall time: 16.2 s\n"
     ]
    }
   ],
   "source": [
    "%%time\n",
    "df1.to_parquet(\"./tmpall.parquet\")\n",
    "df=pd.read_parquet(\"./tmpall.parquet\")"
   ]
  },
  {
   "cell_type": "code",
   "execution_count": 81,
   "id": "6a10204e-7a8b-4444-b7fa-8a9bf9933264",
   "metadata": {},
   "outputs": [],
   "source": [
    "df=pd.read_parquet(\"./tmpall.parquet\")"
   ]
  },
  {
   "cell_type": "code",
   "execution_count": 82,
   "id": "911759ba-6bb4-49b7-931d-b3089efffc1a",
   "metadata": {},
   "outputs": [],
   "source": [
    "# remove syn generated near_price and far price rows\n",
    "df=df[df.syn_near_price==0]\n",
    "bs.remove_syn_columns(df)"
   ]
  },
  {
   "cell_type": "code",
   "execution_count": null,
   "id": "35a18a47-361a-4fbf-9b94-e07e5328823d",
   "metadata": {},
   "outputs": [],
   "source": [
    "# df1.isna().sum().sum()\n",
    "\n",
    "# ds=df.iloc[1200:,:].isnull().sum()\n",
    "# ds[ds>0]\n",
    "\n",
    "# # df[df.imbalance_momentum.isnull()]\n",
    "# df.groupby(['stock_id'])['imbalance_size'].diff(periods=1) / df['matched_size']\n",
    "\n",
    "# len(df.columns)\n",
    "\n",
    "# ds=df.iloc[1200:,:].isnull().sum()\n",
    "# ds[ds>0]\n",
    "\n",
    "# # df_train.isnull().sum()\n",
    "\n",
    "# df[df.imbalance_momentum.isnull()].matched_size\n",
    "\n",
    "# df.groupby(['stock_id'])['imbalance_size'].diff(periods=1)"
   ]
  },
  {
   "cell_type": "markdown",
   "id": "f2029832-ab09-4a5e-ad39-55a491f14b75",
   "metadata": {
    "papermill": {
     "duration": null,
     "end_time": null,
     "exception": null,
     "start_time": null,
     "status": "pending"
    },
    "tags": []
   },
   "source": [
    "# Data Splitting"
   ]
  },
  {
   "cell_type": "code",
   "execution_count": 83,
   "id": "61f7cdcf-6053-404c-97fa-44c17a362847",
   "metadata": {},
   "outputs": [],
   "source": [
    "import numpy as np\n",
    "\n",
    "def getsplits( numdays,min_date=0, val_size=0.1,test_size=0.2):\n",
    "    '''\n",
    "    ex \n",
    "    getsplits( 31,0, val_sze=0.1,tst_sze=0.2)\n",
    "    (20.0, 24.0)\n",
    "    train goes from 0 to 19, \n",
    "    val from 20-23\n",
    "    test from 24-31\n",
    "    getsplits( 31,100, val_sze=0.1,tst_sze=0.2)\n",
    "    (120.0, 124.0)\n",
    "    '''\n",
    "    test_start=np.floor(numdays*(1-test_size))\n",
    "    val_start=np.floor((test_start-1)*(1-val_size))\n",
    "    return val_start+min_date, test_start+min_date"
   ]
  },
  {
   "cell_type": "code",
   "execution_count": 84,
   "id": "4dc2761c-d63a-4f6c-b658-425e275cc7e2",
   "metadata": {},
   "outputs": [],
   "source": [
    "def getDatasets(X, dep_var='target', val_size=0.1, test_size=0.2):\n",
    "    '''\n",
    "    ensures datasets do not split accross a day\n",
    "    '''\n",
    "    #get the day splits?\n",
    "    val_start,tst_start=getsplits( df.date_id.nunique(),df.date_id.min(),val_size,test_size)\n",
    "    print(f'min_date={df.date_id.min()},max_date={df.date_id.max()}, val_start={val_start}, tst_start={tst_start}')\n",
    "\n",
    "    #get all sets\n",
    "    X_tst=X[X.eval(f\"(date_id>={tst_start})\")]\n",
    "    y_tst=X_tst.target\n",
    "    X_tst.drop(columns=['target'],inplace=True)\n",
    "    \n",
    "    X_val=X[X.eval(f\"(date_id>={val_start}) & (date_id<{tst_start})\")]\n",
    "    y_val= X_val.target\n",
    "    X_val.drop(columns=['target'],inplace=True)\n",
    "   \n",
    "    X_train=X[X.eval(f\"(date_id<{val_start})\")]\n",
    "    y_train= X_train.target\n",
    "    X_train.drop(columns=['target'],inplace=True)\n",
    "    return  X_train, X_val,X_tst, y_train, y_val,y_tst\n"
   ]
  },
  {
   "cell_type": "code",
   "execution_count": 85,
   "id": "6a967230-df76-4c92-bfdf-a7ee2c1cb993",
   "metadata": {},
   "outputs": [
    {
     "name": "stdout",
     "output_type": "stream",
     "text": [
      "min_date=0.0,max_date=480.0, val_start=344.0, tst_start=384.0\n",
      "train : (1695850, 89), valid : (200000, 89), test: (484950, 89)\n"
     ]
    }
   ],
   "source": [
    "X_train, X_val,X_tst, y_train, y_val,y_tst=getDatasets(df,dep_var='target')\n",
    "\n",
    "print(f\"train : {X_train.shape}, valid : {X_val.shape}, test: {X_tst.shape}\")"
   ]
  },
  {
   "cell_type": "code",
   "execution_count": 147,
   "id": "1d80d579-5eb7-4d00-9918-3fe21134a1e1",
   "metadata": {},
   "outputs": [
    {
     "name": "stdout",
     "output_type": "stream",
     "text": [
      "min_date=421.0,max_date=480.0, val_start=463.0, tst_start=469.0\n",
      "train : (461945, 91), valid : (66000, 91), test: (132000, 91)\n"
     ]
    }
   ],
   "source": [
    "# X_train, X_val,X_tst, y_train, y_val,y_tst=getDatasets(df,dep_var='target')\n",
    "\n",
    "# print(f\"train : {X_train.shape}, valid : {X_val.shape}, test: {X_tst.shape}\")"
   ]
  },
  {
   "cell_type": "code",
   "execution_count": null,
   "id": "99cf5801-248b-4516-ab29-1b3da12fb351",
   "metadata": {},
   "outputs": [],
   "source": [
    "# global_stock_id_feats = {\n",
    "#     \"median_size\": df_train.groupby(\"stock_id\")[\"bid_size\"].median() + df_train.groupby(\"stock_id\")[\"ask_size\"].median(),\n",
    "#     \"std_size\": df_train.groupby(\"stock_id\")[\"bid_size\"].std() + df_train.groupby(\"stock_id\")[\"ask_size\"].std(),\n",
    "#     \"ptp_size\": df_train.groupby(\"stock_id\")[\"bid_size\"].max() - df_train.groupby(\"stock_id\")[\"bid_size\"].min(),\n",
    "#     \"median_price\": df_train.groupby(\"stock_id\")[\"bid_price\"].median() + df_train.groupby(\"stock_id\")[\"ask_price\"].median(),\n",
    "#     \"std_price\": df_train.groupby(\"stock_id\")[\"bid_price\"].std() + df_train.groupby(\"stock_id\")[\"ask_price\"].std(),\n",
    "#     \"ptp_price\": df_train.groupby(\"stock_id\")[\"bid_price\"].max() - df_train.groupby(\"stock_id\")[\"ask_price\"].min(),\n",
    "# }\n",
    "\n",
    "#turn logger on or off\n",
    "# logger = logging.getLogger()\n",
    "# logger.disabled = True\n",
    "\n",
    "# df_train = generate_all_features(X_train)\n",
    "# print(\"Build Train Feats Finished.\")\n",
    "# df_valid = generate_all_features(X_val)\n",
    "# print(\"Build Valid Feats Finished.\")\n",
    "# df_valid = reduce_mem_usage(df_valid)\n",
    "# df_train = reduce_mem_usage(df_train)"
   ]
  },
  {
   "cell_type": "code",
   "execution_count": null,
   "id": "efeaba93-0048-4eaa-bf10-f3f062edff24",
   "metadata": {},
   "outputs": [],
   "source": [
    "# df_train.isnull().sum()\n",
    "\n",
    "# for c in df_train.columns:\n",
    "#     if \"diff\" in c:\n",
    "#         print(c)"
   ]
  },
  {
   "cell_type": "markdown",
   "id": "b7c0ef75-a385-40ea-b0b9-451a28c6dbde",
   "metadata": {},
   "source": [
    "# Simple evaluation"
   ]
  },
  {
   "cell_type": "code",
   "execution_count": 67,
   "id": "1c5bd602-0654-4747-ad78-6b77abcb2f73",
   "metadata": {},
   "outputs": [],
   "source": [
    "def evaluate_simple(model):\n",
    "    model.fit(X_train, y_train, eval_set=[(X_val, y_val)], callbacks=[lgb.early_stopping(50, verbose=False)])\n",
    "\n",
    "    y_pred = model.predict(X_tst)\n",
    "    return mean_absolute_error(y_pred, y_tst)"
   ]
  },
  {
   "cell_type": "code",
   "execution_count": 68,
   "id": "bcd61851-7ea3-497d-935c-5eb07ea0150b",
   "metadata": {},
   "outputs": [
    {
     "data": {
      "text/plain": [
       "6.0618359609638075"
      ]
     },
     "execution_count": 68,
     "metadata": {},
     "output_type": "execute_result"
    }
   ],
   "source": [
    "#just predict 0's\n",
    "mean_absolute_error([0]*len(y_tst), y_tst)"
   ]
  },
  {
   "cell_type": "code",
   "execution_count": 59,
   "id": "bde5a8e6-b950-47c7-a610-db994bd12efe",
   "metadata": {},
   "outputs": [
    {
     "name": "stdout",
     "output_type": "stream",
     "text": [
      "[LightGBM] [Info] Auto-choosing col-wise multi-threading, the overhead of testing was 0.814005 seconds.\n",
      "You can set `force_col_wise=true` to remove the overhead.\n",
      "[LightGBM] [Info] Total Bins 19916\n",
      "[LightGBM] [Info] Number of data points in the train set: 3729670, number of used features: 91\n",
      "[LightGBM] [Info] Start training from score -0.045557\n",
      "MAE=5.968113094147709\n"
     ]
    }
   ],
   "source": [
    "# all fields\n",
    "# lightgbm params\n",
    "params = {\n",
    "    'random_seed':123\n",
    "}\n",
    "model = lgb.LGBMRegressor()\n",
    "print(f\"MAE={evaluate_simple(model)}\")"
   ]
  },
  {
   "cell_type": "code",
   "execution_count": 74,
   "id": "6cd5f433-a3a8-4b80-b7f7-7fc13cfce1cb",
   "metadata": {},
   "outputs": [
    {
     "name": "stdout",
     "output_type": "stream",
     "text": [
      "[LightGBM] [Info] Auto-choosing col-wise multi-threading, the overhead of testing was 0.793314 seconds.\n",
      "You can set `force_col_wise=true` to remove the overhead.\n",
      "[LightGBM] [Info] Total Bins 19912\n",
      "[LightGBM] [Info] Number of data points in the train set: 3729670, number of used features: 89\n",
      "[LightGBM] [Info] Start training from score -0.045557\n",
      "MAE=5.968113094147709\n"
     ]
    }
   ],
   "source": [
    "# remove syn_ booleans for near and far\n",
    "params = {\n",
    "    'random_seed':123\n",
    "}\n",
    "model = lgb.LGBMRegressor()\n",
    "print(f\"MAE={evaluate_simple(model)}\")"
   ]
  },
  {
   "cell_type": "code",
   "execution_count": 87,
   "id": "3106237b-ca46-4734-b22f-2deb07adf50c",
   "metadata": {},
   "outputs": [
    {
     "name": "stdout",
     "output_type": "stream",
     "text": [
      "min_date=0.0,max_date=480.0, val_start=344.0, tst_start=384.0\n",
      "[LightGBM] [Info] Auto-choosing col-wise multi-threading, the overhead of testing was 0.327842 seconds.\n",
      "You can set `force_col_wise=true` to remove the overhead.\n",
      "[LightGBM] [Info] Total Bins 19882\n",
      "[LightGBM] [Info] Number of data points in the train set: 1695850, number of used features: 89\n",
      "[LightGBM] [Info] Start training from score -0.034302\n",
      "MAE=5.193618272135373\n"
     ]
    }
   ],
   "source": [
    "#REMOVE all rows with synthesized near_price and far_price\n",
    "params = {\n",
    "    'random_seed':123\n",
    "}\n",
    "df=pd.read_parquet(\"./tmpall.parquet\")\n",
    "# remove syn generated near_price and far price rows\n",
    "df=df[df.syn_near_price==0]\n",
    "bs.remove_syn_columns(df)\n",
    "X_train, X_val,X_tst, y_train, y_val,y_tst=getDatasets(df,dep_var='target')\n",
    "\n",
    "model = lgb.LGBMRegressor()\n",
    "print(f\"MAE={evaluate_simple(model)}\")"
   ]
  },
  {
   "cell_type": "code",
   "execution_count": 88,
   "id": "dc113052-07a5-4544-980d-e2fd5914265b",
   "metadata": {},
   "outputs": [
    {
     "name": "stdout",
     "output_type": "stream",
     "text": [
      "min_date=0.0,max_date=480.0, val_start=344.0, tst_start=384.0\n",
      "[LightGBM] [Info] Auto-choosing col-wise multi-threading, the overhead of testing was 0.413243 seconds.\n",
      "You can set `force_col_wise=true` to remove the overhead.\n",
      "[LightGBM] [Info] Total Bins 19886\n",
      "[LightGBM] [Info] Number of data points in the train set: 2033820, number of used features: 89\n",
      "[LightGBM] [Info] Start training from score -0.054942\n",
      "MAE=6.612678029538885\n"
     ]
    }
   ],
   "source": [
    "#KEEP all rows with synthesized near_price and far_price\n",
    "#synthetic features really mess it up\n",
    "params = {\n",
    "    'random_seed':123\n",
    "}\n",
    "df=pd.read_parquet(\"./tmpall.parquet\")\n",
    "# remove syn generated near_price and far price rows\n",
    "df=df[df.syn_near_price==1]\n",
    "bs.remove_syn_columns(df)\n",
    "X_train, X_val,X_tst, y_train, y_val,y_tst=getDatasets(df,dep_var='target')\n",
    "\n",
    "model = lgb.LGBMRegressor()\n",
    "print(f\"MAE={evaluate_simple(model)}\")"
   ]
  },
  {
   "cell_type": "code",
   "execution_count": 89,
   "id": "8a97adbc-62a6-44af-ad37-61c90e70d652",
   "metadata": {},
   "outputs": [
    {
     "name": "stdout",
     "output_type": "stream",
     "text": [
      "min_date=0.0,max_date=480.0, val_start=344.0, tst_start=384.0\n",
      "[LightGBM] [Info] Auto-choosing col-wise multi-threading, the overhead of testing was 0.592212 seconds.\n",
      "You can set `force_col_wise=true` to remove the overhead.\n",
      "[LightGBM] [Info] Total Bins 19121\n",
      "[LightGBM] [Info] Number of data points in the train set: 2033820, number of used features: 86\n",
      "[LightGBM] [Info] Start training from score -0.054942\n",
      "MAE=6.6132097021757525\n"
     ]
    }
   ],
   "source": [
    "#Select only rows with synthesized near_price and far_price\n",
    "#drop near_price and far_price columns\n",
    "params = {\n",
    "    'random_seed':123\n",
    "}\n",
    "df=pd.read_parquet(\"./tmpall.parquet\")\n",
    "# remove syn generated near_price and far price rows\n",
    "df=df[df.syn_near_price==1]\n",
    "bs.remove_syn_columns(df)\n",
    "df.drop(columns=['depth_pressure','near_price','far_price'],axis=1,inplace=True)\n",
    "X_train, X_val,X_tst, y_train, y_val,y_tst=getDatasets(df,dep_var='target')\n",
    "\n",
    "model = lgb.LGBMRegressor()\n",
    "print(f\"MAE={evaluate_simple(model)}\")"
   ]
  },
  {
   "cell_type": "code",
   "execution_count": null,
   "id": "aac9b455-2139-4400-ad2b-9fb7c1945980",
   "metadata": {},
   "outputs": [],
   "source": [
    "df=pd.read_parquet(\"./tmpall.parquet\")\n",
    "X_train, X_val,X_tst, y_train, y_val,y_tst=getDatasets(df,dep_var='target')\n"
   ]
  },
  {
   "cell_type": "markdown",
   "id": "20aabdbe-5934-4265-be87-5a67e20fad84",
   "metadata": {},
   "source": [
    "# Hyperparameter Optimization\n",
    "\n",
    "Evaluation via Cross Validation with TimeSeriesSplit¶"
   ]
  },
  {
   "cell_type": "code",
   "execution_count": null,
   "id": "7b088352-0759-48d1-a98e-8b3e0b6b04f9",
   "metadata": {},
   "outputs": [],
   "source": [
    "# !pip install catboost\n",
    "# from catboost import CatBoostRegressor\n",
    "\n",
    "# !pip install optuna"
   ]
  },
  {
   "cell_type": "code",
   "execution_count": 279,
   "id": "de5cb431-2f79-4ee8-a028-4b515bb88df5",
   "metadata": {},
   "outputs": [],
   "source": [
    "from catboost import CatBoostRegressor\n",
    "def objective(trial):\n",
    "    #lightgbm params\n",
    "    # params = {\n",
    "    #     'random_seed':123,\n",
    "    #     'n_estimators':trial.suggest_int('n_estimators', 300, 1000),\n",
    "    #     'num_leaves':trial.suggest_int('num_leaves', 4, 32),\n",
    "    #     'max_depth':trial.suggest_int(\"max_depth\",1,10)\n",
    "    # }\n",
    "\n",
    "    #catboost params\n",
    "    params = {\n",
    "        'learning_rate':trial.suggest_discrete_uniform(\"learning_rate\", 0.001, 0.09, 0.001),\n",
    "        'depth': trial.suggest_int(\"depth\", 1, 12),\n",
    "        'l2_leaf_reg':trial.suggest_discrete_uniform('l2_leaf_reg', 1.0, 5.5, 0.5),\n",
    "        'iterations':1000,\n",
    "        'silent':True,\n",
    "        'random_state':42\n",
    "    }\n",
    "\n",
    "    model = CatBoostRegressor(**params,\n",
    "                          loss_function='RMSE')\n",
    "    # model = lgb.LGBMRegressor(**params)\n",
    "    # model.fit(X_train, y_train, eval_set=[(X_val, y_val)], callbacks=[lgb.early_stopping(50, verbose=False)])\n",
    "    model.fit(df_train, y_train, eval_set=[(df_valid, y_val)])\n",
    "\n",
    "  \n",
    "    y_pred = model.predict(X_tst)\n",
    "    score = mean_absolute_error(y_tst, y_pred)\n",
    "    return score"
   ]
  },
  {
   "cell_type": "code",
   "execution_count": 151,
   "id": "e5ff13bc-bedb-4fa2-bf38-ff42574aefdc",
   "metadata": {},
   "outputs": [],
   "source": [
    "# %%time\n",
    "# import optuna\n",
    "# import sklearn\n",
    "\n",
    "# def objective(model,data=X_train, target=y_train):\n",
    "#     scores = np.zeros(cv.n_splits)\n",
    "#     params = {\n",
    "#         'random_seed':123,\n",
    "#         'n_estimators'    :trial.suggest_int('n_estimators', 300, 1000),\n",
    "#         'num_leaves'      :trial.suggest_int('num_leaves', 4, 32),\n",
    "#         'max_depth'       :trial.suggest_int(\"max_depth\",1,10)}\n",
    "            \n",
    "#     model = lgbm.LGBMRegressor(**params)\n",
    "#     model.fit(X_train, y_train, eval_set=[(X_val, y_val)], callbacks=[lgb.early_stopping(50, verbose=False)])\n",
    "  \n",
    "#     y_pred = model.predict(X_tst)\n",
    "#     score = mean_absolute_error(y_tst, y_pred)\n",
    "    \n",
    "#     return score"
   ]
  },
  {
   "cell_type": "code",
   "execution_count": 257,
   "id": "229f2c01-eca5-4320-8ef0-d06df475b432",
   "metadata": {},
   "outputs": [],
   "source": [
    "SEED=42"
   ]
  },
  {
   "cell_type": "code",
   "execution_count": 258,
   "id": "5eea2ce2-c820-4c54-a85f-9c1aac27bb10",
   "metadata": {},
   "outputs": [
    {
     "data": {
      "text/plain": [
       "stock_id                      0\n",
       "seconds_in_bucket             0\n",
       "imbalance_size                0\n",
       "imbalance_buy_sell_flag       0\n",
       "reference_price               0\n",
       "                           ... \n",
       "size_imbalance_diff_3       600\n",
       "size_imbalance_diff_10     2000\n",
       "dow                           0\n",
       "seconds                       0\n",
       "minute                        0\n",
       "Length: 112, dtype: int64"
      ]
     },
     "execution_count": 258,
     "metadata": {},
     "output_type": "execute_result"
    }
   ],
   "source": [
    "df_train.isnull().sum()"
   ]
  },
  {
   "cell_type": "code",
   "execution_count": null,
   "id": "4a30139b-fc27-4e8e-a125-ffe6ad147366",
   "metadata": {},
   "outputs": [],
   "source": [
    "X_train.drop(columns=['row_id'],inplace=True)\n",
    "X_val.drop(columns=['row_id'],inplace=True)\n",
    "X_tst.drop(columns=['row_id'],inplace=True)"
   ]
  },
  {
   "cell_type": "code",
   "execution_count": null,
   "id": "25c0c17b-0b22-45e1-b861-bb7847193894",
   "metadata": {},
   "outputs": [],
   "source": [
    "%%time\n",
    "import optuna\n",
    "import sklearn\n",
    "study = optuna.create_study(\n",
    "    direction=\"minimize\",\n",
    "    sampler=optuna.samplers.TPESampler(seed=SEED),\n",
    "    pruner=optuna.pruners.MedianPruner(n_warmup_steps=10),\n",
    ")\n",
    "study.optimize(objective, n_trials=100, timeout=600)"
   ]
  },
  {
   "cell_type": "code",
   "execution_count": 280,
   "id": "78228743-aa35-4cf6-af77-6f2c5d6c0991",
   "metadata": {},
   "outputs": [
    {
     "name": "stderr",
     "output_type": "stream",
     "text": [
      "[I 2023-12-04 22:28:55,742] A new study created in memory with name: no-name-2ffe3a7d-c62f-4a62-a31e-7cfc5a0dee8c\n",
      "[W 2023-12-04 22:39:04,923] Trial 0 failed with parameters: {'learning_rate': 0.034, 'depth': 12, 'l2_leaf_reg': 4.5} because of the following error: CatBoostError('/src/catboost/catboost/libs/data/model_dataset_compatibility.cpp:81: At position 1 should be feature with name seconds_in_bucket (found date_id).').\n",
      "Traceback (most recent call last):\n",
      "  File \"/home/keith/anaconda3/envs/p39/lib/python3.9/site-packages/optuna/study/_optimize.py\", line 200, in _run_trial\n",
      "    value_or_values = func(trial)\n",
      "  File \"/tmp/ipykernel_4163/2965964892.py\", line 28, in objective\n",
      "    y_pred = model.predict(X_tst)\n",
      "  File \"/home/keith/anaconda3/envs/p39/lib/python3.9/site-packages/catboost/core.py\", line 5748, in predict\n",
      "    return self._predict(data, prediction_type, ntree_start, ntree_end, thread_count, verbose, 'predict', task_type)\n",
      "  File \"/home/keith/anaconda3/envs/p39/lib/python3.9/site-packages/catboost/core.py\", line 2508, in _predict\n",
      "    predictions = self._base_predict(data, prediction_type, ntree_start, ntree_end, thread_count, verbose, task_type)\n",
      "  File \"/home/keith/anaconda3/envs/p39/lib/python3.9/site-packages/catboost/core.py\", line 1775, in _base_predict\n",
      "    return self._object._base_predict(pool, prediction_type, ntree_start, ntree_end, thread_count, verbose, task_type)\n",
      "  File \"_catboost.pyx\", line 4781, in _catboost._CatBoost._base_predict\n",
      "  File \"_catboost.pyx\", line 4788, in _catboost._CatBoost._base_predict\n",
      "_catboost.CatBoostError: /src/catboost/catboost/libs/data/model_dataset_compatibility.cpp:81: At position 1 should be feature with name seconds_in_bucket (found date_id).\n",
      "[W 2023-12-04 22:39:04,924] Trial 0 failed with value None.\n"
     ]
    },
    {
     "ename": "CatBoostError",
     "evalue": "/src/catboost/catboost/libs/data/model_dataset_compatibility.cpp:81: At position 1 should be feature with name seconds_in_bucket (found date_id).",
     "output_type": "error",
     "traceback": [
      "\u001b[0;31m---------------------------------------------------------------------------\u001b[0m",
      "\u001b[0;31mCatBoostError\u001b[0m                             Traceback (most recent call last)",
      "File \u001b[0;32m<timed exec>:9\u001b[0m\n",
      "File \u001b[0;32m~/anaconda3/envs/p39/lib/python3.9/site-packages/optuna/study/study.py:451\u001b[0m, in \u001b[0;36mStudy.optimize\u001b[0;34m(self, func, n_trials, timeout, n_jobs, catch, callbacks, gc_after_trial, show_progress_bar)\u001b[0m\n\u001b[1;32m    348\u001b[0m \u001b[38;5;28;01mdef\u001b[39;00m \u001b[38;5;21moptimize\u001b[39m(\n\u001b[1;32m    349\u001b[0m     \u001b[38;5;28mself\u001b[39m,\n\u001b[1;32m    350\u001b[0m     func: ObjectiveFuncType,\n\u001b[0;32m   (...)\u001b[0m\n\u001b[1;32m    357\u001b[0m     show_progress_bar: \u001b[38;5;28mbool\u001b[39m \u001b[38;5;241m=\u001b[39m \u001b[38;5;28;01mFalse\u001b[39;00m,\n\u001b[1;32m    358\u001b[0m ) \u001b[38;5;241m-\u001b[39m\u001b[38;5;241m>\u001b[39m \u001b[38;5;28;01mNone\u001b[39;00m:\n\u001b[1;32m    359\u001b[0m \u001b[38;5;250m    \u001b[39m\u001b[38;5;124;03m\"\"\"Optimize an objective function.\u001b[39;00m\n\u001b[1;32m    360\u001b[0m \n\u001b[1;32m    361\u001b[0m \u001b[38;5;124;03m    Optimization is done by choosing a suitable set of hyperparameter values from a given\u001b[39;00m\n\u001b[0;32m   (...)\u001b[0m\n\u001b[1;32m    449\u001b[0m \u001b[38;5;124;03m            If nested invocation of this method occurs.\u001b[39;00m\n\u001b[1;32m    450\u001b[0m \u001b[38;5;124;03m    \"\"\"\u001b[39;00m\n\u001b[0;32m--> 451\u001b[0m     \u001b[43m_optimize\u001b[49m\u001b[43m(\u001b[49m\n\u001b[1;32m    452\u001b[0m \u001b[43m        \u001b[49m\u001b[43mstudy\u001b[49m\u001b[38;5;241;43m=\u001b[39;49m\u001b[38;5;28;43mself\u001b[39;49m\u001b[43m,\u001b[49m\n\u001b[1;32m    453\u001b[0m \u001b[43m        \u001b[49m\u001b[43mfunc\u001b[49m\u001b[38;5;241;43m=\u001b[39;49m\u001b[43mfunc\u001b[49m\u001b[43m,\u001b[49m\n\u001b[1;32m    454\u001b[0m \u001b[43m        \u001b[49m\u001b[43mn_trials\u001b[49m\u001b[38;5;241;43m=\u001b[39;49m\u001b[43mn_trials\u001b[49m\u001b[43m,\u001b[49m\n\u001b[1;32m    455\u001b[0m \u001b[43m        \u001b[49m\u001b[43mtimeout\u001b[49m\u001b[38;5;241;43m=\u001b[39;49m\u001b[43mtimeout\u001b[49m\u001b[43m,\u001b[49m\n\u001b[1;32m    456\u001b[0m \u001b[43m        \u001b[49m\u001b[43mn_jobs\u001b[49m\u001b[38;5;241;43m=\u001b[39;49m\u001b[43mn_jobs\u001b[49m\u001b[43m,\u001b[49m\n\u001b[1;32m    457\u001b[0m \u001b[43m        \u001b[49m\u001b[43mcatch\u001b[49m\u001b[38;5;241;43m=\u001b[39;49m\u001b[38;5;28;43mtuple\u001b[39;49m\u001b[43m(\u001b[49m\u001b[43mcatch\u001b[49m\u001b[43m)\u001b[49m\u001b[43m \u001b[49m\u001b[38;5;28;43;01mif\u001b[39;49;00m\u001b[43m \u001b[49m\u001b[38;5;28;43misinstance\u001b[39;49m\u001b[43m(\u001b[49m\u001b[43mcatch\u001b[49m\u001b[43m,\u001b[49m\u001b[43m \u001b[49m\u001b[43mIterable\u001b[49m\u001b[43m)\u001b[49m\u001b[43m \u001b[49m\u001b[38;5;28;43;01melse\u001b[39;49;00m\u001b[43m \u001b[49m\u001b[43m(\u001b[49m\u001b[43mcatch\u001b[49m\u001b[43m,\u001b[49m\u001b[43m)\u001b[49m\u001b[43m,\u001b[49m\n\u001b[1;32m    458\u001b[0m \u001b[43m        \u001b[49m\u001b[43mcallbacks\u001b[49m\u001b[38;5;241;43m=\u001b[39;49m\u001b[43mcallbacks\u001b[49m\u001b[43m,\u001b[49m\n\u001b[1;32m    459\u001b[0m \u001b[43m        \u001b[49m\u001b[43mgc_after_trial\u001b[49m\u001b[38;5;241;43m=\u001b[39;49m\u001b[43mgc_after_trial\u001b[49m\u001b[43m,\u001b[49m\n\u001b[1;32m    460\u001b[0m \u001b[43m        \u001b[49m\u001b[43mshow_progress_bar\u001b[49m\u001b[38;5;241;43m=\u001b[39;49m\u001b[43mshow_progress_bar\u001b[49m\u001b[43m,\u001b[49m\n\u001b[1;32m    461\u001b[0m \u001b[43m    \u001b[49m\u001b[43m)\u001b[49m\n",
      "File \u001b[0;32m~/anaconda3/envs/p39/lib/python3.9/site-packages/optuna/study/_optimize.py:66\u001b[0m, in \u001b[0;36m_optimize\u001b[0;34m(study, func, n_trials, timeout, n_jobs, catch, callbacks, gc_after_trial, show_progress_bar)\u001b[0m\n\u001b[1;32m     64\u001b[0m \u001b[38;5;28;01mtry\u001b[39;00m:\n\u001b[1;32m     65\u001b[0m     \u001b[38;5;28;01mif\u001b[39;00m n_jobs \u001b[38;5;241m==\u001b[39m \u001b[38;5;241m1\u001b[39m:\n\u001b[0;32m---> 66\u001b[0m         \u001b[43m_optimize_sequential\u001b[49m\u001b[43m(\u001b[49m\n\u001b[1;32m     67\u001b[0m \u001b[43m            \u001b[49m\u001b[43mstudy\u001b[49m\u001b[43m,\u001b[49m\n\u001b[1;32m     68\u001b[0m \u001b[43m            \u001b[49m\u001b[43mfunc\u001b[49m\u001b[43m,\u001b[49m\n\u001b[1;32m     69\u001b[0m \u001b[43m            \u001b[49m\u001b[43mn_trials\u001b[49m\u001b[43m,\u001b[49m\n\u001b[1;32m     70\u001b[0m \u001b[43m            \u001b[49m\u001b[43mtimeout\u001b[49m\u001b[43m,\u001b[49m\n\u001b[1;32m     71\u001b[0m \u001b[43m            \u001b[49m\u001b[43mcatch\u001b[49m\u001b[43m,\u001b[49m\n\u001b[1;32m     72\u001b[0m \u001b[43m            \u001b[49m\u001b[43mcallbacks\u001b[49m\u001b[43m,\u001b[49m\n\u001b[1;32m     73\u001b[0m \u001b[43m            \u001b[49m\u001b[43mgc_after_trial\u001b[49m\u001b[43m,\u001b[49m\n\u001b[1;32m     74\u001b[0m \u001b[43m            \u001b[49m\u001b[43mreseed_sampler_rng\u001b[49m\u001b[38;5;241;43m=\u001b[39;49m\u001b[38;5;28;43;01mFalse\u001b[39;49;00m\u001b[43m,\u001b[49m\n\u001b[1;32m     75\u001b[0m \u001b[43m            \u001b[49m\u001b[43mtime_start\u001b[49m\u001b[38;5;241;43m=\u001b[39;49m\u001b[38;5;28;43;01mNone\u001b[39;49;00m\u001b[43m,\u001b[49m\n\u001b[1;32m     76\u001b[0m \u001b[43m            \u001b[49m\u001b[43mprogress_bar\u001b[49m\u001b[38;5;241;43m=\u001b[39;49m\u001b[43mprogress_bar\u001b[49m\u001b[43m,\u001b[49m\n\u001b[1;32m     77\u001b[0m \u001b[43m        \u001b[49m\u001b[43m)\u001b[49m\n\u001b[1;32m     78\u001b[0m     \u001b[38;5;28;01melse\u001b[39;00m:\n\u001b[1;32m     79\u001b[0m         \u001b[38;5;28;01mif\u001b[39;00m n_jobs \u001b[38;5;241m==\u001b[39m \u001b[38;5;241m-\u001b[39m\u001b[38;5;241m1\u001b[39m:\n",
      "File \u001b[0;32m~/anaconda3/envs/p39/lib/python3.9/site-packages/optuna/study/_optimize.py:163\u001b[0m, in \u001b[0;36m_optimize_sequential\u001b[0;34m(study, func, n_trials, timeout, catch, callbacks, gc_after_trial, reseed_sampler_rng, time_start, progress_bar)\u001b[0m\n\u001b[1;32m    160\u001b[0m         \u001b[38;5;28;01mbreak\u001b[39;00m\n\u001b[1;32m    162\u001b[0m \u001b[38;5;28;01mtry\u001b[39;00m:\n\u001b[0;32m--> 163\u001b[0m     frozen_trial \u001b[38;5;241m=\u001b[39m \u001b[43m_run_trial\u001b[49m\u001b[43m(\u001b[49m\u001b[43mstudy\u001b[49m\u001b[43m,\u001b[49m\u001b[43m \u001b[49m\u001b[43mfunc\u001b[49m\u001b[43m,\u001b[49m\u001b[43m \u001b[49m\u001b[43mcatch\u001b[49m\u001b[43m)\u001b[49m\n\u001b[1;32m    164\u001b[0m \u001b[38;5;28;01mfinally\u001b[39;00m:\n\u001b[1;32m    165\u001b[0m     \u001b[38;5;66;03m# The following line mitigates memory problems that can be occurred in some\u001b[39;00m\n\u001b[1;32m    166\u001b[0m     \u001b[38;5;66;03m# environments (e.g., services that use computing containers such as GitHub Actions).\u001b[39;00m\n\u001b[1;32m    167\u001b[0m     \u001b[38;5;66;03m# Please refer to the following PR for further details:\u001b[39;00m\n\u001b[1;32m    168\u001b[0m     \u001b[38;5;66;03m# https://github.com/optuna/optuna/pull/325.\u001b[39;00m\n\u001b[1;32m    169\u001b[0m     \u001b[38;5;28;01mif\u001b[39;00m gc_after_trial:\n",
      "File \u001b[0;32m~/anaconda3/envs/p39/lib/python3.9/site-packages/optuna/study/_optimize.py:251\u001b[0m, in \u001b[0;36m_run_trial\u001b[0;34m(study, func, catch)\u001b[0m\n\u001b[1;32m    244\u001b[0m         \u001b[38;5;28;01massert\u001b[39;00m \u001b[38;5;28;01mFalse\u001b[39;00m, \u001b[38;5;124m\"\u001b[39m\u001b[38;5;124mShould not reach.\u001b[39m\u001b[38;5;124m\"\u001b[39m\n\u001b[1;32m    246\u001b[0m \u001b[38;5;28;01mif\u001b[39;00m (\n\u001b[1;32m    247\u001b[0m     frozen_trial\u001b[38;5;241m.\u001b[39mstate \u001b[38;5;241m==\u001b[39m TrialState\u001b[38;5;241m.\u001b[39mFAIL\n\u001b[1;32m    248\u001b[0m     \u001b[38;5;129;01mand\u001b[39;00m func_err \u001b[38;5;129;01mis\u001b[39;00m \u001b[38;5;129;01mnot\u001b[39;00m \u001b[38;5;28;01mNone\u001b[39;00m\n\u001b[1;32m    249\u001b[0m     \u001b[38;5;129;01mand\u001b[39;00m \u001b[38;5;129;01mnot\u001b[39;00m \u001b[38;5;28misinstance\u001b[39m(func_err, catch)\n\u001b[1;32m    250\u001b[0m ):\n\u001b[0;32m--> 251\u001b[0m     \u001b[38;5;28;01mraise\u001b[39;00m func_err\n\u001b[1;32m    252\u001b[0m \u001b[38;5;28;01mreturn\u001b[39;00m frozen_trial\n",
      "File \u001b[0;32m~/anaconda3/envs/p39/lib/python3.9/site-packages/optuna/study/_optimize.py:200\u001b[0m, in \u001b[0;36m_run_trial\u001b[0;34m(study, func, catch)\u001b[0m\n\u001b[1;32m    198\u001b[0m \u001b[38;5;28;01mwith\u001b[39;00m get_heartbeat_thread(trial\u001b[38;5;241m.\u001b[39m_trial_id, study\u001b[38;5;241m.\u001b[39m_storage):\n\u001b[1;32m    199\u001b[0m     \u001b[38;5;28;01mtry\u001b[39;00m:\n\u001b[0;32m--> 200\u001b[0m         value_or_values \u001b[38;5;241m=\u001b[39m \u001b[43mfunc\u001b[49m\u001b[43m(\u001b[49m\u001b[43mtrial\u001b[49m\u001b[43m)\u001b[49m\n\u001b[1;32m    201\u001b[0m     \u001b[38;5;28;01mexcept\u001b[39;00m exceptions\u001b[38;5;241m.\u001b[39mTrialPruned \u001b[38;5;28;01mas\u001b[39;00m e:\n\u001b[1;32m    202\u001b[0m         \u001b[38;5;66;03m# TODO(mamu): Handle multi-objective cases.\u001b[39;00m\n\u001b[1;32m    203\u001b[0m         state \u001b[38;5;241m=\u001b[39m TrialState\u001b[38;5;241m.\u001b[39mPRUNED\n",
      "Cell \u001b[0;32mIn[279], line 28\u001b[0m, in \u001b[0;36mobjective\u001b[0;34m(trial)\u001b[0m\n\u001b[1;32m     23\u001b[0m \u001b[38;5;66;03m# model = lgb.LGBMRegressor(**params)\u001b[39;00m\n\u001b[1;32m     24\u001b[0m \u001b[38;5;66;03m# model.fit(X_train, y_train, eval_set=[(X_val, y_val)], callbacks=[lgb.early_stopping(50, verbose=False)])\u001b[39;00m\n\u001b[1;32m     25\u001b[0m model\u001b[38;5;241m.\u001b[39mfit(df_train, y_train, eval_set\u001b[38;5;241m=\u001b[39m[(df_valid, y_val)])\n\u001b[0;32m---> 28\u001b[0m y_pred \u001b[38;5;241m=\u001b[39m \u001b[43mmodel\u001b[49m\u001b[38;5;241;43m.\u001b[39;49m\u001b[43mpredict\u001b[49m\u001b[43m(\u001b[49m\u001b[43mX_tst\u001b[49m\u001b[43m)\u001b[49m\n\u001b[1;32m     29\u001b[0m score \u001b[38;5;241m=\u001b[39m mean_absolute_error(y_tst, y_pred)\n\u001b[1;32m     30\u001b[0m \u001b[38;5;28;01mreturn\u001b[39;00m score\n",
      "File \u001b[0;32m~/anaconda3/envs/p39/lib/python3.9/site-packages/catboost/core.py:5748\u001b[0m, in \u001b[0;36mCatBoostRegressor.predict\u001b[0;34m(self, data, prediction_type, ntree_start, ntree_end, thread_count, verbose, task_type)\u001b[0m\n\u001b[1;32m   5746\u001b[0m \u001b[38;5;28;01mif\u001b[39;00m prediction_type \u001b[38;5;129;01mis\u001b[39;00m \u001b[38;5;28;01mNone\u001b[39;00m:\n\u001b[1;32m   5747\u001b[0m     prediction_type \u001b[38;5;241m=\u001b[39m \u001b[38;5;28mself\u001b[39m\u001b[38;5;241m.\u001b[39m_get_default_prediction_type()\n\u001b[0;32m-> 5748\u001b[0m \u001b[38;5;28;01mreturn\u001b[39;00m \u001b[38;5;28;43mself\u001b[39;49m\u001b[38;5;241;43m.\u001b[39;49m\u001b[43m_predict\u001b[49m\u001b[43m(\u001b[49m\u001b[43mdata\u001b[49m\u001b[43m,\u001b[49m\u001b[43m \u001b[49m\u001b[43mprediction_type\u001b[49m\u001b[43m,\u001b[49m\u001b[43m \u001b[49m\u001b[43mntree_start\u001b[49m\u001b[43m,\u001b[49m\u001b[43m \u001b[49m\u001b[43mntree_end\u001b[49m\u001b[43m,\u001b[49m\u001b[43m \u001b[49m\u001b[43mthread_count\u001b[49m\u001b[43m,\u001b[49m\u001b[43m \u001b[49m\u001b[43mverbose\u001b[49m\u001b[43m,\u001b[49m\u001b[43m \u001b[49m\u001b[38;5;124;43m'\u001b[39;49m\u001b[38;5;124;43mpredict\u001b[39;49m\u001b[38;5;124;43m'\u001b[39;49m\u001b[43m,\u001b[49m\u001b[43m \u001b[49m\u001b[43mtask_type\u001b[49m\u001b[43m)\u001b[49m\n",
      "File \u001b[0;32m~/anaconda3/envs/p39/lib/python3.9/site-packages/catboost/core.py:2508\u001b[0m, in \u001b[0;36mCatBoost._predict\u001b[0;34m(self, data, prediction_type, ntree_start, ntree_end, thread_count, verbose, parent_method_name, task_type)\u001b[0m\n\u001b[1;32m   2505\u001b[0m data, data_is_single_object \u001b[38;5;241m=\u001b[39m \u001b[38;5;28mself\u001b[39m\u001b[38;5;241m.\u001b[39m_process_predict_input_data(data, parent_method_name, thread_count)\n\u001b[1;32m   2506\u001b[0m \u001b[38;5;28mself\u001b[39m\u001b[38;5;241m.\u001b[39m_validate_prediction_type(prediction_type)\n\u001b[0;32m-> 2508\u001b[0m predictions \u001b[38;5;241m=\u001b[39m \u001b[38;5;28;43mself\u001b[39;49m\u001b[38;5;241;43m.\u001b[39;49m\u001b[43m_base_predict\u001b[49m\u001b[43m(\u001b[49m\u001b[43mdata\u001b[49m\u001b[43m,\u001b[49m\u001b[43m \u001b[49m\u001b[43mprediction_type\u001b[49m\u001b[43m,\u001b[49m\u001b[43m \u001b[49m\u001b[43mntree_start\u001b[49m\u001b[43m,\u001b[49m\u001b[43m \u001b[49m\u001b[43mntree_end\u001b[49m\u001b[43m,\u001b[49m\u001b[43m \u001b[49m\u001b[43mthread_count\u001b[49m\u001b[43m,\u001b[49m\u001b[43m \u001b[49m\u001b[43mverbose\u001b[49m\u001b[43m,\u001b[49m\u001b[43m \u001b[49m\u001b[43mtask_type\u001b[49m\u001b[43m)\u001b[49m\n\u001b[1;32m   2509\u001b[0m \u001b[38;5;28;01mreturn\u001b[39;00m predictions[\u001b[38;5;241m0\u001b[39m] \u001b[38;5;28;01mif\u001b[39;00m data_is_single_object \u001b[38;5;28;01melse\u001b[39;00m predictions\n",
      "File \u001b[0;32m~/anaconda3/envs/p39/lib/python3.9/site-packages/catboost/core.py:1775\u001b[0m, in \u001b[0;36m_CatBoostBase._base_predict\u001b[0;34m(self, pool, prediction_type, ntree_start, ntree_end, thread_count, verbose, task_type)\u001b[0m\n\u001b[1;32m   1774\u001b[0m \u001b[38;5;28;01mdef\u001b[39;00m \u001b[38;5;21m_base_predict\u001b[39m(\u001b[38;5;28mself\u001b[39m, pool, prediction_type, ntree_start, ntree_end, thread_count, verbose, task_type):\n\u001b[0;32m-> 1775\u001b[0m     \u001b[38;5;28;01mreturn\u001b[39;00m \u001b[38;5;28;43mself\u001b[39;49m\u001b[38;5;241;43m.\u001b[39;49m\u001b[43m_object\u001b[49m\u001b[38;5;241;43m.\u001b[39;49m\u001b[43m_base_predict\u001b[49m\u001b[43m(\u001b[49m\u001b[43mpool\u001b[49m\u001b[43m,\u001b[49m\u001b[43m \u001b[49m\u001b[43mprediction_type\u001b[49m\u001b[43m,\u001b[49m\u001b[43m \u001b[49m\u001b[43mntree_start\u001b[49m\u001b[43m,\u001b[49m\u001b[43m \u001b[49m\u001b[43mntree_end\u001b[49m\u001b[43m,\u001b[49m\u001b[43m \u001b[49m\u001b[43mthread_count\u001b[49m\u001b[43m,\u001b[49m\u001b[43m \u001b[49m\u001b[43mverbose\u001b[49m\u001b[43m,\u001b[49m\u001b[43m \u001b[49m\u001b[43mtask_type\u001b[49m\u001b[43m)\u001b[49m\n",
      "File \u001b[0;32m_catboost.pyx:4781\u001b[0m, in \u001b[0;36m_catboost._CatBoost._base_predict\u001b[0;34m()\u001b[0m\n",
      "File \u001b[0;32m_catboost.pyx:4788\u001b[0m, in \u001b[0;36m_catboost._CatBoost._base_predict\u001b[0;34m()\u001b[0m\n",
      "\u001b[0;31mCatBoostError\u001b[0m: /src/catboost/catboost/libs/data/model_dataset_compatibility.cpp:81: At position 1 should be feature with name seconds_in_bucket (found date_id)."
     ]
    }
   ],
   "source": [
    "%%time\n",
    "#using just 17 columns\n",
    "import optuna\n",
    "import sklearn\n",
    "study = optuna.create_study(\n",
    "    direction=\"minimize\",\n",
    "    sampler=optuna.samplers.TPESampler(seed=SEED),\n",
    "    pruner=optuna.pruners.MedianPruner(n_warmup_steps=10),\n",
    ")\n",
    "study.optimize(objective, n_trials=100, timeout=600)"
   ]
  },
  {
   "cell_type": "code",
   "execution_count": 170,
   "id": "983c38ba-d13c-48d9-922c-32b341565be7",
   "metadata": {},
   "outputs": [
    {
     "data": {
      "text/plain": [
       "stock_id                     int64\n",
       "date_id                      int64\n",
       "seconds_in_bucket            int64\n",
       "imbalance_size             float64\n",
       "imbalance_buy_sell_flag      int64\n",
       "reference_price            float64\n",
       "matched_size               float64\n",
       "far_price                  float64\n",
       "near_price                 float64\n",
       "bid_price                  float64\n",
       "bid_size                   float64\n",
       "ask_price                  float64\n",
       "ask_size                   float64\n",
       "wap                        float64\n",
       "time_id                      int64\n",
       "row_id                      object\n",
       "dtype: object"
      ]
     },
     "execution_count": 170,
     "metadata": {},
     "output_type": "execute_result"
    }
   ],
   "source": [
    "X_train.dtypes"
   ]
  },
  {
   "cell_type": "code",
   "execution_count": 171,
   "id": "be372394-0a6c-4e8f-9396-0f7656baa075",
   "metadata": {},
   "outputs": [
    {
     "data": {
      "text/plain": [
       "0             421_0_0\n",
       "1             421_0_1\n",
       "2             421_0_2\n",
       "3             421_0_3\n",
       "4             421_0_4\n",
       "             ...     \n",
       "461994    462_540_195\n",
       "461995    462_540_196\n",
       "461996    462_540_197\n",
       "461997    462_540_198\n",
       "461998    462_540_199\n",
       "Name: row_id, Length: 461999, dtype: object"
      ]
     },
     "execution_count": 171,
     "metadata": {},
     "output_type": "execute_result"
    }
   ],
   "source": [
    "X_train.row_id"
   ]
  },
  {
   "cell_type": "code",
   "execution_count": null,
   "id": "17384431-8f42-4bfa-9caa-8d61f94c7135",
   "metadata": {},
   "outputs": [],
   "source": []
  }
 ],
 "metadata": {
  "kernelspec": {
   "display_name": "Python 3 (ipykernel)",
   "language": "python",
   "name": "python3"
  },
  "language_info": {
   "codemirror_mode": {
    "name": "ipython",
    "version": 3
   },
   "file_extension": ".py",
   "mimetype": "text/x-python",
   "name": "python",
   "nbconvert_exporter": "python",
   "pygments_lexer": "ipython3",
   "version": "3.9.18"
  }
 },
 "nbformat": 4,
 "nbformat_minor": 5
}
